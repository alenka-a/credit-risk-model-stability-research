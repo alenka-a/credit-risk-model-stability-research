{
 "cells": [
  {
   "cell_type": "code",
   "execution_count": 1,
   "id": "eef552a9",
   "metadata": {},
   "outputs": [],
   "source": [
    "import sys\n",
    "from pathlib import Path\n",
    "import subprocess\n",
    "import os\n",
    "import gc\n",
    "from glob import glob\n",
    "from datetime import datetime\n",
    "import json\n",
    "from os import listdir\n",
    "\n",
    "import polars as pl\n",
    "import numpy as np\n",
    "\n",
    "from tqdm.notebook import tqdm\n",
    "\n",
    "import warnings\n",
    "warnings.filterwarnings('ignore')\n",
    "\n",
    "pl.Config.set_fmt_float(\"full\")\n",
    "pl.Config.set_float_precision(4)\n",
    "\n",
    "RAND = 10"
   ]
  },
  {
   "cell_type": "code",
   "execution_count": 2,
   "id": "5d717269",
   "metadata": {},
   "outputs": [],
   "source": [
    "TRAIN_DIR = f\"parquet_files/train\"\n",
    "TEST_DIR = f\"parquet_files/test\""
   ]
  },
  {
   "cell_type": "markdown",
   "id": "e9d90a33",
   "metadata": {},
   "source": [
    "# Overview\n",
    "\n",
    "Данные взяты из соревания на Kaggle. Основная информация по данным представлена здесь https://www.kaggle.com/competitions/home-credit-credit-risk-model-stability/data\n",
    "\n",
    "Цель - предсказать, какие клиенты с большей вероятностью не смогут выплатить свои кредиты. Оценка должна быть стабильна с течением времени\n",
    "\n",
    "Основные колонки:\n",
    "- case_id -  уникальный идентификатор для каждого кредитного кейса. Этот идентификатор понадобится вам для объединения соответствующих таблиц с базовой таблицей.\n",
    "- date_decision -  дата, когда было принято решение об одобрении кредита.\n",
    "- WEEK_NUM - номер недели, используемый для агрегирования. Будет использоваться в оценке стабильности по Джини\n",
    "- **target - целевое значение, определяемое по истечении определенного периода времени в зависимости от того, допустил ли клиент дефолт по конкретному кредитному делу (займу).**\n",
    "- num_group1 - столбец индексации, используемый для исторических записей case_id как в таблицах depth=1, так и в таблицах depth=2..\n",
    "- num_group2 - второй столбец индексации для исторических записей case_id в таблицах depth=2. Порядок следования num_group 1 и num_group2 важен и будет уточнен в определениях объектов.\n",
    "\n",
    "Определения всех остальных столбцов можно найти в файле feature_definitions.csv. Для таблиц с глубиной=0 (depth=0) записи можно напрямую использовать в качестве фич. Однако для таблиц с глубиной > 0 (depth=1,2) потребуется использовать функции агрегирования, которые будут объединять исторические записи, связанные с каждым case_id, в единый объект. В случае, если num_group 1 или num_group2 обозначает индекс пользователя (это ясно из определений фичи), нулевой индекс имеет особое значение. Когда num_groupN=0, это заявитель (лицо, подавшее заявку на получение кредита)."
   ]
  },
  {
   "cell_type": "markdown",
   "id": "3daffaad",
   "metadata": {},
   "source": [
    "Для загрузки и предобработки данных будем использовать polars, т.к. файлы большие и данных много"
   ]
  },
  {
   "cell_type": "markdown",
   "id": "2999661a",
   "metadata": {},
   "source": [
    "# Files research"
   ]
  },
  {
   "cell_type": "markdown",
   "id": "9455be2a",
   "metadata": {},
   "source": [
    "Для начала посмотрим из каких файлов и данных состоит наш датасет"
   ]
  },
  {
   "cell_type": "code",
   "execution_count": 3,
   "id": "ad42cab5",
   "metadata": {},
   "outputs": [],
   "source": [
    "feature_definitions = pl.read_csv(\"feature_definitions.csv\")\n",
    "feature_definitions = dict(feature_definitions.iter_rows())"
   ]
  },
  {
   "cell_type": "code",
   "execution_count": 7,
   "id": "10b0db14",
   "metadata": {},
   "outputs": [
    {
     "data": {
      "application/vnd.jupyter.widget-view+json": {
       "model_id": "dfc0e0cfe992460fb1ce05ff39ada4d2",
       "version_major": 2,
       "version_minor": 0
      },
      "text/plain": [
       "  0%|          | 0/32 [00:00<?, ?it/s]"
      ]
     },
     "metadata": {},
     "output_type": "display_data"
    },
    {
     "data": {
      "text/html": [
       "<div>\n",
       "<style scoped>\n",
       "    .dataframe tbody tr th:only-of-type {\n",
       "        vertical-align: middle;\n",
       "    }\n",
       "\n",
       "    .dataframe tbody tr th {\n",
       "        vertical-align: top;\n",
       "    }\n",
       "\n",
       "    .dataframe thead th {\n",
       "        text-align: right;\n",
       "    }\n",
       "</style>\n",
       "<table border=\"1\" class=\"dataframe\">\n",
       "  <thead>\n",
       "    <tr style=\"text-align: right;\">\n",
       "      <th></th>\n",
       "      <th>files</th>\n",
       "      <th>height</th>\n",
       "      <th>width</th>\n",
       "      <th>null_count</th>\n",
       "      <th>isna_%</th>\n",
       "    </tr>\n",
       "  </thead>\n",
       "  <tbody>\n",
       "    <tr>\n",
       "      <th>0</th>\n",
       "      <td>train_applprev_1_0.parquet</td>\n",
       "      <td>3887684</td>\n",
       "      <td>41</td>\n",
       "      <td>49311059</td>\n",
       "      <td>0.3094</td>\n",
       "    </tr>\n",
       "    <tr>\n",
       "      <th>1</th>\n",
       "      <td>train_applprev_1_1.parquet</td>\n",
       "      <td>2638295</td>\n",
       "      <td>41</td>\n",
       "      <td>34503185</td>\n",
       "      <td>0.3190</td>\n",
       "    </tr>\n",
       "    <tr>\n",
       "      <th>2</th>\n",
       "      <td>train_applprev_2.parquet</td>\n",
       "      <td>14075487</td>\n",
       "      <td>6</td>\n",
       "      <td>16236709</td>\n",
       "      <td>0.1923</td>\n",
       "    </tr>\n",
       "    <tr>\n",
       "      <th>3</th>\n",
       "      <td>train_base.parquet</td>\n",
       "      <td>1526659</td>\n",
       "      <td>5</td>\n",
       "      <td>0</td>\n",
       "      <td>0.0000</td>\n",
       "    </tr>\n",
       "    <tr>\n",
       "      <th>4</th>\n",
       "      <td>train_credit_bureau_a_1_0.parquet</td>\n",
       "      <td>4108212</td>\n",
       "      <td>79</td>\n",
       "      <td>244050042</td>\n",
       "      <td>0.7520</td>\n",
       "    </tr>\n",
       "    <tr>\n",
       "      <th>5</th>\n",
       "      <td>train_credit_bureau_a_1_1.parquet</td>\n",
       "      <td>6009192</td>\n",
       "      <td>79</td>\n",
       "      <td>308479374</td>\n",
       "      <td>0.6498</td>\n",
       "    </tr>\n",
       "    <tr>\n",
       "      <th>6</th>\n",
       "      <td>train_credit_bureau_a_1_2.parquet</td>\n",
       "      <td>3743810</td>\n",
       "      <td>79</td>\n",
       "      <td>187095066</td>\n",
       "      <td>0.6326</td>\n",
       "    </tr>\n",
       "    <tr>\n",
       "      <th>7</th>\n",
       "      <td>train_credit_bureau_a_1_3.parquet</td>\n",
       "      <td>2079323</td>\n",
       "      <td>79</td>\n",
       "      <td>101862954</td>\n",
       "      <td>0.6201</td>\n",
       "    </tr>\n",
       "    <tr>\n",
       "      <th>8</th>\n",
       "      <td>train_credit_bureau_a_2_0.parquet</td>\n",
       "      <td>5296031</td>\n",
       "      <td>19</td>\n",
       "      <td>37184092</td>\n",
       "      <td>0.3695</td>\n",
       "    </tr>\n",
       "    <tr>\n",
       "      <th>9</th>\n",
       "      <td>train_credit_bureau_a_2_1.parquet</td>\n",
       "      <td>7861809</td>\n",
       "      <td>19</td>\n",
       "      <td>53702386</td>\n",
       "      <td>0.3595</td>\n",
       "    </tr>\n",
       "    <tr>\n",
       "      <th>10</th>\n",
       "      <td>train_credit_bureau_a_2_10.parquet</td>\n",
       "      <td>4386062</td>\n",
       "      <td>19</td>\n",
       "      <td>28029984</td>\n",
       "      <td>0.3364</td>\n",
       "    </tr>\n",
       "    <tr>\n",
       "      <th>11</th>\n",
       "      <td>train_credit_bureau_a_2_2.parquet</td>\n",
       "      <td>17893536</td>\n",
       "      <td>19</td>\n",
       "      <td>114892314</td>\n",
       "      <td>0.3379</td>\n",
       "    </tr>\n",
       "    <tr>\n",
       "      <th>12</th>\n",
       "      <td>train_credit_bureau_a_2_3.parquet</td>\n",
       "      <td>26563901</td>\n",
       "      <td>19</td>\n",
       "      <td>168378635</td>\n",
       "      <td>0.3336</td>\n",
       "    </tr>\n",
       "    <tr>\n",
       "      <th>13</th>\n",
       "      <td>train_credit_bureau_a_2_4.parquet</td>\n",
       "      <td>27025737</td>\n",
       "      <td>19</td>\n",
       "      <td>171502180</td>\n",
       "      <td>0.3340</td>\n",
       "    </tr>\n",
       "    <tr>\n",
       "      <th>14</th>\n",
       "      <td>train_credit_bureau_a_2_5.parquet</td>\n",
       "      <td>33053760</td>\n",
       "      <td>19</td>\n",
       "      <td>208735906</td>\n",
       "      <td>0.3324</td>\n",
       "    </tr>\n",
       "    <tr>\n",
       "      <th>15</th>\n",
       "      <td>train_credit_bureau_a_2_6.parquet</td>\n",
       "      <td>25511332</td>\n",
       "      <td>19</td>\n",
       "      <td>161328437</td>\n",
       "      <td>0.3328</td>\n",
       "    </tr>\n",
       "    <tr>\n",
       "      <th>16</th>\n",
       "      <td>train_credit_bureau_a_2_7.parquet</td>\n",
       "      <td>8055986</td>\n",
       "      <td>19</td>\n",
       "      <td>51201435</td>\n",
       "      <td>0.3345</td>\n",
       "    </tr>\n",
       "    <tr>\n",
       "      <th>17</th>\n",
       "      <td>train_credit_bureau_a_2_8.parquet</td>\n",
       "      <td>13927071</td>\n",
       "      <td>19</td>\n",
       "      <td>88764540</td>\n",
       "      <td>0.3354</td>\n",
       "    </tr>\n",
       "    <tr>\n",
       "      <th>18</th>\n",
       "      <td>train_credit_bureau_a_2_9.parquet</td>\n",
       "      <td>18723227</td>\n",
       "      <td>19</td>\n",
       "      <td>119399400</td>\n",
       "      <td>0.3356</td>\n",
       "    </tr>\n",
       "    <tr>\n",
       "      <th>19</th>\n",
       "      <td>train_credit_bureau_b_1.parquet</td>\n",
       "      <td>85791</td>\n",
       "      <td>45</td>\n",
       "      <td>1125130</td>\n",
       "      <td>0.2914</td>\n",
       "    </tr>\n",
       "    <tr>\n",
       "      <th>20</th>\n",
       "      <td>train_credit_bureau_b_2.parquet</td>\n",
       "      <td>1286755</td>\n",
       "      <td>6</td>\n",
       "      <td>10722</td>\n",
       "      <td>0.0014</td>\n",
       "    </tr>\n",
       "    <tr>\n",
       "      <th>21</th>\n",
       "      <td>train_debitcard_1.parquet</td>\n",
       "      <td>157302</td>\n",
       "      <td>6</td>\n",
       "      <td>450239</td>\n",
       "      <td>0.4770</td>\n",
       "    </tr>\n",
       "    <tr>\n",
       "      <th>22</th>\n",
       "      <td>train_deposit_1.parquet</td>\n",
       "      <td>145086</td>\n",
       "      <td>5</td>\n",
       "      <td>79682</td>\n",
       "      <td>0.1098</td>\n",
       "    </tr>\n",
       "    <tr>\n",
       "      <th>23</th>\n",
       "      <td>train_other_1.parquet</td>\n",
       "      <td>51109</td>\n",
       "      <td>7</td>\n",
       "      <td>0</td>\n",
       "      <td>0.0000</td>\n",
       "    </tr>\n",
       "    <tr>\n",
       "      <th>24</th>\n",
       "      <td>train_person_1.parquet</td>\n",
       "      <td>2973991</td>\n",
       "      <td>37</td>\n",
       "      <td>51051536</td>\n",
       "      <td>0.4639</td>\n",
       "    </tr>\n",
       "    <tr>\n",
       "      <th>25</th>\n",
       "      <td>train_person_2.parquet</td>\n",
       "      <td>1643410</td>\n",
       "      <td>11</td>\n",
       "      <td>4828073</td>\n",
       "      <td>0.2671</td>\n",
       "    </tr>\n",
       "    <tr>\n",
       "      <th>26</th>\n",
       "      <td>train_static_0_0.parquet</td>\n",
       "      <td>1003757</td>\n",
       "      <td>168</td>\n",
       "      <td>55521200</td>\n",
       "      <td>0.3292</td>\n",
       "    </tr>\n",
       "    <tr>\n",
       "      <th>27</th>\n",
       "      <td>train_static_0_1.parquet</td>\n",
       "      <td>522902</td>\n",
       "      <td>168</td>\n",
       "      <td>22982407</td>\n",
       "      <td>0.2616</td>\n",
       "    </tr>\n",
       "    <tr>\n",
       "      <th>28</th>\n",
       "      <td>train_static_cb_0.parquet</td>\n",
       "      <td>1500476</td>\n",
       "      <td>53</td>\n",
       "      <td>49375701</td>\n",
       "      <td>0.6209</td>\n",
       "    </tr>\n",
       "    <tr>\n",
       "      <th>29</th>\n",
       "      <td>train_tax_registry_a_1.parquet</td>\n",
       "      <td>3275770</td>\n",
       "      <td>5</td>\n",
       "      <td>0</td>\n",
       "      <td>0.0000</td>\n",
       "    </tr>\n",
       "    <tr>\n",
       "      <th>30</th>\n",
       "      <td>train_tax_registry_b_1.parquet</td>\n",
       "      <td>1107933</td>\n",
       "      <td>5</td>\n",
       "      <td>0</td>\n",
       "      <td>0.0000</td>\n",
       "    </tr>\n",
       "    <tr>\n",
       "      <th>31</th>\n",
       "      <td>train_tax_registry_c_1.parquet</td>\n",
       "      <td>3343800</td>\n",
       "      <td>5</td>\n",
       "      <td>0</td>\n",
       "      <td>0.0000</td>\n",
       "    </tr>\n",
       "  </tbody>\n",
       "</table>\n",
       "</div>"
      ],
      "text/plain": [
       "                                 files    height  width  null_count  isna_%\n",
       "0           train_applprev_1_0.parquet   3887684     41    49311059  0.3094\n",
       "1           train_applprev_1_1.parquet   2638295     41    34503185  0.3190\n",
       "2             train_applprev_2.parquet  14075487      6    16236709  0.1923\n",
       "3                   train_base.parquet   1526659      5           0  0.0000\n",
       "4    train_credit_bureau_a_1_0.parquet   4108212     79   244050042  0.7520\n",
       "5    train_credit_bureau_a_1_1.parquet   6009192     79   308479374  0.6498\n",
       "6    train_credit_bureau_a_1_2.parquet   3743810     79   187095066  0.6326\n",
       "7    train_credit_bureau_a_1_3.parquet   2079323     79   101862954  0.6201\n",
       "8    train_credit_bureau_a_2_0.parquet   5296031     19    37184092  0.3695\n",
       "9    train_credit_bureau_a_2_1.parquet   7861809     19    53702386  0.3595\n",
       "10  train_credit_bureau_a_2_10.parquet   4386062     19    28029984  0.3364\n",
       "11   train_credit_bureau_a_2_2.parquet  17893536     19   114892314  0.3379\n",
       "12   train_credit_bureau_a_2_3.parquet  26563901     19   168378635  0.3336\n",
       "13   train_credit_bureau_a_2_4.parquet  27025737     19   171502180  0.3340\n",
       "14   train_credit_bureau_a_2_5.parquet  33053760     19   208735906  0.3324\n",
       "15   train_credit_bureau_a_2_6.parquet  25511332     19   161328437  0.3328\n",
       "16   train_credit_bureau_a_2_7.parquet   8055986     19    51201435  0.3345\n",
       "17   train_credit_bureau_a_2_8.parquet  13927071     19    88764540  0.3354\n",
       "18   train_credit_bureau_a_2_9.parquet  18723227     19   119399400  0.3356\n",
       "19     train_credit_bureau_b_1.parquet     85791     45     1125130  0.2914\n",
       "20     train_credit_bureau_b_2.parquet   1286755      6       10722  0.0014\n",
       "21           train_debitcard_1.parquet    157302      6      450239  0.4770\n",
       "22             train_deposit_1.parquet    145086      5       79682  0.1098\n",
       "23               train_other_1.parquet     51109      7           0  0.0000\n",
       "24              train_person_1.parquet   2973991     37    51051536  0.4639\n",
       "25              train_person_2.parquet   1643410     11     4828073  0.2671\n",
       "26            train_static_0_0.parquet   1003757    168    55521200  0.3292\n",
       "27            train_static_0_1.parquet    522902    168    22982407  0.2616\n",
       "28           train_static_cb_0.parquet   1500476     53    49375701  0.6209\n",
       "29      train_tax_registry_a_1.parquet   3275770      5           0  0.0000\n",
       "30      train_tax_registry_b_1.parquet   1107933      5           0  0.0000\n",
       "31      train_tax_registry_c_1.parquet   3343800      5           0  0.0000"
      ]
     },
     "execution_count": 7,
     "metadata": {},
     "output_type": "execute_result"
    }
   ],
   "source": [
    "shapes, nan_total_count = [], []\n",
    "\n",
    "file_names = listdir(TRAIN_DIR)\n",
    "for file_name in tqdm(file_names):\n",
    "    df = pl.read_parquet(f\"{TRAIN_DIR}/{file_name}\") \n",
    "    shapes.append(df.shape)\n",
    "    nan_total_count.append(df.null_count().to_pandas().sum().sum())\n",
    "    del df\n",
    "\n",
    "train_disk_usage = pd.DataFrame()\n",
    "train_disk_usage['files'] = file_names\n",
    "train_disk_usage[['height', 'width']] = shapes\n",
    "train_disk_usage['null_count'] = nan_total_count\n",
    "train_disk_usage['isna_%'] = train_disk_usage.null_count / np.prod(shapes, 1) \n",
    "train_disk_usage"
   ]
  },
  {
   "cell_type": "code",
   "execution_count": 21,
   "id": "ec64887a",
   "metadata": {},
   "outputs": [],
   "source": [
    "def print_sample_info(file_dir: str,\n",
    "                      file_name: str,\n",
    "                      columns_definitions: dict,\n",
    "                      n_rows: int = 5) -> None:\n",
    "    \"\"\"\n",
    "    Load data from file and print info.\n",
    "    \"\"\"\n",
    "\n",
    "    df = pl.read_parquet(f\"{file_dir}/{file_name}\")\n",
    "    display(df[:n_rows])\n",
    "    display(df.describe())\n",
    "    for column in df.columns:\n",
    "        if column in columns_definitions.keys():\n",
    "            print(f\"{column}: {columns_definitions[column]}\")\n",
    "    return df"
   ]
  },
  {
   "cell_type": "markdown",
   "id": "f82d6ba7",
   "metadata": {},
   "source": [
    "## Base file"
   ]
  },
  {
   "cell_type": "code",
   "execution_count": 15,
   "id": "89172dda",
   "metadata": {},
   "outputs": [
    {
     "data": {
      "text/html": [
       "<div><style>\n",
       ".dataframe > thead > tr,\n",
       ".dataframe > tbody > tr {\n",
       "  text-align: right;\n",
       "  white-space: pre-wrap;\n",
       "}\n",
       "</style>\n",
       "<small>shape: (5, 5)</small><table border=\"1\" class=\"dataframe\"><thead><tr><th>case_id</th><th>date_decision</th><th>MONTH</th><th>WEEK_NUM</th><th>target</th></tr><tr><td>i64</td><td>str</td><td>i64</td><td>i64</td><td>i64</td></tr></thead><tbody><tr><td>0</td><td>&quot;2019-01-03&quot;</td><td>201901</td><td>0</td><td>0</td></tr><tr><td>1</td><td>&quot;2019-01-03&quot;</td><td>201901</td><td>0</td><td>0</td></tr><tr><td>2</td><td>&quot;2019-01-04&quot;</td><td>201901</td><td>0</td><td>0</td></tr><tr><td>3</td><td>&quot;2019-01-03&quot;</td><td>201901</td><td>0</td><td>0</td></tr><tr><td>4</td><td>&quot;2019-01-04&quot;</td><td>201901</td><td>0</td><td>1</td></tr></tbody></table></div>"
      ],
      "text/plain": [
       "shape: (5, 5)\n",
       "┌─────────┬───────────────┬────────┬──────────┬────────┐\n",
       "│ case_id ┆ date_decision ┆ MONTH  ┆ WEEK_NUM ┆ target │\n",
       "│ ---     ┆ ---           ┆ ---    ┆ ---      ┆ ---    │\n",
       "│ i64     ┆ str           ┆ i64    ┆ i64      ┆ i64    │\n",
       "╞═════════╪═══════════════╪════════╪══════════╪════════╡\n",
       "│ 0       ┆ 2019-01-03    ┆ 201901 ┆ 0        ┆ 0      │\n",
       "│ 1       ┆ 2019-01-03    ┆ 201901 ┆ 0        ┆ 0      │\n",
       "│ 2       ┆ 2019-01-04    ┆ 201901 ┆ 0        ┆ 0      │\n",
       "│ 3       ┆ 2019-01-03    ┆ 201901 ┆ 0        ┆ 0      │\n",
       "│ 4       ┆ 2019-01-04    ┆ 201901 ┆ 0        ┆ 1      │\n",
       "└─────────┴───────────────┴────────┴──────────┴────────┘"
      ]
     },
     "metadata": {},
     "output_type": "display_data"
    },
    {
     "data": {
      "text/html": [
       "<div><style>\n",
       ".dataframe > thead > tr,\n",
       ".dataframe > tbody > tr {\n",
       "  text-align: right;\n",
       "  white-space: pre-wrap;\n",
       "}\n",
       "</style>\n",
       "<small>shape: (9, 6)</small><table border=\"1\" class=\"dataframe\"><thead><tr><th>statistic</th><th>case_id</th><th>date_decision</th><th>MONTH</th><th>WEEK_NUM</th><th>target</th></tr><tr><td>str</td><td>f64</td><td>str</td><td>f64</td><td>f64</td><td>f64</td></tr></thead><tbody><tr><td>&quot;count&quot;</td><td>1526659.0000</td><td>&quot;1526659&quot;</td><td>1526659.0000</td><td>1526659.0000</td><td>1526659.0000</td></tr><tr><td>&quot;null_count&quot;</td><td>0.0000</td><td>&quot;0&quot;</td><td>0.0000</td><td>0.0000</td><td>0.0000</td></tr><tr><td>&quot;mean&quot;</td><td>1286076.5717</td><td>null</td><td>201936.2880</td><td>40.7690</td><td>0.0314</td></tr><tr><td>&quot;std&quot;</td><td>718946.5923</td><td>null</td><td>44.7360</td><td>23.7980</td><td>0.1745</td></tr><tr><td>&quot;min&quot;</td><td>0.0000</td><td>&quot;2019-01-01&quot;</td><td>201901.0000</td><td>0.0000</td><td>0.0000</td></tr><tr><td>&quot;25%&quot;</td><td>766198.0000</td><td>null</td><td>201906.0000</td><td>23.0000</td><td>0.0000</td></tr><tr><td>&quot;50%&quot;</td><td>1357358.0000</td><td>null</td><td>201910.0000</td><td>40.0000</td><td>0.0000</td></tr><tr><td>&quot;75%&quot;</td><td>1739023.0000</td><td>null</td><td>202001.0000</td><td>55.0000</td><td>0.0000</td></tr><tr><td>&quot;max&quot;</td><td>2703454.0000</td><td>&quot;2020-10-05&quot;</td><td>202010.0000</td><td>91.0000</td><td>1.0000</td></tr></tbody></table></div>"
      ],
      "text/plain": [
       "shape: (9, 6)\n",
       "┌────────────┬──────────────┬───────────────┬──────────────┬──────────────┬──────────────┐\n",
       "│ statistic  ┆ case_id      ┆ date_decision ┆ MONTH        ┆ WEEK_NUM     ┆ target       │\n",
       "│ ---        ┆ ---          ┆ ---           ┆ ---          ┆ ---          ┆ ---          │\n",
       "│ str        ┆ f64          ┆ str           ┆ f64          ┆ f64          ┆ f64          │\n",
       "╞════════════╪══════════════╪═══════════════╪══════════════╪══════════════╪══════════════╡\n",
       "│ count      ┆ 1526659.0000 ┆ 1526659       ┆ 1526659.0000 ┆ 1526659.0000 ┆ 1526659.0000 │\n",
       "│ null_count ┆ 0.0000       ┆ 0             ┆ 0.0000       ┆ 0.0000       ┆ 0.0000       │\n",
       "│ mean       ┆ 1286076.5717 ┆ null          ┆ 201936.2880  ┆ 40.7690      ┆ 0.0314       │\n",
       "│ std        ┆ 718946.5923  ┆ null          ┆ 44.7360      ┆ 23.7980      ┆ 0.1745       │\n",
       "│ min        ┆ 0.0000       ┆ 2019-01-01    ┆ 201901.0000  ┆ 0.0000       ┆ 0.0000       │\n",
       "│ 25%        ┆ 766198.0000  ┆ null          ┆ 201906.0000  ┆ 23.0000      ┆ 0.0000       │\n",
       "│ 50%        ┆ 1357358.0000 ┆ null          ┆ 201910.0000  ┆ 40.0000      ┆ 0.0000       │\n",
       "│ 75%        ┆ 1739023.0000 ┆ null          ┆ 202001.0000  ┆ 55.0000      ┆ 0.0000       │\n",
       "│ max        ┆ 2703454.0000 ┆ 2020-10-05    ┆ 202010.0000  ┆ 91.0000      ┆ 1.0000       │\n",
       "└────────────┴──────────────┴───────────────┴──────────────┴──────────────┴──────────────┘"
      ]
     },
     "metadata": {},
     "output_type": "display_data"
    }
   ],
   "source": [
    "train_base = print_sample_info(TRAIN_DIR, \"train_base.parquet\",\n",
    "                               feature_definitions)"
   ]
  },
  {
   "cell_type": "code",
   "execution_count": 16,
   "id": "51ab831d",
   "metadata": {},
   "outputs": [
    {
     "data": {
      "text/html": [
       "<div><style>\n",
       ".dataframe > thead > tr,\n",
       ".dataframe > tbody > tr {\n",
       "  text-align: right;\n",
       "  white-space: pre-wrap;\n",
       "}\n",
       "</style>\n",
       "<small>shape: (2, 2)</small><table border=\"1\" class=\"dataframe\"><thead><tr><th>target</th><th>count</th></tr><tr><td>i64</td><td>u32</td></tr></thead><tbody><tr><td>1</td><td>47994</td></tr><tr><td>0</td><td>1478665</td></tr></tbody></table></div>"
      ],
      "text/plain": [
       "shape: (2, 2)\n",
       "┌────────┬─────────┐\n",
       "│ target ┆ count   │\n",
       "│ ---    ┆ ---     │\n",
       "│ i64    ┆ u32     │\n",
       "╞════════╪═════════╡\n",
       "│ 1      ┆ 47994   │\n",
       "│ 0      ┆ 1478665 │\n",
       "└────────┴─────────┘"
      ]
     },
     "execution_count": 16,
     "metadata": {},
     "output_type": "execute_result"
    }
   ],
   "source": [
    "train_base[\"target\"].value_counts()"
   ]
  },
  {
   "cell_type": "markdown",
   "id": "b4cd5dde",
   "metadata": {},
   "source": [
    "- Пропусков данных в основном файле нет\n",
    "- Выборка классов несбалансированная"
   ]
  },
  {
   "cell_type": "markdown",
   "id": "eea728ac",
   "metadata": {},
   "source": [
    "## static_0\n",
    "\n",
    "Properties: depth=0, internal data source"
   ]
  },
  {
   "cell_type": "code",
   "execution_count": 18,
   "id": "1cf74ee6",
   "metadata": {
    "scrolled": true
   },
   "outputs": [
    {
     "data": {
      "text/html": [
       "<div><style>\n",
       ".dataframe > thead > tr,\n",
       ".dataframe > tbody > tr {\n",
       "  text-align: right;\n",
       "  white-space: pre-wrap;\n",
       "}\n",
       "</style>\n",
       "<small>shape: (5, 168)</small><table border=\"1\" class=\"dataframe\"><thead><tr><th>case_id</th><th>actualdpdtolerance_344P</th><th>amtinstpaidbefduel24m_4187115A</th><th>annuity_780A</th><th>annuitynextmonth_57A</th><th>applicationcnt_361L</th><th>applications30d_658L</th><th>applicationscnt_1086L</th><th>applicationscnt_464L</th><th>applicationscnt_629L</th><th>applicationscnt_867L</th><th>avgdbddpdlast24m_3658932P</th><th>avgdbddpdlast3m_4187120P</th><th>avgdbdtollast24m_4525197P</th><th>avgdpdtolclosure24_3658938P</th><th>avginstallast24m_3658937A</th><th>avglnamtstart24m_4525187A</th><th>avgmaxdpdlast9m_3716943P</th><th>avgoutstandbalancel6m_4187114A</th><th>avgpmtlast12m_4525200A</th><th>bankacctype_710L</th><th>cardtype_51L</th><th>clientscnt12m_3712952L</th><th>clientscnt3m_3712950L</th><th>clientscnt6m_3712949L</th><th>clientscnt_100L</th><th>clientscnt_1022L</th><th>clientscnt_1071L</th><th>clientscnt_1130L</th><th>clientscnt_136L</th><th>clientscnt_157L</th><th>clientscnt_257L</th><th>clientscnt_304L</th><th>clientscnt_360L</th><th>clientscnt_493L</th><th>clientscnt_533L</th><th>clientscnt_887L</th><th>&hellip;</th><th>numinstpaidearlyest_4493214L</th><th>numinstpaidlastcontr_4325080L</th><th>numinstpaidlate1d_3546852L</th><th>numinstregularpaid_973L</th><th>numinstregularpaidest_4493210L</th><th>numinsttopaygr_769L</th><th>numinsttopaygrest_4493213L</th><th>numinstunpaidmax_3546851L</th><th>numinstunpaidmaxest_4493212L</th><th>numnotactivated_1143L</th><th>numpmtchanneldd_318L</th><th>numrejects9m_859L</th><th>opencred_647L</th><th>paytype1st_925L</th><th>paytype_783L</th><th>payvacationpostpone_4187118D</th><th>pctinstlsallpaidearl3d_427L</th><th>pctinstlsallpaidlat10d_839L</th><th>pctinstlsallpaidlate1d_3546856L</th><th>pctinstlsallpaidlate4d_3546849L</th><th>pctinstlsallpaidlate6d_3546844L</th><th>pmtnum_254L</th><th>posfpd10lastmonth_333P</th><th>posfpd30lastmonth_3976960P</th><th>posfstqpd30lastmonth_3976962P</th><th>previouscontdistrict_112M</th><th>price_1097A</th><th>sellerplacecnt_915L</th><th>sellerplacescnt_216L</th><th>sumoutstandtotal_3546847A</th><th>sumoutstandtotalest_4493215A</th><th>totaldebt_9A</th><th>totalsettled_863A</th><th>totinstallast1m_4525188A</th><th>twobodfilling_608L</th><th>typesuite_864L</th><th>validfrom_1069D</th></tr><tr><td>i64</td><td>f64</td><td>f64</td><td>f64</td><td>f64</td><td>f64</td><td>f64</td><td>f64</td><td>f64</td><td>f64</td><td>f64</td><td>f64</td><td>f64</td><td>f64</td><td>f64</td><td>f64</td><td>f64</td><td>f64</td><td>f64</td><td>f64</td><td>str</td><td>str</td><td>f64</td><td>f64</td><td>f64</td><td>f64</td><td>f64</td><td>f64</td><td>f64</td><td>f64</td><td>f64</td><td>f64</td><td>f64</td><td>f64</td><td>f64</td><td>f64</td><td>f64</td><td>&hellip;</td><td>f64</td><td>f64</td><td>f64</td><td>f64</td><td>f64</td><td>f64</td><td>f64</td><td>f64</td><td>f64</td><td>f64</td><td>f64</td><td>f64</td><td>bool</td><td>str</td><td>str</td><td>str</td><td>f64</td><td>f64</td><td>f64</td><td>f64</td><td>f64</td><td>f64</td><td>f64</td><td>f64</td><td>f64</td><td>str</td><td>f64</td><td>f64</td><td>f64</td><td>f64</td><td>f64</td><td>f64</td><td>f64</td><td>f64</td><td>str</td><td>str</td><td>str</td></tr></thead><tbody><tr><td>0</td><td>null</td><td>null</td><td>1917.6000</td><td>0.0000</td><td>0.0000</td><td>0.0000</td><td>0.0000</td><td>0.0000</td><td>0.0000</td><td>0.0000</td><td>null</td><td>null</td><td>null</td><td>null</td><td>null</td><td>null</td><td>null</td><td>null</td><td>null</td><td>null</td><td>null</td><td>0.0000</td><td>0.0000</td><td>0.0000</td><td>0.0000</td><td>0.0000</td><td>0.0000</td><td>0.0000</td><td>null</td><td>0.0000</td><td>0.0000</td><td>0.0000</td><td>0.0000</td><td>0.0000</td><td>0.0000</td><td>0.0000</td><td>&hellip;</td><td>null</td><td>null</td><td>null</td><td>null</td><td>null</td><td>null</td><td>null</td><td>null</td><td>null</td><td>0.0000</td><td>0.0000</td><td>0.0000</td><td>null</td><td>&quot;OTHER&quot;</td><td>&quot;OTHER&quot;</td><td>null</td><td>null</td><td>null</td><td>null</td><td>null</td><td>null</td><td>24.0000</td><td>0.0000</td><td>0.0000</td><td>null</td><td>&quot;a55475b1&quot;</td><td>null</td><td>0.0000</td><td>0.0000</td><td>null</td><td>null</td><td>0.0000</td><td>0.0000</td><td>null</td><td>&quot;BO&quot;</td><td>null</td><td>null</td></tr><tr><td>1</td><td>null</td><td>null</td><td>3134.0000</td><td>0.0000</td><td>0.0000</td><td>0.0000</td><td>0.0000</td><td>0.0000</td><td>0.0000</td><td>0.0000</td><td>null</td><td>null</td><td>null</td><td>null</td><td>null</td><td>null</td><td>null</td><td>null</td><td>null</td><td>null</td><td>null</td><td>0.0000</td><td>0.0000</td><td>0.0000</td><td>0.0000</td><td>0.0000</td><td>0.0000</td><td>0.0000</td><td>0.0000</td><td>3.0000</td><td>0.0000</td><td>0.0000</td><td>0.0000</td><td>0.0000</td><td>0.0000</td><td>0.0000</td><td>&hellip;</td><td>null</td><td>null</td><td>null</td><td>null</td><td>null</td><td>null</td><td>null</td><td>null</td><td>null</td><td>0.0000</td><td>0.0000</td><td>0.0000</td><td>null</td><td>&quot;OTHER&quot;</td><td>&quot;OTHER&quot;</td><td>null</td><td>null</td><td>null</td><td>null</td><td>null</td><td>null</td><td>18.0000</td><td>0.0000</td><td>0.0000</td><td>null</td><td>&quot;a55475b1&quot;</td><td>null</td><td>0.0000</td><td>0.0000</td><td>null</td><td>null</td><td>0.0000</td><td>0.0000</td><td>null</td><td>&quot;BO&quot;</td><td>null</td><td>null</td></tr><tr><td>2</td><td>null</td><td>null</td><td>4937.0000</td><td>0.0000</td><td>0.0000</td><td>0.0000</td><td>0.0000</td><td>0.0000</td><td>0.0000</td><td>0.0000</td><td>null</td><td>null</td><td>null</td><td>null</td><td>null</td><td>null</td><td>null</td><td>null</td><td>null</td><td>null</td><td>null</td><td>0.0000</td><td>0.0000</td><td>0.0000</td><td>0.0000</td><td>0.0000</td><td>0.0000</td><td>0.0000</td><td>null</td><td>0.0000</td><td>0.0000</td><td>0.0000</td><td>0.0000</td><td>0.0000</td><td>0.0000</td><td>0.0000</td><td>&hellip;</td><td>null</td><td>null</td><td>null</td><td>null</td><td>null</td><td>null</td><td>null</td><td>null</td><td>null</td><td>0.0000</td><td>0.0000</td><td>0.0000</td><td>false</td><td>&quot;OTHER&quot;</td><td>&quot;OTHER&quot;</td><td>null</td><td>null</td><td>null</td><td>null</td><td>null</td><td>null</td><td>36.0000</td><td>0.0000</td><td>0.0000</td><td>null</td><td>&quot;a55475b1&quot;</td><td>null</td><td>0.0000</td><td>0.0000</td><td>null</td><td>null</td><td>0.0000</td><td>0.0000</td><td>null</td><td>&quot;BO&quot;</td><td>&quot;AL&quot;</td><td>null</td></tr><tr><td>3</td><td>null</td><td>null</td><td>4643.6000</td><td>0.0000</td><td>0.0000</td><td>1.0000</td><td>0.0000</td><td>2.0000</td><td>0.0000</td><td>1.0000</td><td>null</td><td>null</td><td>null</td><td>null</td><td>null</td><td>null</td><td>null</td><td>null</td><td>null</td><td>null</td><td>null</td><td>0.0000</td><td>0.0000</td><td>0.0000</td><td>0.0000</td><td>0.0000</td><td>0.0000</td><td>1.0000</td><td>null</td><td>0.0000</td><td>0.0000</td><td>0.0000</td><td>0.0000</td><td>0.0000</td><td>0.0000</td><td>0.0000</td><td>&hellip;</td><td>null</td><td>null</td><td>null</td><td>null</td><td>null</td><td>null</td><td>null</td><td>null</td><td>null</td><td>0.0000</td><td>0.0000</td><td>1.0000</td><td>false</td><td>&quot;OTHER&quot;</td><td>&quot;OTHER&quot;</td><td>null</td><td>null</td><td>null</td><td>null</td><td>null</td><td>null</td><td>12.0000</td><td>0.0000</td><td>0.0000</td><td>null</td><td>&quot;a55475b1&quot;</td><td>null</td><td>1.0000</td><td>1.0000</td><td>null</td><td>null</td><td>0.0000</td><td>0.0000</td><td>null</td><td>&quot;BO&quot;</td><td>&quot;AL&quot;</td><td>null</td></tr><tr><td>4</td><td>null</td><td>null</td><td>3390.2000</td><td>0.0000</td><td>0.0000</td><td>1.0000</td><td>0.0000</td><td>0.0000</td><td>0.0000</td><td>1.0000</td><td>null</td><td>null</td><td>null</td><td>null</td><td>null</td><td>null</td><td>null</td><td>null</td><td>null</td><td>null</td><td>null</td><td>0.0000</td><td>0.0000</td><td>0.0000</td><td>0.0000</td><td>0.0000</td><td>0.0000</td><td>0.0000</td><td>null</td><td>0.0000</td><td>0.0000</td><td>0.0000</td><td>0.0000</td><td>0.0000</td><td>0.0000</td><td>0.0000</td><td>&hellip;</td><td>null</td><td>null</td><td>null</td><td>null</td><td>null</td><td>null</td><td>null</td><td>null</td><td>null</td><td>0.0000</td><td>0.0000</td><td>0.0000</td><td>false</td><td>&quot;OTHER&quot;</td><td>&quot;OTHER&quot;</td><td>null</td><td>null</td><td>null</td><td>null</td><td>null</td><td>null</td><td>24.0000</td><td>0.0000</td><td>0.0000</td><td>null</td><td>&quot;a55475b1&quot;</td><td>null</td><td>0.0000</td><td>0.0000</td><td>null</td><td>null</td><td>0.0000</td><td>0.0000</td><td>null</td><td>&quot;BO&quot;</td><td>&quot;AL&quot;</td><td>null</td></tr></tbody></table></div>"
      ],
      "text/plain": [
       "shape: (5, 168)\n",
       "┌─────────┬──────────────┬──────────────┬──────────────┬───┬──────────────┬──────────────┬──────────────┬──────────────┐\n",
       "│ case_id ┆ actualdpdtol ┆ amtinstpaidb ┆ annuity_780A ┆ … ┆ totinstallas ┆ twobodfillin ┆ typesuite_86 ┆ validfrom_10 │\n",
       "│ ---     ┆ erance_344P  ┆ efduel24m_41 ┆ ---          ┆   ┆ t1m_4525188A ┆ g_608L       ┆ 4L           ┆ 69D          │\n",
       "│ i64     ┆ ---          ┆ 87115A       ┆ f64          ┆   ┆ ---          ┆ ---          ┆ ---          ┆ ---          │\n",
       "│         ┆ f64          ┆ ---          ┆              ┆   ┆ f64          ┆ str          ┆ str          ┆ str          │\n",
       "│         ┆              ┆ f64          ┆              ┆   ┆              ┆              ┆              ┆              │\n",
       "╞═════════╪══════════════╪══════════════╪══════════════╪═══╪══════════════╪══════════════╪══════════════╪══════════════╡\n",
       "│ 0       ┆ null         ┆ null         ┆ 1917.6000    ┆ … ┆ null         ┆ BO           ┆ null         ┆ null         │\n",
       "│ 1       ┆ null         ┆ null         ┆ 3134.0000    ┆ … ┆ null         ┆ BO           ┆ null         ┆ null         │\n",
       "│ 2       ┆ null         ┆ null         ┆ 4937.0000    ┆ … ┆ null         ┆ BO           ┆ AL           ┆ null         │\n",
       "│ 3       ┆ null         ┆ null         ┆ 4643.6000    ┆ … ┆ null         ┆ BO           ┆ AL           ┆ null         │\n",
       "│ 4       ┆ null         ┆ null         ┆ 3390.2000    ┆ … ┆ null         ┆ BO           ┆ AL           ┆ null         │\n",
       "└─────────┴──────────────┴──────────────┴──────────────┴───┴──────────────┴──────────────┴──────────────┴──────────────┘"
      ]
     },
     "metadata": {},
     "output_type": "display_data"
    },
    {
     "data": {
      "text/html": [
       "<div><style>\n",
       ".dataframe > thead > tr,\n",
       ".dataframe > tbody > tr {\n",
       "  text-align: right;\n",
       "  white-space: pre-wrap;\n",
       "}\n",
       "</style>\n",
       "<small>shape: (9, 169)</small><table border=\"1\" class=\"dataframe\"><thead><tr><th>statistic</th><th>case_id</th><th>actualdpdtolerance_344P</th><th>amtinstpaidbefduel24m_4187115A</th><th>annuity_780A</th><th>annuitynextmonth_57A</th><th>applicationcnt_361L</th><th>applications30d_658L</th><th>applicationscnt_1086L</th><th>applicationscnt_464L</th><th>applicationscnt_629L</th><th>applicationscnt_867L</th><th>avgdbddpdlast24m_3658932P</th><th>avgdbddpdlast3m_4187120P</th><th>avgdbdtollast24m_4525197P</th><th>avgdpdtolclosure24_3658938P</th><th>avginstallast24m_3658937A</th><th>avglnamtstart24m_4525187A</th><th>avgmaxdpdlast9m_3716943P</th><th>avgoutstandbalancel6m_4187114A</th><th>avgpmtlast12m_4525200A</th><th>bankacctype_710L</th><th>cardtype_51L</th><th>clientscnt12m_3712952L</th><th>clientscnt3m_3712950L</th><th>clientscnt6m_3712949L</th><th>clientscnt_100L</th><th>clientscnt_1022L</th><th>clientscnt_1071L</th><th>clientscnt_1130L</th><th>clientscnt_136L</th><th>clientscnt_157L</th><th>clientscnt_257L</th><th>clientscnt_304L</th><th>clientscnt_360L</th><th>clientscnt_493L</th><th>clientscnt_533L</th><th>&hellip;</th><th>numinstpaidearlyest_4493214L</th><th>numinstpaidlastcontr_4325080L</th><th>numinstpaidlate1d_3546852L</th><th>numinstregularpaid_973L</th><th>numinstregularpaidest_4493210L</th><th>numinsttopaygr_769L</th><th>numinsttopaygrest_4493213L</th><th>numinstunpaidmax_3546851L</th><th>numinstunpaidmaxest_4493212L</th><th>numnotactivated_1143L</th><th>numpmtchanneldd_318L</th><th>numrejects9m_859L</th><th>opencred_647L</th><th>paytype1st_925L</th><th>paytype_783L</th><th>payvacationpostpone_4187118D</th><th>pctinstlsallpaidearl3d_427L</th><th>pctinstlsallpaidlat10d_839L</th><th>pctinstlsallpaidlate1d_3546856L</th><th>pctinstlsallpaidlate4d_3546849L</th><th>pctinstlsallpaidlate6d_3546844L</th><th>pmtnum_254L</th><th>posfpd10lastmonth_333P</th><th>posfpd30lastmonth_3976960P</th><th>posfstqpd30lastmonth_3976962P</th><th>previouscontdistrict_112M</th><th>price_1097A</th><th>sellerplacecnt_915L</th><th>sellerplacescnt_216L</th><th>sumoutstandtotal_3546847A</th><th>sumoutstandtotalest_4493215A</th><th>totaldebt_9A</th><th>totalsettled_863A</th><th>totinstallast1m_4525188A</th><th>twobodfilling_608L</th><th>typesuite_864L</th><th>validfrom_1069D</th></tr><tr><td>str</td><td>f64</td><td>f64</td><td>f64</td><td>f64</td><td>f64</td><td>f64</td><td>f64</td><td>f64</td><td>f64</td><td>f64</td><td>f64</td><td>f64</td><td>f64</td><td>f64</td><td>f64</td><td>f64</td><td>f64</td><td>f64</td><td>f64</td><td>f64</td><td>str</td><td>str</td><td>f64</td><td>f64</td><td>f64</td><td>f64</td><td>f64</td><td>f64</td><td>f64</td><td>f64</td><td>f64</td><td>f64</td><td>f64</td><td>f64</td><td>f64</td><td>f64</td><td>&hellip;</td><td>f64</td><td>f64</td><td>f64</td><td>f64</td><td>f64</td><td>f64</td><td>f64</td><td>f64</td><td>f64</td><td>f64</td><td>f64</td><td>f64</td><td>f64</td><td>str</td><td>str</td><td>str</td><td>f64</td><td>f64</td><td>f64</td><td>f64</td><td>f64</td><td>f64</td><td>f64</td><td>f64</td><td>f64</td><td>str</td><td>f64</td><td>f64</td><td>f64</td><td>f64</td><td>f64</td><td>f64</td><td>f64</td><td>f64</td><td>str</td><td>str</td><td>str</td></tr></thead><tbody><tr><td>&quot;count&quot;</td><td>1003757.0000</td><td>707071.0000</td><td>574903.0000</td><td>1003757.0000</td><td>1003755.0000</td><td>1003757.0000</td><td>1003757.0000</td><td>1003757.0000</td><td>1003757.0000</td><td>1003757.0000</td><td>1003757.0000</td><td>577626.0000</td><td>345754.0000</td><td>218032.0000</td><td>674485.0000</td><td>570036.0000</td><td>69807.0000</td><td>488464.0000</td><td>404763.0000</td><td>196447.0000</td><td>&quot;304690&quot;</td><td>&quot;125784&quot;</td><td>1003757.0000</td><td>1003757.0000</td><td>1003757.0000</td><td>1003757.0000</td><td>1003757.0000</td><td>1003757.0000</td><td>1003757.0000</td><td>397.0000</td><td>1003757.0000</td><td>1003757.0000</td><td>1003757.0000</td><td>1003757.0000</td><td>1003757.0000</td><td>1003757.0000</td><td>&hellip;</td><td>295381.0000</td><td>466841.0000</td><td>683434.0000</td><td>680415.0000</td><td>295381.0000</td><td>683433.0000</td><td>295381.0000</td><td>683433.0000</td><td>295381.0000</td><td>1003757.0000</td><td>1003757.0000</td><td>1003757.0000</td><td>782997.0000</td><td>&quot;1002696&quot;</td><td>&quot;1002696&quot;</td><td>&quot;1467&quot;</td><td>679714.0000</td><td>677866.0000</td><td>679714.0000</td><td>678977.0000</td><td>678791.0000</td><td>975103.0000</td><td>984565.0000</td><td>939963.0000</td><td>911303.0000</td><td>&quot;1003757&quot;</td><td>869385.0000</td><td>1003757.0000</td><td>1003757.0000</td><td>687938.0000</td><td>295381.0000</td><td>1003755.0000</td><td>1003755.0000</td><td>138692.0000</td><td>&quot;1003712&quot;</td><td>&quot;288520&quot;</td><td>&quot;119405&quot;</td></tr><tr><td>&quot;null_count&quot;</td><td>0.0000</td><td>296686.0000</td><td>428854.0000</td><td>0.0000</td><td>2.0000</td><td>0.0000</td><td>0.0000</td><td>0.0000</td><td>0.0000</td><td>0.0000</td><td>0.0000</td><td>426131.0000</td><td>658003.0000</td><td>785725.0000</td><td>329272.0000</td><td>433721.0000</td><td>933950.0000</td><td>515293.0000</td><td>598994.0000</td><td>807310.0000</td><td>&quot;699067&quot;</td><td>&quot;877973&quot;</td><td>0.0000</td><td>0.0000</td><td>0.0000</td><td>0.0000</td><td>0.0000</td><td>0.0000</td><td>0.0000</td><td>1003360.0000</td><td>0.0000</td><td>0.0000</td><td>0.0000</td><td>0.0000</td><td>0.0000</td><td>0.0000</td><td>&hellip;</td><td>708376.0000</td><td>536916.0000</td><td>320323.0000</td><td>323342.0000</td><td>708376.0000</td><td>320324.0000</td><td>708376.0000</td><td>320324.0000</td><td>708376.0000</td><td>0.0000</td><td>0.0000</td><td>0.0000</td><td>220760.0000</td><td>&quot;1061&quot;</td><td>&quot;1061&quot;</td><td>&quot;1002290&quot;</td><td>324043.0000</td><td>325891.0000</td><td>324043.0000</td><td>324780.0000</td><td>324966.0000</td><td>28654.0000</td><td>19192.0000</td><td>63794.0000</td><td>92454.0000</td><td>&quot;0&quot;</td><td>134372.0000</td><td>0.0000</td><td>0.0000</td><td>315819.0000</td><td>708376.0000</td><td>2.0000</td><td>2.0000</td><td>865065.0000</td><td>&quot;45&quot;</td><td>&quot;715237&quot;</td><td>&quot;884352&quot;</td></tr><tr><td>&quot;mean&quot;</td><td>1216924.0563</td><td>0.0544</td><td>50692.5451</td><td>3875.5976</td><td>1348.4987</td><td>0.0000</td><td>0.1262</td><td>0.4200</td><td>1.2389</td><td>0.3164</td><td>2.5469</td><td>29.6159</td><td>29.9409</td><td>31.9704</td><td>44.5292</td><td>5117.1270</td><td>43699.3874</td><td>0.7226</td><td>44570.3016</td><td>5935.0656</td><td>null</td><td>null</td><td>0.0320</td><td>0.0148</td><td>0.0215</td><td>0.0541</td><td>0.0937</td><td>0.0364</td><td>0.0343</td><td>0.0529</td><td>0.0886</td><td>0.0033</td><td>0.0812</td><td>0.0036</td><td>0.0120</td><td>0.0756</td><td>&hellip;</td><td>14.9711</td><td>7.7613</td><td>5.1938</td><td>26.7122</td><td>30.3953</td><td>5.9261</td><td>5.6273</td><td>5.3919</td><td>5.1116</td><td>0.0180</td><td>0.0204</td><td>0.3215</td><td>0.0430</td><td>null</td><td>null</td><td>null</td><td>0.6038</td><td>0.0793</td><td>0.1775</td><td>0.1134</td><td>0.0970</td><td>17.0641</td><td>0.0161</td><td>0.0077</td><td>0.0289</td><td>null</td><td>33339.9415</td><td>0.1538</td><td>1.4497</td><td>26465.0858</td><td>26060.5744</td><td>18184.0555</td><td>79276.3788</td><td>10576.1926</td><td>null</td><td>null</td><td>null</td></tr><tr><td>&quot;std&quot;</td><td>696462.4416</td><td>8.7440</td><td>65457.9386</td><td>2920.2372</td><td>2687.3415</td><td>0.0093</td><td>0.4458</td><td>2.6835</td><td>10.3164</td><td>2.6481</td><td>3.7417</td><td>316.8409</td><td>363.7942</td><td>328.8513</td><td>315.5864</td><td>6142.6886</td><td>43990.7011</td><td>4.6399</td><td>61632.9498</td><td>8646.0860</td><td>null</td><td>null</td><td>0.2772</td><td>0.2281</td><td>0.2481</td><td>0.2884</td><td>0.4184</td><td>0.1956</td><td>0.2453</td><td>0.3549</td><td>0.5949</td><td>0.0608</td><td>0.8385</td><td>0.0631</td><td>0.6568</td><td>0.2827</td><td>&hellip;</td><td>20.4929</td><td>5.9844</td><td>8.3244</td><td>29.6410</td><td>31.0362</td><td>10.0501</td><td>9.8885</td><td>8.8459</td><td>8.6761</td><td>0.1401</td><td>0.1474</td><td>1.0312</td><td>null</td><td>null</td><td>null</td><td>null</td><td>0.3587</td><td>0.1624</td><td>0.2301</td><td>0.1916</td><td>0.1784</td><td>9.5895</td><td>0.1257</td><td>0.0876</td><td>0.1676</td><td>null</td><td>33206.1021</td><td>0.4338</td><td>1.8600</td><td>55719.2095</td><td>57039.3069</td><td>47798.8946</td><td>125684.1403</td><td>16354.4178</td><td>null</td><td>null</td><td>null</td></tr><tr><td>&quot;min&quot;</td><td>0.0000</td><td>0.0000</td><td>0.0000</td><td>83.0000</td><td>0.0000</td><td>0.0000</td><td>0.0000</td><td>0.0000</td><td>0.0000</td><td>0.0000</td><td>0.0000</td><td>-1176.0000</td><td>-908.0000</td><td>-1176.0000</td><td>0.0000</td><td>0.0000</td><td>0.0000</td><td>0.0000</td><td>-7588198.5000</td><td>0.0000</td><td>&quot;CA&quot;</td><td>&quot;INSTANT&quot;</td><td>0.0000</td><td>0.0000</td><td>0.0000</td><td>0.0000</td><td>0.0000</td><td>0.0000</td><td>0.0000</td><td>0.0000</td><td>0.0000</td><td>0.0000</td><td>0.0000</td><td>0.0000</td><td>0.0000</td><td>0.0000</td><td>&hellip;</td><td>0.0000</td><td>0.0000</td><td>0.0000</td><td>0.0000</td><td>0.0000</td><td>0.0000</td><td>0.0000</td><td>0.0000</td><td>0.0000</td><td>0.0000</td><td>0.0000</td><td>0.0000</td><td>0.0000</td><td>&quot;OTHER&quot;</td><td>&quot;OTHER&quot;</td><td>&quot;2018-03-28&quot;</td><td>0.0000</td><td>0.0000</td><td>0.0000</td><td>0.0000</td><td>0.0000</td><td>3.0000</td><td>0.0000</td><td>0.0000</td><td>0.0000</td><td>&quot;P103_91_133&quot;</td><td>0.0000</td><td>0.0000</td><td>0.0000</td><td>-2405.0000</td><td>-2405.0000</td><td>0.0000</td><td>0.0000</td><td>0.2220</td><td>&quot;BO&quot;</td><td>&quot;AL&quot;</td><td>&quot;2018-09-22&quot;</td></tr><tr><td>&quot;25%&quot;</td><td>725987.0000</td><td>0.0000</td><td>6453.0000</td><td>1895.8000</td><td>0.0000</td><td>0.0000</td><td>0.0000</td><td>0.0000</td><td>0.0000</td><td>0.0000</td><td>0.0000</td><td>-11.0000</td><td>-11.0000</td><td>-11.0000</td><td>0.0000</td><td>2445.0000</td><td>15646.2000</td><td>0.0000</td><td>8864.4660</td><td>2451.4001</td><td>null</td><td>null</td><td>0.0000</td><td>0.0000</td><td>0.0000</td><td>0.0000</td><td>0.0000</td><td>0.0000</td><td>0.0000</td><td>0.0000</td><td>0.0000</td><td>0.0000</td><td>0.0000</td><td>0.0000</td><td>0.0000</td><td>0.0000</td><td>&hellip;</td><td>2.0000</td><td>3.0000</td><td>0.0000</td><td>7.0000</td><td>10.0000</td><td>0.0000</td><td>0.0000</td><td>0.0000</td><td>0.0000</td><td>0.0000</td><td>0.0000</td><td>0.0000</td><td>null</td><td>null</td><td>null</td><td>null</td><td>0.3462</td><td>0.0000</td><td>0.0000</td><td>0.0000</td><td>0.0000</td><td>12.0000</td><td>0.0000</td><td>0.0000</td><td>0.0000</td><td>null</td><td>13400.0000</td><td>0.0000</td><td>0.0000</td><td>0.0000</td><td>0.0000</td><td>0.0000</td><td>0.0000</td><td>3142.4001</td><td>null</td><td>null</td><td>null</td></tr><tr><td>&quot;50%&quot;</td><td>1311700.0000</td><td>0.0000</td><td>26937.0000</td><td>3000.0000</td><td>0.0000</td><td>0.0000</td><td>0.0000</td><td>0.0000</td><td>0.0000</td><td>0.0000</td><td>1.0000</td><td>-5.0000</td><td>-4.0000</td><td>-5.0000</td><td>0.0000</td><td>3894.0000</td><td>27978.0000</td><td>0.0000</td><td>22685.7150</td><td>4114.8003</td><td>null</td><td>null</td><td>0.0000</td><td>0.0000</td><td>0.0000</td><td>0.0000</td><td>0.0000</td><td>0.0000</td><td>0.0000</td><td>0.0000</td><td>0.0000</td><td>0.0000</td><td>0.0000</td><td>0.0000</td><td>0.0000</td><td>0.0000</td><td>&hellip;</td><td>8.0000</td><td>6.0000</td><td>2.0000</td><td>16.0000</td><td>20.0000</td><td>0.0000</td><td>0.0000</td><td>0.0000</td><td>0.0000</td><td>0.0000</td><td>0.0000</td><td>0.0000</td><td>null</td><td>null</td><td>null</td><td>null</td><td>0.6250</td><td>0.0000</td><td>0.0833</td><td>0.0104</td><td>0.0000</td><td>12.0000</td><td>0.0000</td><td>0.0000</td><td>0.0000</td><td>null</td><td>24478.0000</td><td>0.0000</td><td>1.0000</td><td>0.0000</td><td>0.0000</td><td>0.0000</td><td>29780.0000</td><td>6008.6000</td><td>null</td><td>null</td><td>null</td></tr><tr><td>&quot;75%&quot;</td><td>1562639.0000</td><td>0.0000</td><td>68961.2000</td><td>4989.8003</td><td>1866.6000</td><td>0.0000</td><td>0.0000</td><td>0.0000</td><td>0.0000</td><td>0.0000</td><td>3.0000</td><td>-1.0000</td><td>-1.0000</td><td>-1.0000</td><td>1.0000</td><td>6209.6000</td><td>54445.6000</td><td>0.0000</td><td>53911.4020</td><td>6977.2000</td><td>null</td><td>null</td><td>0.0000</td><td>0.0000</td><td>0.0000</td><td>0.0000</td><td>0.0000</td><td>0.0000</td><td>0.0000</td><td>0.0000</td><td>0.0000</td><td>0.0000</td><td>0.0000</td><td>0.0000</td><td>0.0000</td><td>0.0000</td><td>&hellip;</td><td>19.0000</td><td>12.0000</td><td>7.0000</td><td>35.0000</td><td>40.0000</td><td>9.0000</td><td>8.0000</td><td>8.0000</td><td>8.0000</td><td>0.0000</td><td>0.0000</td><td>0.0000</td><td>null</td><td>null</td><td>null</td><td>null</td><td>0.8571</td><td>0.0833</td><td>0.2766</td><td>0.1538</td><td>0.1177</td><td>24.0000</td><td>0.0000</td><td>0.0000</td><td>0.0000</td><td>null</td><td>43956.0000</td><td>0.0000</td><td>2.0000</td><td>27183.0000</td><td>25700.9160</td><td>11967.8000</td><td>101874.1100</td><td>11627.2000</td><td>null</td><td>null</td><td>null</td></tr><tr><td>&quot;max&quot;</td><td>2651092.0000</td><td>3676.0000</td><td>992476.5000</td><td>106007.0000</td><td>85620.8050</td><td>5.0000</td><td>25.0000</td><td>443.0000</td><td>247.0000</td><td>77.0000</td><td>97.0000</td><td>4467.0000</td><td>4467.0000</td><td>4467.0000</td><td>4467.0000</td><td>400000.0000</td><td>513520.0000</td><td>236.0000</td><td>1131135.9000</td><td>391795.2200</td><td>&quot;CA&quot;</td><td>&quot;PERSONALIZED&quot;</td><td>47.0000</td><td>47.0000</td><td>47.0000</td><td>95.0000</td><td>102.0000</td><td>11.0000</td><td>31.0000</td><td>4.0000</td><td>241.0000</td><td>13.0000</td><td>345.0000</td><td>8.0000</td><td>329.0000</td><td>8.0000</td><td>&hellip;</td><td>300.0000</td><td>74.0000</td><td>137.0000</td><td>356.0000</td><td>341.0000</td><td>141.0000</td><td>99.0000</td><td>67.0000</td><td>60.0000</td><td>4.0000</td><td>4.0000</td><td>61.0000</td><td>1.0000</td><td>&quot;OTHER&quot;</td><td>&quot;OTHER&quot;</td><td>&quot;2019-12-28&quot;</td><td>23.0000</td><td>1.1111</td><td>1.0000</td><td>2.0000</td><td>1.0000</td><td>60.0000</td><td>1.0000</td><td>1.0000</td><td>1.0000</td><td>&quot;a55475b1&quot;</td><td>761867.4400</td><td>8.0000</td><td>33.0000</td><td>1210629.1000</td><td>1085048.1000</td><td>1210629.1000</td><td>7988198.5000</td><td>794899.2000</td><td>&quot;FO&quot;</td><td>&quot;AL&quot;</td><td>&quot;2019-12-30&quot;</td></tr></tbody></table></div>"
      ],
      "text/plain": [
       "shape: (9, 169)\n",
       "┌────────────┬──────────────┬──────────────┬──────────────┬───┬──────────────┬─────────────┬─────────────┬─────────────┐\n",
       "│ statistic  ┆ case_id      ┆ actualdpdtol ┆ amtinstpaidb ┆ … ┆ totinstallas ┆ twobodfilli ┆ typesuite_8 ┆ validfrom_1 │\n",
       "│ ---        ┆ ---          ┆ erance_344P  ┆ efduel24m_41 ┆   ┆ t1m_4525188A ┆ ng_608L     ┆ 64L         ┆ 069D        │\n",
       "│ str        ┆ f64          ┆ ---          ┆ 87115A       ┆   ┆ ---          ┆ ---         ┆ ---         ┆ ---         │\n",
       "│            ┆              ┆ f64          ┆ ---          ┆   ┆ f64          ┆ str         ┆ str         ┆ str         │\n",
       "│            ┆              ┆              ┆ f64          ┆   ┆              ┆             ┆             ┆             │\n",
       "╞════════════╪══════════════╪══════════════╪══════════════╪═══╪══════════════╪═════════════╪═════════════╪═════════════╡\n",
       "│ count      ┆ 1003757.0000 ┆ 707071.0000  ┆ 574903.0000  ┆ … ┆ 138692.0000  ┆ 1003712     ┆ 288520      ┆ 119405      │\n",
       "│ null_count ┆ 0.0000       ┆ 296686.0000  ┆ 428854.0000  ┆ … ┆ 865065.0000  ┆ 45          ┆ 715237      ┆ 884352      │\n",
       "│ mean       ┆ 1216924.0563 ┆ 0.0544       ┆ 50692.5451   ┆ … ┆ 10576.1926   ┆ null        ┆ null        ┆ null        │\n",
       "│ std        ┆ 696462.4416  ┆ 8.7440       ┆ 65457.9386   ┆ … ┆ 16354.4178   ┆ null        ┆ null        ┆ null        │\n",
       "│ min        ┆ 0.0000       ┆ 0.0000       ┆ 0.0000       ┆ … ┆ 0.2220       ┆ BO          ┆ AL          ┆ 2018-09-22  │\n",
       "│ 25%        ┆ 725987.0000  ┆ 0.0000       ┆ 6453.0000    ┆ … ┆ 3142.4001    ┆ null        ┆ null        ┆ null        │\n",
       "│ 50%        ┆ 1311700.0000 ┆ 0.0000       ┆ 26937.0000   ┆ … ┆ 6008.6000    ┆ null        ┆ null        ┆ null        │\n",
       "│ 75%        ┆ 1562639.0000 ┆ 0.0000       ┆ 68961.2000   ┆ … ┆ 11627.2000   ┆ null        ┆ null        ┆ null        │\n",
       "│ max        ┆ 2651092.0000 ┆ 3676.0000    ┆ 992476.5000  ┆ … ┆ 794899.2000  ┆ FO          ┆ AL          ┆ 2019-12-30  │\n",
       "└────────────┴──────────────┴──────────────┴──────────────┴───┴──────────────┴─────────────┴─────────────┴─────────────┘"
      ]
     },
     "metadata": {},
     "output_type": "display_data"
    },
    {
     "name": "stdout",
     "output_type": "stream",
     "text": [
      "actualdpdtolerance_344P: DPD of client with tolerance.\n",
      "amtinstpaidbefduel24m_4187115A: Number of instalments paid before due date in the last 24 months.\n",
      "annuity_780A: Monthly annuity amount.\n",
      "annuitynextmonth_57A: Next month's amount of annuity.\n",
      "applicationcnt_361L: Number of applications associated with the same email address as the client.\n",
      "applications30d_658L: Number of applications made by the client in the last 30 days.\n",
      "applicationscnt_1086L: Number of applications associated with the same phone number.\n",
      "applicationscnt_464L: Number of applications made in the last 30 days by other clients with the same employer as the applicant.\n",
      "applicationscnt_629L: Number of applications with the same employer in the last 7 days.\n",
      "applicationscnt_867L: Number of applications associated with the same mobile phone.\n",
      "avgdbddpdlast24m_3658932P: Average days past or before due of payment during the last 24 months.\n",
      "avgdbddpdlast3m_4187120P: Average days past or before due of payment during the last 3 months.\n",
      "avgdbdtollast24m_4525197P: Average days of payment before due date within the last 24 months (with tolerance).\n",
      "avgdpdtolclosure24_3658938P: Average DPD (days past due) with tolerance within the past 24 months from the maximum closure date, assuming that the contract is finished. If the contract is ongoing, the calculation is based on the current date.\n",
      "avginstallast24m_3658937A: Average instalments paid by the client over the past 24 months.\n",
      "avglnamtstart24m_4525187A: Average loan amount in the last 24 months.\n",
      "avgmaxdpdlast9m_3716943P: Average Days Past Due (DPD) of the client in last 9 months.\n",
      "avgoutstandbalancel6m_4187114A: Average outstanding balance of applicant for the last 6 months.\n",
      "avgpmtlast12m_4525200A: Average of payments made by the client in the last 12 months.\n",
      "bankacctype_710L: Type of applicant's bank account.\n",
      "cardtype_51L: Type of credit card.\n",
      "clientscnt12m_3712952L: Number of clients that have used the same mobile phone as the applicant in the past 12 months.\n",
      "clientscnt3m_3712950L: Number of clients who have the same mobile phone number in the last 3 months.\n",
      "clientscnt6m_3712949L: Total number of clients who have used the same mobile number in the last 6 months.\n",
      "clientscnt_100L: Number of applications with matching employer's phone and client's.\n",
      "clientscnt_1022L: Number of clients sharing the same mobile phone.\n",
      "clientscnt_1071L: Number of applications where the alternative phone number matches that of the client.\n",
      "clientscnt_1130L: Number of applications where client's phone number matches the alternative phone contact.\n",
      "clientscnt_136L: Number of applications associated with same email address as client's email.\n",
      "clientscnt_157L: Number of clients whose employer has the same phone number as the client.\n",
      "clientscnt_257L: Number of clients that share an alternative phone number with the applicant.\n",
      "clientscnt_304L: Number of clients with the same phone number.\n",
      "clientscnt_360L: Number of clients that have the same alternative phone number and employer's phone number.\n",
      "clientscnt_493L: Number of clients with matching phone numbers for both the employer and the client.\n",
      "clientscnt_533L: Number of clients with same client's and alternative's phone number\n",
      "clientscnt_887L: Number of clients sharing the same employer's phone number.\n",
      "clientscnt_946L: Number of clients with matching mobile and employer's number.\n",
      "cntincpaycont9m_3716944L: Number of incoming payments in the past 9 months.\n",
      "cntpmts24_3658933L: Number of months with any incoming payment in last 24 months.\n",
      "commnoinclast6m_3546845L: Number of communications indicating low income in the last six months.\n",
      "credamount_770A: Loan amount or credit card limit.\n",
      "credtype_322L: Type of credit.\n",
      "currdebt_22A: Current debt amount of the client.\n",
      "currdebtcredtyperange_828A: Current amount of debt of the applicant.\n",
      "datefirstoffer_1144D: Date of first customer relationship management (CRM) offer.\n",
      "datelastinstal40dpd_247D: Date of last instalment that was more than 40 days past due (DPD).\n",
      "datelastunpaid_3546854D: Date of the last unpaid instalment.\n",
      "daysoverduetolerancedd_3976961L: Number of days that past after the due date (with tolerance).\n",
      "deferredmnthsnum_166L: Number of deferred months.\n",
      "disbursedcredamount_1113A: Disbursed credit amount after consolidation.\n",
      "disbursementtype_67L: Type of disbursement.\n",
      "downpmt_116A: Amount of downpayment.\n",
      "dtlastpmtallstes_4499206D: Date of last payment made by the applicant.\n",
      "eir_270L: Interest rate.\n",
      "equalitydataagreement_891L: Flag indicating sudden changes in client's social-demographic data (e.g. education, family status, housing type).\n",
      "equalityempfrom_62L: Flag indicating a sudden change in the client's length of employment.\n",
      "firstclxcampaign_1125D: Date of the client's first campaign.\n",
      "firstdatedue_489D: Date of the first due date.\n",
      "homephncnt_628L: Number of distinct home phones on client's application.\n",
      "inittransactionamount_650A: Initial transaction amount of the credit application.\n",
      "inittransactioncode_186L: Transaction type of the initial credit transaction.\n",
      "interestrate_311L: The interest rate of the active credit contract.\n",
      "interestrategrace_34L: Interest rate during the grace period.\n",
      "isbidproduct_1095L: Flag indicating if the product is a cross-sell.\n",
      "isbidproductrequest_292L: Flag indicating if the product is a cross-sell.\n",
      "isdebitcard_729L: Flag indicating if the product is a debit card.\n",
      "lastactivateddate_801D: Contract activation date for previous applications.\n",
      "lastapplicationdate_877D: Date of previous customer's application.\n",
      "lastapprcommoditycat_1041M: Commodity category of the last loan applications made by the applicant.\n",
      "lastapprcommoditytypec_5251766M: Commodity type of the last application.\n",
      "lastapprcredamount_781A: Credit amount from the client's last application.\n",
      "lastapprdate_640D: Date of approval on client's most recent previous application.\n",
      "lastcancelreason_561M: Cancellation reason of the last application.\n",
      "lastdelinqdate_224D: Date of the last delinquency occurrence.\n",
      "lastdependentsnum_448L: Number of dependents in the client's last loan application.\n",
      "lastotherinc_902A: Amount of other income reported by the client in their last application.\n",
      "lastotherlnsexpense_631A: Monthly expenses on other loans from the last application.\n",
      "lastrejectcommoditycat_161M: Category of commodity in the applicant's last rejected application.\n",
      "lastrejectcommodtypec_5251769M: Commodity type of the last rejected application.\n",
      "lastrejectcredamount_222A: Credit amount on last rejected application.\n",
      "lastrejectdate_50D: Date of most recent rejected application by the applicant.\n",
      "lastrejectreason_759M: Reason for rejection on the most recent rejected application.\n",
      "lastrejectreasonclient_4145040M: Reason for the client's last loan rejection.\n",
      "lastrepayingdate_696D: Date of the last payment made by the applicant.\n",
      "lastst_736L: Status of the client's previous credit application.\n",
      "maininc_215A: Client's primary income amount.\n",
      "mastercontrelectronic_519L: Flag indicating the existence of the master contract for the client.\n",
      "mastercontrexist_109L: Flag indicating whether or not the applicant has an existing master contract.\n",
      "maxannuity_159A: Maximum annuity previously obtained by client.\n",
      "maxannuity_4075009A: Maximal annuity offered to the client in the current application.\n",
      "maxdbddpdlast1m_3658939P: Maximum number of days past due in the last month. A negative value indicates the number of days before the due date.\n",
      "maxdbddpdtollast12m_3658940P: Maximum number of days past due in last 12 months. A negative value implies days before due date.\n",
      "maxdbddpdtollast6m_4187119P: Maximum number of days past due in last 6 months. This predictor takes the value as a negative number when it represents days before due date.\n",
      "maxdebt4_972A: Maximal principal debt of the client in the history older than 4 months.\n",
      "maxdpdfrom6mto36m_3546853P: Maximum Days Past Due (DPD) in the period ranging from 6 to 36 months.\n",
      "maxdpdinstldate_3546855D: Date of instalment on which client was most days past due.\n",
      "maxdpdinstlnum_3546846P: Instalment number of which client was most days past due.\n",
      "maxdpdlast12m_727P: Maximum days past due in the past 12 months.\n",
      "maxdpdlast24m_143P: Maximal days past due in the last 24 months.\n",
      "maxdpdlast3m_392P: Maximum number of days past due in last 3 months.\n",
      "maxdpdlast6m_474P: Maximum days past due in the last 6 months.\n",
      "maxdpdlast9m_1059P: Maximum days past due in last 9 months.\n",
      "maxdpdtolerance_374P: Maximum number of days past due (with tolerance).\n",
      "maxinstallast24m_3658928A: Maximum instalment in the last 24 months\n",
      "maxlnamtstart6m_4525199A: Maximum loan amount started in the last 6 months.\n",
      "maxoutstandbalancel12m_4187113A: Maximum outstanding balance in the last 12 months.\n",
      "maxpmtlast3m_4525190A: Maximum payment made by the client in the last 3 months.\n",
      "mindbddpdlast24m_3658935P: Minimum days past due (or days before due) in last 24 months.\n",
      "mindbdtollast24m_4525191P: Minimum days before due in last 24 months.\n",
      "mobilephncnt_593L: Number of persons with the same mobile phone number.\n",
      "monthsannuity_845L: Monthly annuity amount for the applicant.\n",
      "numactivecreds_622L: Number of active credits.\n",
      "numactivecredschannel_414L: Number of active credits.\n",
      "numactiverelcontr_750L: Number of active revolving credits.\n",
      "numcontrs3months_479L: Number of contracts in last 3 months.\n",
      "numincomingpmts_3546848L: Number of incoming payments.\n",
      "numinstlallpaidearly3d_817L: Number of instalments paid at least 3 days prior to their due date.\n",
      "numinstls_657L: Number of instalments.\n",
      "numinstlsallpaid_934L: Number of paid instalments.\n",
      "numinstlswithdpd10_728L: Number of instalments that were overdue for 10 or more days.\n",
      "numinstlswithdpd5_4187116L: Number of instalments that were overdue by at least 5 days.\n",
      "numinstlswithoutdpd_562L: Number of instalments that were not past due date.\n",
      "numinstmatpaidtearly2d_4499204L: Number of instalments that have been paid more than 2 days before their due date.\n",
      "numinstpaid_4499208L: Number of paid instalments.\n",
      "numinstpaidearly3d_3546850L: Number of instalments paid more than three days before the due date.\n",
      "numinstpaidearly3dest_4493216L: Number of instalments that have been paid more than 3 days in advance of the due date.\n",
      "numinstpaidearly5d_1087L: Number of instalments paid more than 5 days prior to the due date.\n",
      "numinstpaidearly5dest_4493211L: Number of instalments that were paid more than 5 days before the due date.\n",
      "numinstpaidearly5dobd_4499205L: Number of installments paid more than 5 days prior to the due date.\n",
      "numinstpaidearly_338L: Number of installments paid prior to the due date.\n",
      "numinstpaidearlyest_4493214L: Number of instalments paid before the due date.\n",
      "numinstpaidlastcontr_4325080L: Number of paid installments from the client's last contract.\n",
      "numinstpaidlate1d_3546852L: Number of instalments paid more than 1 day past their due date.\n",
      "numinstregularpaid_973L: Number of fully paid regular installments in the client's previous contracts.\n",
      "numinstregularpaidest_4493210L: Number of fully paid regular installments on clients' previous contracts.\n",
      "numinsttopaygr_769L: Number of unpaid instalments.\n",
      "numinsttopaygrest_4493213L: Number of unpaid instalments.\n",
      "numinstunpaidmax_3546851L: Maximum number of unpaid instalments.\n",
      "numinstunpaidmaxest_4493212L: Maximum number of unpaid instalments.\n",
      "numnotactivated_1143L: Number of non-activated credits.\n",
      "numpmtchanneldd_318L: Number of previous loan contracts for the applicant that had direct debit as payment channel.\n",
      "numrejects9m_859L: Number of credit applications that were rejected in the last 9 months.\n",
      "opencred_647L: Number of active loans from the previous application.\n",
      "paytype1st_925L: Type of first payment of the client.\n",
      "paytype_783L: Type of payment.\n",
      "payvacationpostpone_4187118D: Date of last payment holiday instalment.\n",
      "pctinstlsallpaidearl3d_427L: Percentage of installments paid at least 3 days prior to the due date.\n",
      "pctinstlsallpaidlat10d_839L: Percentage of installments that were paid 10 or more days after the due date.\n",
      "pctinstlsallpaidlate1d_3546856L: Percentage of installments that are paid 1 or more days after the due date.\n",
      "pctinstlsallpaidlate4d_3546849L: Percentage of installments that were paid 4 or more days past their due date.\n",
      "pctinstlsallpaidlate6d_3546844L: Percentage of installments that were paid 6 or more days past their due date.\n",
      "pmtnum_254L: Total number of loan payments made by the client.\n",
      "posfpd10lastmonth_333P: Average FPD10 (Share of contracts with first installment past due more than 10 days) from point of sales that processed contract in the previous month.\n",
      "posfpd30lastmonth_3976960P: Average FPD30 (Share of contracts with first installment past due more than 30 days) from point of sales that processed contract in the previous month.\n",
      "posfstqpd30lastmonth_3976962P: Average FSTPD30 (share of contracts with first, second, or third installment past due more than 30 days) from point of sale that processed contract in the last month.\n",
      "previouscontdistrict_112M: Contact district of the client's previous approved application.\n",
      "price_1097A: Credit price.\n",
      "sellerplacecnt_915L: Number of sellerplaces where the same client's document was used.\n",
      "sellerplacescnt_216L: Number of sellerplaces where the same client's mobile phone was used.\n",
      "sumoutstandtotal_3546847A: Sum of total outstanding amount.\n",
      "sumoutstandtotalest_4493215A: Sum of total outstanding amount.\n",
      "totaldebt_9A: Total amount of debt.\n",
      "totalsettled_863A: Sum of all payments made by the client.\n",
      "totinstallast1m_4525188A: Total amount of monthly instalments paid in the previous month.\n",
      "twobodfilling_608L: Type of application process.\n",
      "typesuite_864L: Persons accompanying the client during the loan application process.\n",
      "validfrom_1069D: Date since the client has an active campaign.\n"
     ]
    }
   ],
   "source": [
    "train_static_0_0 = print_sample_info(TRAIN_DIR, \"train_static_0_0.parquet\",\n",
    "                                     feature_definitions)"
   ]
  },
  {
   "cell_type": "markdown",
   "id": "d6883d90",
   "metadata": {},
   "source": [
    "Файл содержит внутреннюю банковскую и статистическую информацию по каждому case_id, например:\n",
    "- Средний размер платежей, выплаченных клиентом за последние 24 месяца \n",
    "- Сумма ежемесячной ренты\n",
    "- Тип банковского счета заявителя\n",
    "- Тип кредитной карты\n",
    "- Сумма кредита или лимит кредитной карты"
   ]
  },
  {
   "cell_type": "markdown",
   "id": "a8e86db8",
   "metadata": {},
   "source": [
    "## static_cb_0\n",
    "Properties: depth=0, external data source"
   ]
  },
  {
   "cell_type": "code",
   "execution_count": 19,
   "id": "30b0672a",
   "metadata": {
    "scrolled": true
   },
   "outputs": [
    {
     "data": {
      "text/html": [
       "<div><style>\n",
       ".dataframe > thead > tr,\n",
       ".dataframe > tbody > tr {\n",
       "  text-align: right;\n",
       "  white-space: pre-wrap;\n",
       "}\n",
       "</style>\n",
       "<small>shape: (5, 53)</small><table border=\"1\" class=\"dataframe\"><thead><tr><th>case_id</th><th>assignmentdate_238D</th><th>assignmentdate_4527235D</th><th>assignmentdate_4955616D</th><th>birthdate_574D</th><th>contractssum_5085716L</th><th>dateofbirth_337D</th><th>dateofbirth_342D</th><th>days120_123L</th><th>days180_256L</th><th>days30_165L</th><th>days360_512L</th><th>days90_310L</th><th>description_5085714M</th><th>education_1103M</th><th>education_88M</th><th>firstquarter_103L</th><th>for3years_128L</th><th>for3years_504L</th><th>for3years_584L</th><th>formonth_118L</th><th>formonth_206L</th><th>formonth_535L</th><th>forquarter_1017L</th><th>forquarter_462L</th><th>forquarter_634L</th><th>fortoday_1092L</th><th>forweek_1077L</th><th>forweek_528L</th><th>forweek_601L</th><th>foryear_618L</th><th>foryear_818L</th><th>foryear_850L</th><th>fourthquarter_440L</th><th>maritalst_385M</th><th>maritalst_893M</th><th>numberofqueries_373L</th><th>pmtaverage_3A</th><th>pmtaverage_4527227A</th><th>pmtaverage_4955615A</th><th>pmtcount_4527229L</th><th>pmtcount_4955617L</th><th>pmtcount_693L</th><th>pmtscount_423L</th><th>pmtssum_45A</th><th>requesttype_4525192L</th><th>responsedate_1012D</th><th>responsedate_4527233D</th><th>responsedate_4917613D</th><th>riskassesment_302T</th><th>riskassesment_940T</th><th>secondquarter_766L</th><th>thirdquarter_1082L</th></tr><tr><td>i64</td><td>str</td><td>str</td><td>str</td><td>str</td><td>f64</td><td>str</td><td>str</td><td>f64</td><td>f64</td><td>f64</td><td>f64</td><td>f64</td><td>str</td><td>str</td><td>str</td><td>f64</td><td>f64</td><td>f64</td><td>f64</td><td>f64</td><td>f64</td><td>f64</td><td>f64</td><td>f64</td><td>f64</td><td>f64</td><td>f64</td><td>f64</td><td>f64</td><td>f64</td><td>f64</td><td>f64</td><td>f64</td><td>str</td><td>str</td><td>f64</td><td>f64</td><td>f64</td><td>f64</td><td>f64</td><td>f64</td><td>f64</td><td>f64</td><td>f64</td><td>str</td><td>str</td><td>str</td><td>str</td><td>str</td><td>f64</td><td>f64</td><td>f64</td></tr></thead><tbody><tr><td>357</td><td>null</td><td>null</td><td>null</td><td>&quot;1988-04-01&quot;</td><td>null</td><td>null</td><td>null</td><td>null</td><td>null</td><td>null</td><td>null</td><td>null</td><td>&quot;a55475b1&quot;</td><td>&quot;a55475b1&quot;</td><td>&quot;a55475b1&quot;</td><td>null</td><td>null</td><td>null</td><td>null</td><td>null</td><td>null</td><td>null</td><td>null</td><td>null</td><td>null</td><td>null</td><td>null</td><td>null</td><td>null</td><td>null</td><td>null</td><td>null</td><td>null</td><td>&quot;a55475b1&quot;</td><td>&quot;a55475b1&quot;</td><td>null</td><td>null</td><td>null</td><td>null</td><td>null</td><td>null</td><td>null</td><td>6.0000</td><td>6301.4000</td><td>null</td><td>&quot;2019-01-25&quot;</td><td>null</td><td>null</td><td>null</td><td>null</td><td>null</td><td>null</td></tr><tr><td>381</td><td>null</td><td>null</td><td>null</td><td>&quot;1973-11-01&quot;</td><td>null</td><td>null</td><td>null</td><td>null</td><td>null</td><td>null</td><td>null</td><td>null</td><td>&quot;a55475b1&quot;</td><td>&quot;a55475b1&quot;</td><td>&quot;a55475b1&quot;</td><td>null</td><td>null</td><td>null</td><td>null</td><td>null</td><td>null</td><td>null</td><td>null</td><td>null</td><td>null</td><td>null</td><td>null</td><td>null</td><td>null</td><td>null</td><td>null</td><td>null</td><td>null</td><td>&quot;a55475b1&quot;</td><td>&quot;a55475b1&quot;</td><td>null</td><td>null</td><td>null</td><td>null</td><td>null</td><td>null</td><td>null</td><td>6.0000</td><td>4019.6000</td><td>null</td><td>&quot;2019-01-25&quot;</td><td>null</td><td>null</td><td>null</td><td>null</td><td>null</td><td>null</td></tr><tr><td>388</td><td>null</td><td>null</td><td>null</td><td>&quot;1989-04-01&quot;</td><td>null</td><td>&quot;1989-04-01&quot;</td><td>null</td><td>6.0000</td><td>8.0000</td><td>2.0000</td><td>10.0000</td><td>4.0000</td><td>&quot;a55475b1&quot;</td><td>&quot;a55475b1&quot;</td><td>&quot;a55475b1&quot;</td><td>2.0000</td><td>null</td><td>null</td><td>null</td><td>null</td><td>null</td><td>null</td><td>null</td><td>null</td><td>null</td><td>null</td><td>null</td><td>null</td><td>null</td><td>null</td><td>null</td><td>null</td><td>6.0000</td><td>&quot;a55475b1&quot;</td><td>&quot;a55475b1&quot;</td><td>10.0000</td><td>null</td><td>null</td><td>null</td><td>null</td><td>null</td><td>null</td><td>6.0000</td><td>14548.0000</td><td>null</td><td>&quot;2019-01-28&quot;</td><td>null</td><td>null</td><td>null</td><td>null</td><td>3.0000</td><td>5.0000</td></tr><tr><td>405</td><td>null</td><td>null</td><td>null</td><td>&quot;1974-03-01&quot;</td><td>null</td><td>&quot;1974-03-01&quot;</td><td>null</td><td>0.0000</td><td>0.0000</td><td>0.0000</td><td>1.0000</td><td>0.0000</td><td>&quot;a55475b1&quot;</td><td>&quot;a55475b1&quot;</td><td>&quot;a55475b1&quot;</td><td>0.0000</td><td>null</td><td>null</td><td>null</td><td>null</td><td>null</td><td>null</td><td>null</td><td>null</td><td>null</td><td>null</td><td>null</td><td>null</td><td>null</td><td>null</td><td>null</td><td>null</td><td>4.0000</td><td>&quot;a55475b1&quot;</td><td>&quot;a55475b1&quot;</td><td>1.0000</td><td>null</td><td>null</td><td>null</td><td>null</td><td>null</td><td>null</td><td>6.0000</td><td>10498.2400</td><td>null</td><td>&quot;2019-01-21&quot;</td><td>null</td><td>null</td><td>null</td><td>null</td><td>2.0000</td><td>0.0000</td></tr><tr><td>409</td><td>null</td><td>null</td><td>null</td><td>&quot;1993-06-01&quot;</td><td>null</td><td>&quot;1993-06-01&quot;</td><td>null</td><td>2.0000</td><td>3.0000</td><td>0.0000</td><td>3.0000</td><td>1.0000</td><td>&quot;a55475b1&quot;</td><td>&quot;717ddd49&quot;</td><td>&quot;a55475b1&quot;</td><td>4.0000</td><td>null</td><td>null</td><td>null</td><td>null</td><td>null</td><td>null</td><td>null</td><td>null</td><td>null</td><td>null</td><td>null</td><td>null</td><td>null</td><td>null</td><td>null</td><td>null</td><td>1.0000</td><td>&quot;a7fcb6e5&quot;</td><td>&quot;a55475b1&quot;</td><td>3.0000</td><td>null</td><td>null</td><td>null</td><td>null</td><td>null</td><td>null</td><td>7.0000</td><td>6344.8804</td><td>null</td><td>&quot;2019-01-21&quot;</td><td>null</td><td>null</td><td>null</td><td>null</td><td>0.0000</td><td>4.0000</td></tr></tbody></table></div>"
      ],
      "text/plain": [
       "shape: (5, 53)\n",
       "┌─────────┬──────────────┬──────────────┬──────────────┬───┬──────────────┬──────────────┬──────────────┬──────────────┐\n",
       "│ case_id ┆ assignmentda ┆ assignmentda ┆ assignmentda ┆ … ┆ riskassesmen ┆ riskassesmen ┆ secondquarte ┆ thirdquarter │\n",
       "│ ---     ┆ te_238D      ┆ te_4527235D  ┆ te_4955616D  ┆   ┆ t_302T       ┆ t_940T       ┆ r_766L       ┆ _1082L       │\n",
       "│ i64     ┆ ---          ┆ ---          ┆ ---          ┆   ┆ ---          ┆ ---          ┆ ---          ┆ ---          │\n",
       "│         ┆ str          ┆ str          ┆ str          ┆   ┆ str          ┆ f64          ┆ f64          ┆ f64          │\n",
       "╞═════════╪══════════════╪══════════════╪══════════════╪═══╪══════════════╪══════════════╪══════════════╪══════════════╡\n",
       "│ 357     ┆ null         ┆ null         ┆ null         ┆ … ┆ null         ┆ null         ┆ null         ┆ null         │\n",
       "│ 381     ┆ null         ┆ null         ┆ null         ┆ … ┆ null         ┆ null         ┆ null         ┆ null         │\n",
       "│ 388     ┆ null         ┆ null         ┆ null         ┆ … ┆ null         ┆ null         ┆ 3.0000       ┆ 5.0000       │\n",
       "│ 405     ┆ null         ┆ null         ┆ null         ┆ … ┆ null         ┆ null         ┆ 2.0000       ┆ 0.0000       │\n",
       "│ 409     ┆ null         ┆ null         ┆ null         ┆ … ┆ null         ┆ null         ┆ 0.0000       ┆ 4.0000       │\n",
       "└─────────┴──────────────┴──────────────┴──────────────┴───┴──────────────┴──────────────┴──────────────┴──────────────┘"
      ]
     },
     "metadata": {},
     "output_type": "display_data"
    },
    {
     "data": {
      "text/html": [
       "<div><style>\n",
       ".dataframe > thead > tr,\n",
       ".dataframe > tbody > tr {\n",
       "  text-align: right;\n",
       "  white-space: pre-wrap;\n",
       "}\n",
       "</style>\n",
       "<small>shape: (9, 54)</small><table border=\"1\" class=\"dataframe\"><thead><tr><th>statistic</th><th>case_id</th><th>assignmentdate_238D</th><th>assignmentdate_4527235D</th><th>assignmentdate_4955616D</th><th>birthdate_574D</th><th>contractssum_5085716L</th><th>dateofbirth_337D</th><th>dateofbirth_342D</th><th>days120_123L</th><th>days180_256L</th><th>days30_165L</th><th>days360_512L</th><th>days90_310L</th><th>description_5085714M</th><th>education_1103M</th><th>education_88M</th><th>firstquarter_103L</th><th>for3years_128L</th><th>for3years_504L</th><th>for3years_584L</th><th>formonth_118L</th><th>formonth_206L</th><th>formonth_535L</th><th>forquarter_1017L</th><th>forquarter_462L</th><th>forquarter_634L</th><th>fortoday_1092L</th><th>forweek_1077L</th><th>forweek_528L</th><th>forweek_601L</th><th>foryear_618L</th><th>foryear_818L</th><th>foryear_850L</th><th>fourthquarter_440L</th><th>maritalst_385M</th><th>maritalst_893M</th><th>numberofqueries_373L</th><th>pmtaverage_3A</th><th>pmtaverage_4527227A</th><th>pmtaverage_4955615A</th><th>pmtcount_4527229L</th><th>pmtcount_4955617L</th><th>pmtcount_693L</th><th>pmtscount_423L</th><th>pmtssum_45A</th><th>requesttype_4525192L</th><th>responsedate_1012D</th><th>responsedate_4527233D</th><th>responsedate_4917613D</th><th>riskassesment_302T</th><th>riskassesment_940T</th><th>secondquarter_766L</th><th>thirdquarter_1082L</th></tr><tr><td>str</td><td>f64</td><td>str</td><td>str</td><td>str</td><td>str</td><td>f64</td><td>str</td><td>str</td><td>f64</td><td>f64</td><td>f64</td><td>f64</td><td>f64</td><td>str</td><td>str</td><td>str</td><td>f64</td><td>f64</td><td>f64</td><td>f64</td><td>f64</td><td>f64</td><td>f64</td><td>f64</td><td>f64</td><td>f64</td><td>f64</td><td>f64</td><td>f64</td><td>f64</td><td>f64</td><td>f64</td><td>f64</td><td>f64</td><td>str</td><td>str</td><td>f64</td><td>f64</td><td>f64</td><td>f64</td><td>f64</td><td>f64</td><td>f64</td><td>f64</td><td>f64</td><td>str</td><td>str</td><td>str</td><td>str</td><td>str</td><td>f64</td><td>f64</td><td>f64</td></tr></thead><tbody><tr><td>&quot;count&quot;</td><td>1500476.0000</td><td>&quot;136996&quot;</td><td>&quot;114978&quot;</td><td>&quot;71633&quot;</td><td>&quot;607871&quot;</td><td>157329.0000</td><td>&quot;1385691&quot;</td><td>&quot;36500&quot;</td><td>1385691.0000</td><td>1385691.0000</td><td>1385691.0000</td><td>1385691.0000</td><td>1385691.0000</td><td>&quot;1500476&quot;</td><td>&quot;1500476&quot;</td><td>&quot;1500476&quot;</td><td>1385691.0000</td><td>36514.0000</td><td>36514.0000</td><td>36514.0000</td><td>36514.0000</td><td>36514.0000</td><td>36514.0000</td><td>36514.0000</td><td>36514.0000</td><td>36514.0000</td><td>36514.0000</td><td>36514.0000</td><td>36514.0000</td><td>36514.0000</td><td>36514.0000</td><td>36514.0000</td><td>36514.0000</td><td>1385691.0000</td><td>&quot;1500476&quot;</td><td>&quot;1500476&quot;</td><td>1385691.0000</td><td>143589.0000</td><td>114978.0000</td><td>71845.0000</td><td>114978.0000</td><td>71845.0000</td><td>146406.0000</td><td>572638.0000</td><td>572638.0000</td><td>&quot;673264&quot;</td><td>&quot;720000&quot;</td><td>&quot;660327&quot;</td><td>&quot;224912&quot;</td><td>&quot;53559&quot;</td><td>53560.0000</td><td>1385691.0000</td><td>1385691.0000</td></tr><tr><td>&quot;null_count&quot;</td><td>0.0000</td><td>&quot;1363480&quot;</td><td>&quot;1385498&quot;</td><td>&quot;1428843&quot;</td><td>&quot;892605&quot;</td><td>1343147.0000</td><td>&quot;114785&quot;</td><td>&quot;1463976&quot;</td><td>114785.0000</td><td>114785.0000</td><td>114785.0000</td><td>114785.0000</td><td>114785.0000</td><td>&quot;0&quot;</td><td>&quot;0&quot;</td><td>&quot;0&quot;</td><td>114785.0000</td><td>1463962.0000</td><td>1463962.0000</td><td>1463962.0000</td><td>1463962.0000</td><td>1463962.0000</td><td>1463962.0000</td><td>1463962.0000</td><td>1463962.0000</td><td>1463962.0000</td><td>1463962.0000</td><td>1463962.0000</td><td>1463962.0000</td><td>1463962.0000</td><td>1463962.0000</td><td>1463962.0000</td><td>1463962.0000</td><td>114785.0000</td><td>&quot;0&quot;</td><td>&quot;0&quot;</td><td>114785.0000</td><td>1356887.0000</td><td>1385498.0000</td><td>1428631.0000</td><td>1385498.0000</td><td>1428631.0000</td><td>1354070.0000</td><td>927838.0000</td><td>927838.0000</td><td>&quot;827212&quot;</td><td>&quot;780476&quot;</td><td>&quot;840149&quot;</td><td>&quot;1275564&quot;</td><td>&quot;1446917&quot;</td><td>1446916.0000</td><td>114785.0000</td><td>114785.0000</td></tr><tr><td>&quot;mean&quot;</td><td>1284031.7228</td><td>null</td><td>null</td><td>null</td><td>null</td><td>641604.4177</td><td>null</td><td>null</td><td>1.6077</td><td>2.3887</td><td>0.5177</td><td>4.7771</td><td>1.2114</td><td>null</td><td>null</td><td>null</td><td>2.8606</td><td>0.0001</td><td>4.3823</td><td>0.0077</td><td>0.0000</td><td>0.0004</td><td>0.2368</td><td>0.0010</td><td>0.0000</td><td>0.6139</td><td>0.0369</td><td>0.0001</td><td>0.0901</td><td>0.0000</td><td>0.0001</td><td>0.0021</td><td>2.4207</td><td>2.8512</td><td>null</td><td>null</td><td>4.7771</td><td>9303.1717</td><td>10033.5561</td><td>17651.7325</td><td>6.5980</td><td>13.0611</td><td>5.7150</td><td>5.8393</td><td>13199.9360</td><td>null</td><td>null</td><td>null</td><td>null</td><td>null</td><td>0.2260</td><td>2.6885</td><td>2.9183</td></tr><tr><td>&quot;std&quot;</td><td>716088.1235</td><td>null</td><td>null</td><td>null</td><td>null</td><td>980327.2971</td><td>null</td><td>null</td><td>2.0830</td><td>2.8911</td><td>0.8992</td><td>5.1689</td><td>1.6559</td><td>null</td><td>null</td><td>null</td><td>3.6110</td><td>0.0091</td><td>5.8155</td><td>0.0911</td><td>0.0000</td><td>0.0189</td><td>0.5355</td><td>0.0335</td><td>0.0000</td><td>1.1500</td><td>0.1892</td><td>0.0074</td><td>0.2913</td><td>0.0000</td><td>0.0074</td><td>0.0490</td><td>3.5525</td><td>3.4317</td><td>null</td><td>null</td><td>5.1689</td><td>5562.3870</td><td>5455.8436</td><td>6871.6423</td><td>2.1890</td><td>1.8552</td><td>1.7581</td><td>4.1483</td><td>18117.2183</td><td>null</td><td>null</td><td>null</td><td>null</td><td>null</td><td>0.9762</td><td>3.3245</td><td>3.4239</td></tr><tr><td>&quot;min&quot;</td><td>357.0000</td><td>&quot;1974-05-30&quot;</td><td>&quot;2019-09-13&quot;</td><td>&quot;1984-12-05&quot;</td><td>&quot;1943-03-01&quot;</td><td>0.0000</td><td>&quot;1900-01-01&quot;</td><td>&quot;1915-01-01&quot;</td><td>0.0000</td><td>0.0000</td><td>0.0000</td><td>0.0000</td><td>0.0000</td><td>&quot;2fc785b2&quot;</td><td>&quot;39a0853f&quot;</td><td>&quot;6b2ae0fa&quot;</td><td>0.0000</td><td>0.0000</td><td>0.0000</td><td>0.0000</td><td>0.0000</td><td>0.0000</td><td>0.0000</td><td>0.0000</td><td>0.0000</td><td>0.0000</td><td>0.0000</td><td>0.0000</td><td>0.0000</td><td>0.0000</td><td>0.0000</td><td>0.0000</td><td>0.0000</td><td>0.0000</td><td>&quot;3439d993&quot;</td><td>&quot;1a19667c&quot;</td><td>0.0000</td><td>0.0000</td><td>4.2000</td><td>4.4000</td><td>1.0000</td><td>1.0000</td><td>0.0000</td><td>0.0000</td><td>0.0000</td><td>&quot;DEDUCTION_6&quot;</td><td>&quot;2019-01-02&quot;</td><td>&quot;2019-09-13&quot;</td><td>&quot;2020-03-26&quot;</td><td>&quot;1% - 1%&quot;</td><td>-3.6704</td><td>0.0000</td><td>0.0000</td></tr><tr><td>&quot;25%&quot;</td><td>768509.0000</td><td>null</td><td>null</td><td>null</td><td>null</td><td>78531.9500</td><td>null</td><td>null</td><td>0.0000</td><td>0.0000</td><td>0.0000</td><td>1.0000</td><td>0.0000</td><td>null</td><td>null</td><td>null</td><td>0.0000</td><td>0.0000</td><td>0.0000</td><td>0.0000</td><td>0.0000</td><td>0.0000</td><td>0.0000</td><td>0.0000</td><td>0.0000</td><td>0.0000</td><td>0.0000</td><td>0.0000</td><td>0.0000</td><td>0.0000</td><td>0.0000</td><td>0.0000</td><td>0.0000</td><td>0.0000</td><td>null</td><td>null</td><td>1.0000</td><td>6590.6000</td><td>7192.0000</td><td>13664.6010</td><td>6.0000</td><td>12.0000</td><td>6.0000</td><td>3.0000</td><td>3156.4001</td><td>null</td><td>null</td><td>null</td><td>null</td><td>null</td><td>-0.2280</td><td>0.0000</td><td>0.0000</td></tr><tr><td>&quot;50%&quot;</td><td>1361879.0000</td><td>null</td><td>null</td><td>null</td><td>null</td><td>307282.4000</td><td>null</td><td>null</td><td>1.0000</td><td>2.0000</td><td>0.0000</td><td>3.0000</td><td>1.0000</td><td>null</td><td>null</td><td>null</td><td>2.0000</td><td>0.0000</td><td>2.0000</td><td>0.0000</td><td>0.0000</td><td>0.0000</td><td>0.0000</td><td>0.0000</td><td>0.0000</td><td>0.0000</td><td>0.0000</td><td>0.0000</td><td>0.0000</td><td>0.0000</td><td>0.0000</td><td>0.0000</td><td>1.0000</td><td>2.0000</td><td>null</td><td>null</td><td>3.0000</td><td>7305.9000</td><td>7553.0000</td><td>15765.2000</td><td>6.0000</td><td>14.0000</td><td>6.0000</td><td>6.0000</td><td>8392.0000</td><td>null</td><td>null</td><td>null</td><td>null</td><td>null</td><td>0.3718</td><td>2.0000</td><td>2.0000</td></tr><tr><td>&quot;75%&quot;</td><td>1737010.0000</td><td>null</td><td>null</td><td>null</td><td>null</td><td>802114.0800</td><td>null</td><td>null</td><td>2.0000</td><td>3.0000</td><td>1.0000</td><td>7.0000</td><td>2.0000</td><td>null</td><td>null</td><td>null</td><td>4.0000</td><td>0.0000</td><td>6.0000</td><td>0.0000</td><td>0.0000</td><td>0.0000</td><td>0.0000</td><td>0.0000</td><td>0.0000</td><td>1.0000</td><td>0.0000</td><td>0.0000</td><td>0.0000</td><td>0.0000</td><td>0.0000</td><td>0.0000</td><td>3.0000</td><td>4.0000</td><td>null</td><td>null</td><td>7.0000</td><td>13023.9000</td><td>13464.4000</td><td>21840.0000</td><td>6.0000</td><td>14.0000</td><td>6.0000</td><td>7.0000</td><td>16992.0000</td><td>null</td><td>null</td><td>null</td><td>null</td><td>null</td><td>0.9717</td><td>4.0000</td><td>4.0000</td></tr><tr><td>&quot;max&quot;</td><td>2703454.0000</td><td>&quot;2019-10-22&quot;</td><td>&quot;2020-10-19&quot;</td><td>&quot;2020-09-22&quot;</td><td>&quot;1998-09-01&quot;</td><td>31296759.1100</td><td>&quot;2020-01-01&quot;</td><td>&quot;2015-09-01&quot;</td><td>109.0000</td><td>110.0000</td><td>22.0000</td><td>115.0000</td><td>41.0000</td><td>&quot;a55475b1&quot;</td><td>&quot;c8e1a1d0&quot;</td><td>&quot;c8e1a1d0&quot;</td><td>76.0000</td><td>1.0000</td><td>57.0000</td><td>2.0000</td><td>0.0000</td><td>1.0000</td><td>11.0000</td><td>2.0000</td><td>0.0000</td><td>19.0000</td><td>2.0000</td><td>1.0000</td><td>4.0000</td><td>0.0000</td><td>1.0000</td><td>2.0000</td><td>41.0000</td><td>66.0000</td><td>&quot;ecd83604&quot;</td><td>&quot;ecd83604&quot;</td><td>115.0000</td><td>145257.4000</td><td>205848.6100</td><td>99085.4000</td><td>15.0000</td><td>16.0000</td><td>66.0000</td><td>121.0000</td><td>476843.4000</td><td>&quot;SOCIAL_6&quot;</td><td>&quot;2019-10-22&quot;</td><td>&quot;2020-10-19&quot;</td><td>&quot;2020-10-19&quot;</td><td>&quot;8% - 11%&quot;</td><td>2.1191</td><td>109.0000</td><td>62.0000</td></tr></tbody></table></div>"
      ],
      "text/plain": [
       "shape: (9, 54)\n",
       "┌────────────┬──────────────┬──────────────┬──────────────┬───┬──────────────┬─────────────┬─────────────┬─────────────┐\n",
       "│ statistic  ┆ case_id      ┆ assignmentda ┆ assignmentda ┆ … ┆ riskassesmen ┆ riskassesme ┆ secondquart ┆ thirdquarte │\n",
       "│ ---        ┆ ---          ┆ te_238D      ┆ te_4527235D  ┆   ┆ t_302T       ┆ nt_940T     ┆ er_766L     ┆ r_1082L     │\n",
       "│ str        ┆ f64          ┆ ---          ┆ ---          ┆   ┆ ---          ┆ ---         ┆ ---         ┆ ---         │\n",
       "│            ┆              ┆ str          ┆ str          ┆   ┆ str          ┆ f64         ┆ f64         ┆ f64         │\n",
       "╞════════════╪══════════════╪══════════════╪══════════════╪═══╪══════════════╪═════════════╪═════════════╪═════════════╡\n",
       "│ count      ┆ 1500476.0000 ┆ 136996       ┆ 114978       ┆ … ┆ 53559        ┆ 53560.0000  ┆ 1385691.000 ┆ 1385691.000 │\n",
       "│            ┆              ┆              ┆              ┆   ┆              ┆             ┆ 0           ┆ 0           │\n",
       "│ null_count ┆ 0.0000       ┆ 1363480      ┆ 1385498      ┆ … ┆ 1446917      ┆ 1446916.000 ┆ 114785.0000 ┆ 114785.0000 │\n",
       "│            ┆              ┆              ┆              ┆   ┆              ┆ 0           ┆             ┆             │\n",
       "│ mean       ┆ 1284031.7228 ┆ null         ┆ null         ┆ … ┆ null         ┆ 0.2260      ┆ 2.6885      ┆ 2.9183      │\n",
       "│ std        ┆ 716088.1235  ┆ null         ┆ null         ┆ … ┆ null         ┆ 0.9762      ┆ 3.3245      ┆ 3.4239      │\n",
       "│ min        ┆ 357.0000     ┆ 1974-05-30   ┆ 2019-09-13   ┆ … ┆ 1% - 1%      ┆ -3.6704     ┆ 0.0000      ┆ 0.0000      │\n",
       "│ 25%        ┆ 768509.0000  ┆ null         ┆ null         ┆ … ┆ null         ┆ -0.2280     ┆ 0.0000      ┆ 0.0000      │\n",
       "│ 50%        ┆ 1361879.0000 ┆ null         ┆ null         ┆ … ┆ null         ┆ 0.3718      ┆ 2.0000      ┆ 2.0000      │\n",
       "│ 75%        ┆ 1737010.0000 ┆ null         ┆ null         ┆ … ┆ null         ┆ 0.9717      ┆ 4.0000      ┆ 4.0000      │\n",
       "│ max        ┆ 2703454.0000 ┆ 2019-10-22   ┆ 2020-10-19   ┆ … ┆ 8% - 11%     ┆ 2.1191      ┆ 109.0000    ┆ 62.0000     │\n",
       "└────────────┴──────────────┴──────────────┴──────────────┴───┴──────────────┴─────────────┴─────────────┴─────────────┘"
      ]
     },
     "metadata": {},
     "output_type": "display_data"
    },
    {
     "name": "stdout",
     "output_type": "stream",
     "text": [
      "assignmentdate_238D: Tax authority data - date of assignment.\n",
      "assignmentdate_4527235D: Tax authority data - Date of assignment.\n",
      "assignmentdate_4955616D: Tax authority assignment date.\n",
      "birthdate_574D: Client's date of birth (credit bureau data).\n",
      "contractssum_5085716L: Total sum of values of contracts retrieved from external credit bureau.\n",
      "dateofbirth_337D: Client's date of birth.\n",
      "dateofbirth_342D: Client's date of birth.\n",
      "days120_123L: Number of credit bureau queries for the last 120 days.\n",
      "days180_256L: Number of credit bureau queries for last 180 days.\n",
      "days30_165L: Number of credit bureau queries for the last 30 days.\n",
      "days360_512L: Number of Credit Bureau queries for last 360 days.\n",
      "days90_310L: Number of credit bureau queries for the last 90 days.\n",
      "description_5085714M: Categorization of clients by credit bureau.\n",
      "education_1103M: Level of education of the client provided by external source.\n",
      "education_88M: Education level of the client.\n",
      "firstquarter_103L: Number of results obtained from credit bureau in the first quarter.\n",
      "for3years_128L: Number of rejected applications in the past 3 years.\n",
      "for3years_504L: Client's credit history data over the last three years.\n",
      "for3years_584L: Number of cancellations in the last 3 years.\n",
      "formonth_118L: Number of rejections in a month.\n",
      "formonth_206L: Number of cancelations in the previous month.\n",
      "formonth_535L: Credit history for the last month.\n",
      "forquarter_1017L: Number of cancellations recorded in the credit bureau in the last quarter.\n",
      "forquarter_462L: Number of credit applications that were rejected in the last quarter.\n",
      "forquarter_634L: Credit history for the last quarter.\n",
      "fortoday_1092L: Client's credit history for today.\n",
      "forweek_1077L: Number of cancelations in the last week.\n",
      "forweek_528L: Credit history for the last week.\n",
      "forweek_601L: Number of rejected applications in the last week.\n",
      "foryear_618L: Number of application rejections in the previous year.\n",
      "foryear_818L: Number of cancelations that occurred in last year.\n",
      "foryear_850L: Credit history for the last year.\n",
      "fourthquarter_440L: Number of results in fourth quarter.\n",
      "maritalst_385M: Marital status of the client.\n",
      "maritalst_893M: Marital status of the client\n",
      "numberofqueries_373L: Number of queries to credit bureau.\n",
      "pmtaverage_3A: Average of tax deductions.\n",
      "pmtaverage_4527227A: Average of tax deductions.\n",
      "pmtaverage_4955615A: Average of tax deductions.\n",
      "pmtcount_4527229L: Number of tax deductions.\n",
      "pmtcount_4955617L: Number of tax deductions.\n",
      "pmtcount_693L: Number of tax deductions.\n",
      "pmtscount_423L: Number of tax deduction payments.\n",
      "pmtssum_45A: Sum of tax deductions for the client.\n",
      "requesttype_4525192L: Tax authority request type.\n",
      "responsedate_1012D: Tax authority's response date.\n",
      "responsedate_4527233D: Tax authority's response date.\n",
      "responsedate_4917613D: Tax authority's response date.\n",
      "riskassesment_302T: Estimated probability that the client will default on their credit obligation within the next year.\n",
      "riskassesment_940T: Estimate of client's creditworthiness.\n",
      "secondquarter_766L: Number of results in second quarter.\n",
      "thirdquarter_1082L: Number of results in third quarter.\n"
     ]
    }
   ],
   "source": [
    "train_static_cb_0 = print_sample_info(TRAIN_DIR, \"train_static_cb_0.parquet\",\n",
    "                                      feature_definitions)"
   ]
  },
  {
   "cell_type": "markdown",
   "id": "08f580d5",
   "metadata": {},
   "source": [
    "Различная информацию по case_id из внешних источников, например:\n",
    " - Дата рождения\n",
    " - Количество запросов в кредитное бюро за последние N дней\n",
    " - Сумма налоговых вычетов для клиента\n",
    " - Оценка кредитоспособности клиента"
   ]
  },
  {
   "cell_type": "markdown",
   "id": "04dca7a3",
   "metadata": {},
   "source": [
    "## applprev_1\n",
    "Properties: depth=1, internal data source"
   ]
  },
  {
   "cell_type": "code",
   "execution_count": 20,
   "id": "f2550268",
   "metadata": {
    "scrolled": true
   },
   "outputs": [
    {
     "data": {
      "text/html": [
       "<div><style>\n",
       ".dataframe > thead > tr,\n",
       ".dataframe > tbody > tr {\n",
       "  text-align: right;\n",
       "  white-space: pre-wrap;\n",
       "}\n",
       "</style>\n",
       "<small>shape: (5, 41)</small><table border=\"1\" class=\"dataframe\"><thead><tr><th>case_id</th><th>actualdpd_943P</th><th>annuity_853A</th><th>approvaldate_319D</th><th>byoccupationinc_3656910L</th><th>cancelreason_3545846M</th><th>childnum_21L</th><th>creationdate_885D</th><th>credacc_actualbalance_314A</th><th>credacc_credlmt_575A</th><th>credacc_maxhisbal_375A</th><th>credacc_minhisbal_90A</th><th>credacc_status_367L</th><th>credacc_transactions_402L</th><th>credamount_590A</th><th>credtype_587L</th><th>currdebt_94A</th><th>dateactivated_425D</th><th>district_544M</th><th>downpmt_134A</th><th>dtlastpmt_581D</th><th>dtlastpmtallstes_3545839D</th><th>education_1138M</th><th>employedfrom_700D</th><th>familystate_726L</th><th>firstnonzeroinstldate_307D</th><th>inittransactioncode_279L</th><th>isbidproduct_390L</th><th>isdebitcard_527L</th><th>mainoccupationinc_437A</th><th>maxdpdtolerance_577P</th><th>num_group1</th><th>outstandingdebt_522A</th><th>pmtnum_8L</th><th>postype_4733339M</th><th>profession_152M</th><th>rejectreason_755M</th><th>rejectreasonclient_4145042M</th><th>revolvingaccount_394A</th><th>status_219L</th><th>tenor_203L</th></tr><tr><td>i64</td><td>f64</td><td>f64</td><td>str</td><td>f64</td><td>str</td><td>f64</td><td>str</td><td>f64</td><td>f64</td><td>f64</td><td>f64</td><td>str</td><td>f64</td><td>f64</td><td>str</td><td>f64</td><td>str</td><td>str</td><td>f64</td><td>str</td><td>str</td><td>str</td><td>str</td><td>str</td><td>str</td><td>str</td><td>bool</td><td>bool</td><td>f64</td><td>f64</td><td>i64</td><td>f64</td><td>f64</td><td>str</td><td>str</td><td>str</td><td>str</td><td>f64</td><td>str</td><td>f64</td></tr></thead><tbody><tr><td>2</td><td>0.0000</td><td>640.2000</td><td>null</td><td>null</td><td>&quot;a55475b1&quot;</td><td>0.0000</td><td>&quot;2013-04-03&quot;</td><td>null</td><td>0.0000</td><td>null</td><td>null</td><td>null</td><td>null</td><td>10000.0000</td><td>&quot;CAL&quot;</td><td>null</td><td>null</td><td>&quot;P136_108_173&quot;</td><td>0.0000</td><td>null</td><td>null</td><td>&quot;P97_36_170&quot;</td><td>&quot;2010-02-15&quot;</td><td>&quot;SINGLE&quot;</td><td>&quot;2013-05-04&quot;</td><td>&quot;CASH&quot;</td><td>false</td><td>null</td><td>8200.0000</td><td>null</td><td>0</td><td>null</td><td>24.0000</td><td>&quot;a55475b1&quot;</td><td>&quot;a55475b1&quot;</td><td>&quot;a55475b1&quot;</td><td>&quot;a55475b1&quot;</td><td>null</td><td>&quot;D&quot;</td><td>24.0000</td></tr><tr><td>2</td><td>0.0000</td><td>1682.4000</td><td>null</td><td>null</td><td>&quot;a55475b1&quot;</td><td>0.0000</td><td>&quot;2013-04-03&quot;</td><td>null</td><td>0.0000</td><td>null</td><td>null</td><td>null</td><td>null</td><td>16000.0000</td><td>&quot;CAL&quot;</td><td>null</td><td>null</td><td>&quot;P136_108_173&quot;</td><td>0.0000</td><td>null</td><td>null</td><td>&quot;P97_36_170&quot;</td><td>&quot;2010-02-15&quot;</td><td>&quot;SINGLE&quot;</td><td>&quot;2013-05-04&quot;</td><td>&quot;CASH&quot;</td><td>false</td><td>null</td><td>8200.0000</td><td>null</td><td>1</td><td>null</td><td>12.0000</td><td>&quot;a55475b1&quot;</td><td>&quot;a55475b1&quot;</td><td>&quot;a55475b1&quot;</td><td>&quot;a55475b1&quot;</td><td>null</td><td>&quot;D&quot;</td><td>12.0000</td></tr><tr><td>3</td><td>0.0000</td><td>6140.0000</td><td>null</td><td>null</td><td>&quot;P94_109_143&quot;</td><td>null</td><td>&quot;2019-01-07&quot;</td><td>null</td><td>0.0000</td><td>null</td><td>null</td><td>null</td><td>null</td><td>59999.8000</td><td>&quot;CAL&quot;</td><td>null</td><td>null</td><td>&quot;P131_33_167&quot;</td><td>0.0000</td><td>null</td><td>null</td><td>&quot;P97_36_170&quot;</td><td>&quot;2018-05-15&quot;</td><td>&quot;MARRIED&quot;</td><td>&quot;2019-02-07&quot;</td><td>&quot;CASH&quot;</td><td>false</td><td>null</td><td>11000.0000</td><td>null</td><td>0</td><td>null</td><td>12.0000</td><td>&quot;a55475b1&quot;</td><td>&quot;a55475b1&quot;</td><td>&quot;P94_109_143&quot;</td><td>&quot;a55475b1&quot;</td><td>null</td><td>&quot;D&quot;</td><td>12.0000</td></tr><tr><td>4</td><td>0.0000</td><td>2556.6000</td><td>null</td><td>null</td><td>&quot;P24_27_36&quot;</td><td>null</td><td>&quot;2019-01-08&quot;</td><td>null</td><td>0.0000</td><td>null</td><td>null</td><td>null</td><td>null</td><td>40000.0000</td><td>&quot;CAL&quot;</td><td>null</td><td>null</td><td>&quot;P194_82_174&quot;</td><td>0.0000</td><td>null</td><td>null</td><td>&quot;a55475b1&quot;</td><td>null</td><td>null</td><td>&quot;2019-02-08&quot;</td><td>&quot;CASH&quot;</td><td>false</td><td>null</td><td>16000.0000</td><td>null</td><td>0</td><td>null</td><td>24.0000</td><td>&quot;a55475b1&quot;</td><td>&quot;a55475b1&quot;</td><td>&quot;a55475b1&quot;</td><td>&quot;a55475b1&quot;</td><td>null</td><td>&quot;T&quot;</td><td>24.0000</td></tr><tr><td>5</td><td>0.0000</td><td>null</td><td>null</td><td>null</td><td>&quot;P85_114_140&quot;</td><td>null</td><td>&quot;2019-01-16&quot;</td><td>null</td><td>null</td><td>null</td><td>null</td><td>null</td><td>null</td><td>null</td><td>null</td><td>null</td><td>null</td><td>&quot;P54_133_26&quot;</td><td>null</td><td>null</td><td>null</td><td>&quot;a55475b1&quot;</td><td>null</td><td>null</td><td>null</td><td>null</td><td>false</td><td>null</td><td>62000.0000</td><td>null</td><td>0</td><td>null</td><td>null</td><td>&quot;a55475b1&quot;</td><td>&quot;a55475b1&quot;</td><td>&quot;a55475b1&quot;</td><td>&quot;a55475b1&quot;</td><td>null</td><td>&quot;T&quot;</td><td>null</td></tr></tbody></table></div>"
      ],
      "text/plain": [
       "shape: (5, 41)\n",
       "┌─────────┬───────────────┬──────────────┬───────────────┬───┬───────────────┬──────────────┬─────────────┬────────────┐\n",
       "│ case_id ┆ actualdpd_943 ┆ annuity_853A ┆ approvaldate_ ┆ … ┆ rejectreasonc ┆ revolvingacc ┆ status_219L ┆ tenor_203L │\n",
       "│ ---     ┆ P             ┆ ---          ┆ 319D          ┆   ┆ lient_4145042 ┆ ount_394A    ┆ ---         ┆ ---        │\n",
       "│ i64     ┆ ---           ┆ f64          ┆ ---           ┆   ┆ M             ┆ ---          ┆ str         ┆ f64        │\n",
       "│         ┆ f64           ┆              ┆ str           ┆   ┆ ---           ┆ f64          ┆             ┆            │\n",
       "│         ┆               ┆              ┆               ┆   ┆ str           ┆              ┆             ┆            │\n",
       "╞═════════╪═══════════════╪══════════════╪═══════════════╪═══╪═══════════════╪══════════════╪═════════════╪════════════╡\n",
       "│ 2       ┆ 0.0000        ┆ 640.2000     ┆ null          ┆ … ┆ a55475b1      ┆ null         ┆ D           ┆ 24.0000    │\n",
       "│ 2       ┆ 0.0000        ┆ 1682.4000    ┆ null          ┆ … ┆ a55475b1      ┆ null         ┆ D           ┆ 12.0000    │\n",
       "│ 3       ┆ 0.0000        ┆ 6140.0000    ┆ null          ┆ … ┆ a55475b1      ┆ null         ┆ D           ┆ 12.0000    │\n",
       "│ 4       ┆ 0.0000        ┆ 2556.6000    ┆ null          ┆ … ┆ a55475b1      ┆ null         ┆ T           ┆ 24.0000    │\n",
       "│ 5       ┆ 0.0000        ┆ null         ┆ null          ┆ … ┆ a55475b1      ┆ null         ┆ T           ┆ null       │\n",
       "└─────────┴───────────────┴──────────────┴───────────────┴───┴───────────────┴──────────────┴─────────────┴────────────┘"
      ]
     },
     "metadata": {},
     "output_type": "display_data"
    },
    {
     "data": {
      "text/html": [
       "<div><style>\n",
       ".dataframe > thead > tr,\n",
       ".dataframe > tbody > tr {\n",
       "  text-align: right;\n",
       "  white-space: pre-wrap;\n",
       "}\n",
       "</style>\n",
       "<small>shape: (9, 42)</small><table border=\"1\" class=\"dataframe\"><thead><tr><th>statistic</th><th>case_id</th><th>actualdpd_943P</th><th>annuity_853A</th><th>approvaldate_319D</th><th>byoccupationinc_3656910L</th><th>cancelreason_3545846M</th><th>childnum_21L</th><th>creationdate_885D</th><th>credacc_actualbalance_314A</th><th>credacc_credlmt_575A</th><th>credacc_maxhisbal_375A</th><th>credacc_minhisbal_90A</th><th>credacc_status_367L</th><th>credacc_transactions_402L</th><th>credamount_590A</th><th>credtype_587L</th><th>currdebt_94A</th><th>dateactivated_425D</th><th>district_544M</th><th>downpmt_134A</th><th>dtlastpmt_581D</th><th>dtlastpmtallstes_3545839D</th><th>education_1138M</th><th>employedfrom_700D</th><th>familystate_726L</th><th>firstnonzeroinstldate_307D</th><th>inittransactioncode_279L</th><th>isbidproduct_390L</th><th>isdebitcard_527L</th><th>mainoccupationinc_437A</th><th>maxdpdtolerance_577P</th><th>num_group1</th><th>outstandingdebt_522A</th><th>pmtnum_8L</th><th>postype_4733339M</th><th>profession_152M</th><th>rejectreason_755M</th><th>rejectreasonclient_4145042M</th><th>revolvingaccount_394A</th><th>status_219L</th><th>tenor_203L</th></tr><tr><td>str</td><td>f64</td><td>f64</td><td>f64</td><td>str</td><td>f64</td><td>str</td><td>f64</td><td>str</td><td>f64</td><td>f64</td><td>f64</td><td>f64</td><td>str</td><td>f64</td><td>f64</td><td>str</td><td>f64</td><td>str</td><td>str</td><td>f64</td><td>str</td><td>str</td><td>str</td><td>str</td><td>str</td><td>str</td><td>str</td><td>f64</td><td>f64</td><td>f64</td><td>f64</td><td>f64</td><td>f64</td><td>f64</td><td>str</td><td>str</td><td>str</td><td>str</td><td>f64</td><td>str</td><td>f64</td></tr></thead><tbody><tr><td>&quot;count&quot;</td><td>3887684.0000</td><td>3885450.0000</td><td>3731833.0000</td><td>&quot;2121663&quot;</td><td>991660.0000</td><td>&quot;3887684&quot;</td><td>1933791.0000</td><td>&quot;3887649&quot;</td><td>168178.0000</td><td>3768614.0000</td><td>168178.0000</td><td>168178.0000</td><td>&quot;168178&quot;</td><td>168178.0000</td><td>3764355.0000</td><td>&quot;3764355&quot;</td><td>2617307.0000</td><td>&quot;2042982&quot;</td><td>&quot;3887684&quot;</td><td>3764355.0000</td><td>&quot;1027309&quot;</td><td>&quot;1453529&quot;</td><td>&quot;3887684&quot;</td><td>&quot;1706815&quot;</td><td>&quot;2642483&quot;</td><td>&quot;3522509&quot;</td><td>&quot;3764355&quot;</td><td>3887649.0000</td><td>250134.0000</td><td>3851072.0000</td><td>2070306.0000</td><td>3887684.0000</td><td>2609762.0000</td><td>3574851.0000</td><td>&quot;3887684&quot;</td><td>&quot;3887684&quot;</td><td>&quot;3887684&quot;</td><td>&quot;3887684&quot;</td><td>156651.0000</td><td>&quot;3887649&quot;</td><td>3574851.0000</td></tr><tr><td>&quot;null_count&quot;</td><td>0.0000</td><td>2234.0000</td><td>155851.0000</td><td>&quot;1766021&quot;</td><td>2896024.0000</td><td>&quot;0&quot;</td><td>1953893.0000</td><td>&quot;35&quot;</td><td>3719506.0000</td><td>119070.0000</td><td>3719506.0000</td><td>3719506.0000</td><td>&quot;3719506&quot;</td><td>3719506.0000</td><td>123329.0000</td><td>&quot;123329&quot;</td><td>1270377.0000</td><td>&quot;1844702&quot;</td><td>&quot;0&quot;</td><td>123329.0000</td><td>&quot;2860375&quot;</td><td>&quot;2434155&quot;</td><td>&quot;0&quot;</td><td>&quot;2180869&quot;</td><td>&quot;1245201&quot;</td><td>&quot;365175&quot;</td><td>&quot;123329&quot;</td><td>35.0000</td><td>3637550.0000</td><td>36612.0000</td><td>1817378.0000</td><td>0.0000</td><td>1277922.0000</td><td>312833.0000</td><td>&quot;0&quot;</td><td>&quot;0&quot;</td><td>&quot;0&quot;</td><td>&quot;0&quot;</td><td>3731033.0000</td><td>&quot;35&quot;</td><td>312833.0000</td></tr><tr><td>&quot;mean&quot;</td><td>1397916.1846</td><td>0.0106</td><td>3413.1665</td><td>null</td><td>19796.4840</td><td>null</td><td>0.8435</td><td>null</td><td>20269.5803</td><td>3254.6766</td><td>-3288.8872</td><td>-6554.7842</td><td>null</td><td>0.5221</td><td>38657.8551</td><td>null</td><td>5229.1007</td><td>null</td><td>null</td><td>457.8899</td><td>null</td><td>null</td><td>null</td><td>null</td><td>null</td><td>null</td><td>null</td><td>0.0563</td><td>0.1496</td><td>40029.6938</td><td>13.2658</td><td>3.9103</td><td>6994.5878</td><td>15.7821</td><td>null</td><td>null</td><td>null</td><td>null</td><td>740354832.4212</td><td>null</td><td>15.7821</td></tr><tr><td>&quot;std&quot;</td><td>760159.4198</td><td>3.7543</td><td>2828.2690</td><td>null</td><td>30687.6525</td><td>null</td><td>1.2094</td><td>null</td><td>26002.7817</td><td>14061.3495</td><td>28086.1133</td><td>16888.8624</td><td>null</td><td>2.9517</td><td>37544.3362</td><td>null</td><td>19278.4226</td><td>null</td><td>null</td><td>2697.2258</td><td>null</td><td>null</td><td>null</td><td>null</td><td>null</td><td>null</td><td>null</td><td>null</td><td>null</td><td>31396.3667</td><td>134.8893</td><td>4.1014</td><td>29162.4843</td><td>10.4621</td><td>null</td><td>null</td><td>null</td><td>null</td><td>54986858.0278</td><td>null</td><td>10.4621</td></tr><tr><td>&quot;min&quot;</td><td>2.0000</td><td>0.0000</td><td>0.0000</td><td>&quot;2005-12-31&quot;</td><td>0.0000</td><td>&quot;P107_145_100&quot;</td><td>0.0000</td><td>&quot;2005-12-31&quot;</td><td>-114086.0000</td><td>0.0000</td><td>-196108.1700</td><td>-206808.1700</td><td>&quot;AC&quot;</td><td>0.0000</td><td>0.0000</td><td>&quot;CAL&quot;</td><td>0.0000</td><td>&quot;2006-01-01&quot;</td><td>&quot;P0_149_171&quot;</td><td>0.0000</td><td>&quot;2008-11-13&quot;</td><td>&quot;2008-08-20&quot;</td><td>&quot;P106_81_188&quot;</td><td>&quot;1961-09-15&quot;</td><td>&quot;DIVORCED&quot;</td><td>&quot;2006-01-31&quot;</td><td>&quot;CASH&quot;</td><td>0.0000</td><td>0.0000</td><td>0.0000</td><td>0.0000</td><td>0.0000</td><td>0.0000</td><td>3.0000</td><td>&quot;P140_48_169&quot;</td><td>&quot;P0_102_76&quot;</td><td>&quot;P121_60_164&quot;</td><td>&quot;P129_162_80&quot;</td><td>540342400.0000</td><td>&quot;A&quot;</td><td>3.0000</td></tr><tr><td>&quot;25%&quot;</td><td>1251506.0000</td><td>0.0000</td><td>1710.6000</td><td>null</td><td>1.0000</td><td>null</td><td>0.0000</td><td>null</td><td>3.0300</td><td>0.0000</td><td>0.0000</td><td>-1042.4000</td><td>null</td><td>0.0000</td><td>13998.0000</td><td>null</td><td>0.0000</td><td>null</td><td>null</td><td>0.0000</td><td>null</td><td>null</td><td>null</td><td>null</td><td>null</td><td>null</td><td>null</td><td>null</td><td>null</td><td>18000.0000</td><td>0.0000</td><td>1.0000</td><td>0.0000</td><td>6.0000</td><td>null</td><td>null</td><td>null</td><td>null</td><td>740688450.0000</td><td>null</td><td>6.0000</td></tr><tr><td>&quot;50%&quot;</td><td>1451959.0000</td><td>0.0000</td><td>2761.2000</td><td>null</td><td>5000.0000</td><td>null</td><td>0.0000</td><td>null</td><td>12586.0000</td><td>0.0000</td><td>0.0000</td><td>0.0000</td><td>null</td><td>0.0000</td><td>27000.0000</td><td>null</td><td>0.0000</td><td>null</td><td>null</td><td>0.0000</td><td>null</td><td>null</td><td>null</td><td>null</td><td>null</td><td>null</td><td>null</td><td>null</td><td>null</td><td>34000.0000</td><td>0.0000</td><td>3.0000</td><td>0.0000</td><td>12.0000</td><td>null</td><td>null</td><td>null</td><td>null</td><td>760248700.0000</td><td>null</td><td>12.0000</td></tr><tr><td>&quot;75%&quot;</td><td>1641585.0000</td><td>0.0000</td><td>4396.4000</td><td>null</td><td>30000.0000</td><td>null</td><td>1.0000</td><td>null</td><td>30446.0000</td><td>0.0000</td><td>0.0000</td><td>0.0000</td><td>null</td><td>0.0000</td><td>50000.0000</td><td>null</td><td>0.0000</td><td>null</td><td>null</td><td>0.0000</td><td>null</td><td>null</td><td>null</td><td>null</td><td>null</td><td>null</td><td>null</td><td>null</td><td>null</td><td>52000.0000</td><td>1.0000</td><td>6.0000</td><td>0.0000</td><td>24.0000</td><td>null</td><td>null</td><td>null</td><td>null</td><td>760725000.0000</td><td>null</td><td>24.0000</td></tr><tr><td>&quot;max&quot;</td><td>2651092.0000</td><td>3676.0000</td><td>105130.2000</td><td>&quot;2019-12-30&quot;</td><td>200000.0000</td><td>&quot;a55475b1&quot;</td><td>20.0000</td><td>&quot;2019-12-30&quot;</td><td>2540730.0000</td><td>400000.0000</td><td>7988198.5000</td><td>199567.0000</td><td>&quot;PO&quot;</td><td>155.0000</td><td>715392.0000</td><td>&quot;REL&quot;</td><td>507429.7200</td><td>&quot;2019-12-30&quot;</td><td>&quot;a55475b1&quot;</td><td>320400.0000</td><td>&quot;2019-12-28&quot;</td><td>&quot;2019-12-30&quot;</td><td>&quot;a55475b1&quot;</td><td>&quot;2019-11-18&quot;</td><td>&quot;WIDOWED&quot;</td><td>&quot;2020-01-30&quot;</td><td>&quot;POS&quot;</td><td>1.0000</td><td>1.0000</td><td>196000.0000</td><td>4058.0000</td><td>19.0000</td><td>1210629.1000</td><td>62.0000</td><td>&quot;a55475b1&quot;</td><td>&quot;a55475b1&quot;</td><td>&quot;a55475b1&quot;</td><td>&quot;a55475b1&quot;</td><td>780865400.0000</td><td>&quot;T&quot;</td><td>62.0000</td></tr></tbody></table></div>"
      ],
      "text/plain": [
       "shape: (9, 42)\n",
       "┌────────────┬──────────────┬──────────────┬──────────────┬───┬──────────────┬─────────────┬─────────────┬─────────────┐\n",
       "│ statistic  ┆ case_id      ┆ actualdpd_94 ┆ annuity_853A ┆ … ┆ rejectreason ┆ revolvingac ┆ status_219L ┆ tenor_203L  │\n",
       "│ ---        ┆ ---          ┆ 3P           ┆ ---          ┆   ┆ client_41450 ┆ count_394A  ┆ ---         ┆ ---         │\n",
       "│ str        ┆ f64          ┆ ---          ┆ f64          ┆   ┆ 42M          ┆ ---         ┆ str         ┆ f64         │\n",
       "│            ┆              ┆ f64          ┆              ┆   ┆ ---          ┆ f64         ┆             ┆             │\n",
       "│            ┆              ┆              ┆              ┆   ┆ str          ┆             ┆             ┆             │\n",
       "╞════════════╪══════════════╪══════════════╪══════════════╪═══╪══════════════╪═════════════╪═════════════╪═════════════╡\n",
       "│ count      ┆ 3887684.0000 ┆ 3885450.0000 ┆ 3731833.0000 ┆ … ┆ 3887684      ┆ 156651.0000 ┆ 3887649     ┆ 3574851.000 │\n",
       "│            ┆              ┆              ┆              ┆   ┆              ┆             ┆             ┆ 0           │\n",
       "│ null_count ┆ 0.0000       ┆ 2234.0000    ┆ 155851.0000  ┆ … ┆ 0            ┆ 3731033.000 ┆ 35          ┆ 312833.0000 │\n",
       "│            ┆              ┆              ┆              ┆   ┆              ┆ 0           ┆             ┆             │\n",
       "│ mean       ┆ 1397916.1846 ┆ 0.0106       ┆ 3413.1665    ┆ … ┆ null         ┆ 740354832.4 ┆ null        ┆ 15.7821     │\n",
       "│            ┆              ┆              ┆              ┆   ┆              ┆ 212         ┆             ┆             │\n",
       "│ std        ┆ 760159.4198  ┆ 3.7543       ┆ 2828.2690    ┆ … ┆ null         ┆ 54986858.02 ┆ null        ┆ 10.4621     │\n",
       "│            ┆              ┆              ┆              ┆   ┆              ┆ 78          ┆             ┆             │\n",
       "│ min        ┆ 2.0000       ┆ 0.0000       ┆ 0.0000       ┆ … ┆ P129_162_80  ┆ 540342400.0 ┆ A           ┆ 3.0000      │\n",
       "│            ┆              ┆              ┆              ┆   ┆              ┆ 000         ┆             ┆             │\n",
       "│ 25%        ┆ 1251506.0000 ┆ 0.0000       ┆ 1710.6000    ┆ … ┆ null         ┆ 740688450.0 ┆ null        ┆ 6.0000      │\n",
       "│            ┆              ┆              ┆              ┆   ┆              ┆ 000         ┆             ┆             │\n",
       "│ 50%        ┆ 1451959.0000 ┆ 0.0000       ┆ 2761.2000    ┆ … ┆ null         ┆ 760248700.0 ┆ null        ┆ 12.0000     │\n",
       "│            ┆              ┆              ┆              ┆   ┆              ┆ 000         ┆             ┆             │\n",
       "│ 75%        ┆ 1641585.0000 ┆ 0.0000       ┆ 4396.4000    ┆ … ┆ null         ┆ 760725000.0 ┆ null        ┆ 24.0000     │\n",
       "│            ┆              ┆              ┆              ┆   ┆              ┆ 000         ┆             ┆             │\n",
       "│ max        ┆ 2651092.0000 ┆ 3676.0000    ┆ 105130.2000  ┆ … ┆ a55475b1     ┆ 780865400.0 ┆ T           ┆ 62.0000     │\n",
       "│            ┆              ┆              ┆              ┆   ┆              ┆ 000         ┆             ┆             │\n",
       "└────────────┴──────────────┴──────────────┴──────────────┴───┴──────────────┴─────────────┴─────────────┴─────────────┘"
      ]
     },
     "metadata": {},
     "output_type": "display_data"
    },
    {
     "name": "stdout",
     "output_type": "stream",
     "text": [
      "actualdpd_943P: Days Past Due (DPD) of previous contract (actual).\n",
      "annuity_853A: Monthly annuity for previous applications.\n",
      "approvaldate_319D: Approval Date of Previous Application\n",
      "byoccupationinc_3656910L: Applicant's income from previous applications.\n",
      "cancelreason_3545846M: Application cancellation reason.\n",
      "childnum_21L: Number of children in the previous application.\n",
      "creationdate_885D: Date when previous application was created.\n",
      "credacc_actualbalance_314A: Actual balance on credit account.\n",
      "credacc_credlmt_575A: Credit card credit limit provided for previous applications.\n",
      "credacc_maxhisbal_375A: Maximal historical balance of previous credit account\n",
      "credacc_minhisbal_90A: Minimum historical balance of previous credit accounts.\n",
      "credacc_status_367L: Account status of previous credit applications.\n",
      "credacc_transactions_402L: Number of transactions made with the previous credit account of the applicant.\n",
      "credamount_590A: Loan amount or card limit of previous applications.\n",
      "credtype_587L: Credit type of previous application.\n",
      "currdebt_94A: Previous application's current debt.\n",
      "dateactivated_425D: Contract activation date of the applicant's previous application.\n",
      "district_544M: District of the address used in the previous loan application.\n",
      "downpmt_134A: Previous application downpayment amount.\n",
      "dtlastpmt_581D: Date of last payment made by the applicant.\n",
      "dtlastpmtallstes_3545839D: Date of the applicant's last payment.\n",
      "education_1138M: Applicant's education level from their previous application.\n",
      "employedfrom_700D: Employment start date from the previous application.\n",
      "familystate_726L: Family State in previous application of applicant.\n",
      "firstnonzeroinstldate_307D: Date of first instalment in the previous application.\n",
      "inittransactioncode_279L: Type of the initial transaction made in the previous application of the client.\n",
      "isbidproduct_390L: Flag for determining if the product is a cross-sell in previous applications.\n",
      "isdebitcard_527L: Previous application flag indicating if product being applied for is a debit card.\n",
      "mainoccupationinc_437A: Client's main income amount in their previous application.\n",
      "maxdpdtolerance_577P: Maximum DPD with tolerance (on previous application/s).\n",
      "outstandingdebt_522A: Amount of outstanding debt on the client's previous application.\n",
      "pmtnum_8L: Number of payments made for the previous application.\n",
      "postype_4733339M: Type of point of sale.\n",
      "profession_152M: Profession of the client during their previous loan application.\n",
      "rejectreason_755M: Reason for previous application rejection.\n",
      "rejectreasonclient_4145042M: Reason for rejection of the client's previous application.\n",
      "revolvingaccount_394A: Revolving account that was present in the applicant's previous application.\n",
      "status_219L: Previous application status.\n",
      "tenor_203L: Number of instalments in the previous application.\n"
     ]
    }
   ],
   "source": [
    "train_applprev_1_0 = print_sample_info(TRAIN_DIR, \"train_applprev_1_0.parquet\",\n",
    "                                       feature_definitions)"
   ]
  },
  {
   "cell_type": "markdown",
   "id": "b123cccd",
   "metadata": {},
   "source": [
    "История по предыдущим одобрениям/отказам по заявкам:\n",
    "- Дни просрочки (DPD) по предыдущему контракту (фактические)\n",
    "- Ежемесячная рента по предыдущим заявкам\n",
    "- Дата утверждения предыдущей заявки\n",
    "- Предыдущий статус заявки"
   ]
  },
  {
   "cell_type": "markdown",
   "id": "7c6ea0f2",
   "metadata": {},
   "source": [
    "## other_1\n",
    "Properties: depth=1, internal data source"
   ]
  },
  {
   "cell_type": "code",
   "execution_count": 22,
   "id": "adff9398",
   "metadata": {},
   "outputs": [
    {
     "data": {
      "text/html": [
       "<div><style>\n",
       ".dataframe > thead > tr,\n",
       ".dataframe > tbody > tr {\n",
       "  text-align: right;\n",
       "  white-space: pre-wrap;\n",
       "}\n",
       "</style>\n",
       "<small>shape: (5, 7)</small><table border=\"1\" class=\"dataframe\"><thead><tr><th>case_id</th><th>amtdebitincoming_4809443A</th><th>amtdebitoutgoing_4809440A</th><th>amtdepositbalance_4809441A</th><th>amtdepositincoming_4809444A</th><th>amtdepositoutgoing_4809442A</th><th>num_group1</th></tr><tr><td>i64</td><td>f64</td><td>f64</td><td>f64</td><td>f64</td><td>f64</td><td>i64</td></tr></thead><tbody><tr><td>43801</td><td>12466.6010</td><td>12291.2000</td><td>914.2000</td><td>0.0000</td><td>304.8000</td><td>0</td></tr><tr><td>43991</td><td>3333.4001</td><td>3273.4001</td><td>0.0000</td><td>0.0000</td><td>0.0000</td><td>0</td></tr><tr><td>44001</td><td>10000.0000</td><td>10000.0000</td><td>0.0000</td><td>0.0000</td><td>0.0000</td><td>0</td></tr><tr><td>44053</td><td>0.0000</td><td>0.0000</td><td>2586.4001</td><td>0.0000</td><td>88.8000</td><td>0</td></tr><tr><td>44130</td><td>63.8000</td><td>60.8000</td><td>0.0000</td><td>0.0000</td><td>0.0000</td><td>0</td></tr></tbody></table></div>"
      ],
      "text/plain": [
       "shape: (5, 7)\n",
       "┌─────────┬───────────────────┬──────────────────┬──────────────────┬──────────────────┬──────────────────┬────────────┐\n",
       "│ case_id ┆ amtdebitincoming_ ┆ amtdebitoutgoing ┆ amtdepositbalanc ┆ amtdepositincomi ┆ amtdepositoutgoi ┆ num_group1 │\n",
       "│ ---     ┆ 4809443A          ┆ _4809440A        ┆ e_4809441A       ┆ ng_4809444A      ┆ ng_4809442A      ┆ ---        │\n",
       "│ i64     ┆ ---               ┆ ---              ┆ ---              ┆ ---              ┆ ---              ┆ i64        │\n",
       "│         ┆ f64               ┆ f64              ┆ f64              ┆ f64              ┆ f64              ┆            │\n",
       "╞═════════╪═══════════════════╪══════════════════╪══════════════════╪══════════════════╪══════════════════╪════════════╡\n",
       "│ 43801   ┆ 12466.6010        ┆ 12291.2000       ┆ 914.2000         ┆ 0.0000           ┆ 304.8000         ┆ 0          │\n",
       "│ 43991   ┆ 3333.4001         ┆ 3273.4001        ┆ 0.0000           ┆ 0.0000           ┆ 0.0000           ┆ 0          │\n",
       "│ 44001   ┆ 10000.0000        ┆ 10000.0000       ┆ 0.0000           ┆ 0.0000           ┆ 0.0000           ┆ 0          │\n",
       "│ 44053   ┆ 0.0000            ┆ 0.0000           ┆ 2586.4001        ┆ 0.0000           ┆ 88.8000          ┆ 0          │\n",
       "│ 44130   ┆ 63.8000           ┆ 60.8000          ┆ 0.0000           ┆ 0.0000           ┆ 0.0000           ┆ 0          │\n",
       "└─────────┴───────────────────┴──────────────────┴──────────────────┴──────────────────┴──────────────────┴────────────┘"
      ]
     },
     "metadata": {},
     "output_type": "display_data"
    },
    {
     "data": {
      "text/html": [
       "<div><style>\n",
       ".dataframe > thead > tr,\n",
       ".dataframe > tbody > tr {\n",
       "  text-align: right;\n",
       "  white-space: pre-wrap;\n",
       "}\n",
       "</style>\n",
       "<small>shape: (9, 8)</small><table border=\"1\" class=\"dataframe\"><thead><tr><th>statistic</th><th>case_id</th><th>amtdebitincoming_4809443A</th><th>amtdebitoutgoing_4809440A</th><th>amtdepositbalance_4809441A</th><th>amtdepositincoming_4809444A</th><th>amtdepositoutgoing_4809442A</th><th>num_group1</th></tr><tr><td>str</td><td>f64</td><td>f64</td><td>f64</td><td>f64</td><td>f64</td><td>f64</td><td>f64</td></tr></thead><tbody><tr><td>&quot;count&quot;</td><td>51109.0000</td><td>51109.0000</td><td>51109.0000</td><td>51109.0000</td><td>51109.0000</td><td>51109.0000</td><td>51109.0000</td></tr><tr><td>&quot;null_count&quot;</td><td>0.0000</td><td>0.0000</td><td>0.0000</td><td>0.0000</td><td>0.0000</td><td>0.0000</td><td>0.0000</td></tr><tr><td>&quot;mean&quot;</td><td>1419514.2787</td><td>7552.9017</td><td>7462.3843</td><td>9967.4130</td><td>2949.3959</td><td>3586.8751</td><td>0.0000</td></tr><tr><td>&quot;std&quot;</td><td>924509.4909</td><td>34625.7058</td><td>35065.2869</td><td>89393.4214</td><td>41467.7261</td><td>48274.9364</td><td>0.0000</td></tr><tr><td>&quot;min&quot;</td><td>43801.0000</td><td>0.0000</td><td>0.0000</td><td>-335718.0000</td><td>0.0000</td><td>0.0000</td><td>0.0000</td></tr><tr><td>&quot;25%&quot;</td><td>242241.0000</td><td>0.0000</td><td>0.0000</td><td>0.0000</td><td>0.0000</td><td>0.0000</td><td>0.0000</td></tr><tr><td>&quot;50%&quot;</td><td>1811468.0000</td><td>0.0000</td><td>0.0000</td><td>0.0000</td><td>0.0000</td><td>1.8000</td><td>0.0000</td></tr><tr><td>&quot;75%&quot;</td><td>1916206.0000</td><td>8000.0000</td><td>7740.0000</td><td>288.0000</td><td>0.0000</td><td>5.4000</td><td>0.0000</td></tr><tr><td>&quot;max&quot;</td><td>2703453.0000</td><td>4957852.0000</td><td>5168004.5000</td><td>4256314.5000</td><td>4180150.5000</td><td>4622917.5000</td><td>0.0000</td></tr></tbody></table></div>"
      ],
      "text/plain": [
       "shape: (9, 8)\n",
       "┌────────────┬──────────────┬───────────────┬───────────────┬───────────────┬──────────────┬──────────────┬────────────┐\n",
       "│ statistic  ┆ case_id      ┆ amtdebitincom ┆ amtdebitoutgo ┆ amtdepositbal ┆ amtdepositin ┆ amtdepositou ┆ num_group1 │\n",
       "│ ---        ┆ ---          ┆ ing_4809443A  ┆ ing_4809440A  ┆ ance_4809441A ┆ coming_48094 ┆ tgoing_48094 ┆ ---        │\n",
       "│ str        ┆ f64          ┆ ---           ┆ ---           ┆ ---           ┆ 44A          ┆ 42A          ┆ f64        │\n",
       "│            ┆              ┆ f64           ┆ f64           ┆ f64           ┆ ---          ┆ ---          ┆            │\n",
       "│            ┆              ┆               ┆               ┆               ┆ f64          ┆ f64          ┆            │\n",
       "╞════════════╪══════════════╪═══════════════╪═══════════════╪═══════════════╪══════════════╪══════════════╪════════════╡\n",
       "│ count      ┆ 51109.0000   ┆ 51109.0000    ┆ 51109.0000    ┆ 51109.0000    ┆ 51109.0000   ┆ 51109.0000   ┆ 51109.0000 │\n",
       "│ null_count ┆ 0.0000       ┆ 0.0000        ┆ 0.0000        ┆ 0.0000        ┆ 0.0000       ┆ 0.0000       ┆ 0.0000     │\n",
       "│ mean       ┆ 1419514.2787 ┆ 7552.9017     ┆ 7462.3843     ┆ 9967.4130     ┆ 2949.3959    ┆ 3586.8751    ┆ 0.0000     │\n",
       "│ std        ┆ 924509.4909  ┆ 34625.7058    ┆ 35065.2869    ┆ 89393.4214    ┆ 41467.7261   ┆ 48274.9364   ┆ 0.0000     │\n",
       "│ min        ┆ 43801.0000   ┆ 0.0000        ┆ 0.0000        ┆ -335718.0000  ┆ 0.0000       ┆ 0.0000       ┆ 0.0000     │\n",
       "│ 25%        ┆ 242241.0000  ┆ 0.0000        ┆ 0.0000        ┆ 0.0000        ┆ 0.0000       ┆ 0.0000       ┆ 0.0000     │\n",
       "│ 50%        ┆ 1811468.0000 ┆ 0.0000        ┆ 0.0000        ┆ 0.0000        ┆ 0.0000       ┆ 1.8000       ┆ 0.0000     │\n",
       "│ 75%        ┆ 1916206.0000 ┆ 8000.0000     ┆ 7740.0000     ┆ 288.0000      ┆ 0.0000       ┆ 5.4000       ┆ 0.0000     │\n",
       "│ max        ┆ 2703453.0000 ┆ 4957852.0000  ┆ 5168004.5000  ┆ 4256314.5000  ┆ 4180150.5000 ┆ 4622917.5000 ┆ 0.0000     │\n",
       "└────────────┴──────────────┴───────────────┴───────────────┴───────────────┴──────────────┴──────────────┴────────────┘"
      ]
     },
     "metadata": {},
     "output_type": "display_data"
    },
    {
     "name": "stdout",
     "output_type": "stream",
     "text": [
      "amtdebitincoming_4809443A: Incoming debit card transactions amount.\n",
      "amtdebitoutgoing_4809440A: Outgoing debit card transactions amount.\n",
      "amtdepositbalance_4809441A: Deposit balance of client.\n",
      "amtdepositincoming_4809444A: Amount of incoming deposits to client's account.\n",
      "amtdepositoutgoing_4809442A: Amount of outgoing deposits from client's account.\n"
     ]
    }
   ],
   "source": [
    "train_other_1 = print_sample_info(TRAIN_DIR, \"train_other_1.parquet\",\n",
    "                                  feature_definitions)"
   ]
  },
  {
   "cell_type": "markdown",
   "id": "9bf86182",
   "metadata": {},
   "source": [
    "Информация по транзакциям:\n",
    "- Сумма входящих/исходящих транзакций по дебетовой карте\n",
    "- Депозитный баланс клиента\n",
    "- Сумма поступающих/исходящих  депозитов на счет клиента"
   ]
  },
  {
   "cell_type": "markdown",
   "id": "bbc10545",
   "metadata": {},
   "source": [
    "## tax_registry\n",
    "tax_registry_a_1\n",
    "Properties: depth=1, external data source, Tax registry provider A\n",
    "\n",
    "tax_registry_b_1\n",
    "Properties: depth=1, external data source, Tax registry provider B\n",
    "    \n",
    "tax_registry_c_1\n",
    "Properties: depth=1, external data source, Tax registry provider C"
   ]
  },
  {
   "cell_type": "code",
   "execution_count": 23,
   "id": "6539eb3e",
   "metadata": {},
   "outputs": [
    {
     "data": {
      "text/html": [
       "<div><style>\n",
       ".dataframe > thead > tr,\n",
       ".dataframe > tbody > tr {\n",
       "  text-align: right;\n",
       "  white-space: pre-wrap;\n",
       "}\n",
       "</style>\n",
       "<small>shape: (5, 5)</small><table border=\"1\" class=\"dataframe\"><thead><tr><th>case_id</th><th>amount_4527230A</th><th>name_4527232M</th><th>num_group1</th><th>recorddate_4527225D</th></tr><tr><td>i64</td><td>f64</td><td>str</td><td>i64</td><td>str</td></tr></thead><tbody><tr><td>28631</td><td>711.0000</td><td>&quot;f980a1ea&quot;</td><td>3</td><td>&quot;2019-09-13&quot;</td></tr><tr><td>28631</td><td>1946.0000</td><td>&quot;f980a1ea&quot;</td><td>2</td><td>&quot;2019-09-13&quot;</td></tr><tr><td>28631</td><td>2600.0000</td><td>&quot;f980a1ea&quot;</td><td>1</td><td>&quot;2019-09-13&quot;</td></tr><tr><td>28631</td><td>3616.4001</td><td>&quot;f980a1ea&quot;</td><td>0</td><td>&quot;2019-09-13&quot;</td></tr><tr><td>28632</td><td>400.0000</td><td>&quot;5f9b74f5&quot;</td><td>6</td><td>&quot;2019-09-13&quot;</td></tr></tbody></table></div>"
      ],
      "text/plain": [
       "shape: (5, 5)\n",
       "┌─────────┬─────────────────┬───────────────┬────────────┬─────────────────────┐\n",
       "│ case_id ┆ amount_4527230A ┆ name_4527232M ┆ num_group1 ┆ recorddate_4527225D │\n",
       "│ ---     ┆ ---             ┆ ---           ┆ ---        ┆ ---                 │\n",
       "│ i64     ┆ f64             ┆ str           ┆ i64        ┆ str                 │\n",
       "╞═════════╪═════════════════╪═══════════════╪════════════╪═════════════════════╡\n",
       "│ 28631   ┆ 711.0000        ┆ f980a1ea      ┆ 3          ┆ 2019-09-13          │\n",
       "│ 28631   ┆ 1946.0000       ┆ f980a1ea      ┆ 2          ┆ 2019-09-13          │\n",
       "│ 28631   ┆ 2600.0000       ┆ f980a1ea      ┆ 1          ┆ 2019-09-13          │\n",
       "│ 28631   ┆ 3616.4001       ┆ f980a1ea      ┆ 0          ┆ 2019-09-13          │\n",
       "│ 28632   ┆ 400.0000        ┆ 5f9b74f5      ┆ 6          ┆ 2019-09-13          │\n",
       "└─────────┴─────────────────┴───────────────┴────────────┴─────────────────────┘"
      ]
     },
     "metadata": {},
     "output_type": "display_data"
    },
    {
     "data": {
      "text/html": [
       "<div><style>\n",
       ".dataframe > thead > tr,\n",
       ".dataframe > tbody > tr {\n",
       "  text-align: right;\n",
       "  white-space: pre-wrap;\n",
       "}\n",
       "</style>\n",
       "<small>shape: (9, 6)</small><table border=\"1\" class=\"dataframe\"><thead><tr><th>statistic</th><th>case_id</th><th>amount_4527230A</th><th>name_4527232M</th><th>num_group1</th><th>recorddate_4527225D</th></tr><tr><td>str</td><td>f64</td><td>f64</td><td>str</td><td>f64</td><td>str</td></tr></thead><tbody><tr><td>&quot;count&quot;</td><td>3275770.0000</td><td>3275770.0000</td><td>&quot;3275770&quot;</td><td>3275770.0000</td><td>&quot;3275770&quot;</td></tr><tr><td>&quot;null_count&quot;</td><td>0.0000</td><td>0.0000</td><td>&quot;0&quot;</td><td>0.0000</td><td>&quot;0&quot;</td></tr><tr><td>&quot;mean&quot;</td><td>1341396.6531</td><td>2360.4214</td><td>null</td><td>4.0956</td><td>null</td></tr><tr><td>&quot;std&quot;</td><td>649263.4513</td><td>3254.8712</td><td>null</td><td>3.9333</td><td>null</td></tr><tr><td>&quot;min&quot;</td><td>28631.0000</td><td>0.0000</td><td>&quot;000025c1&quot;</td><td>0.0000</td><td>&quot;2019-09-13&quot;</td></tr><tr><td>&quot;25%&quot;</td><td>877291.0000</td><td>850.0000</td><td>null</td><td>1.0000</td><td>null</td></tr><tr><td>&quot;50%&quot;</td><td>1571545.0000</td><td>1400.0000</td><td>null</td><td>3.0000</td><td>null</td></tr><tr><td>&quot;75%&quot;</td><td>1728466.0000</td><td>2778.0000</td><td>null</td><td>5.0000</td><td>null</td></tr><tr><td>&quot;max&quot;</td><td>2702290.0000</td><td>87115.6000</td><td>&quot;ffffa404&quot;</td><td>98.0000</td><td>&quot;2020-10-19&quot;</td></tr></tbody></table></div>"
      ],
      "text/plain": [
       "shape: (9, 6)\n",
       "┌────────────┬──────────────┬─────────────────┬───────────────┬──────────────┬─────────────────────┐\n",
       "│ statistic  ┆ case_id      ┆ amount_4527230A ┆ name_4527232M ┆ num_group1   ┆ recorddate_4527225D │\n",
       "│ ---        ┆ ---          ┆ ---             ┆ ---           ┆ ---          ┆ ---                 │\n",
       "│ str        ┆ f64          ┆ f64             ┆ str           ┆ f64          ┆ str                 │\n",
       "╞════════════╪══════════════╪═════════════════╪═══════════════╪══════════════╪═════════════════════╡\n",
       "│ count      ┆ 3275770.0000 ┆ 3275770.0000    ┆ 3275770       ┆ 3275770.0000 ┆ 3275770             │\n",
       "│ null_count ┆ 0.0000       ┆ 0.0000          ┆ 0             ┆ 0.0000       ┆ 0                   │\n",
       "│ mean       ┆ 1341396.6531 ┆ 2360.4214       ┆ null          ┆ 4.0956       ┆ null                │\n",
       "│ std        ┆ 649263.4513  ┆ 3254.8712       ┆ null          ┆ 3.9333       ┆ null                │\n",
       "│ min        ┆ 28631.0000   ┆ 0.0000          ┆ 000025c1      ┆ 0.0000       ┆ 2019-09-13          │\n",
       "│ 25%        ┆ 877291.0000  ┆ 850.0000        ┆ null          ┆ 1.0000       ┆ null                │\n",
       "│ 50%        ┆ 1571545.0000 ┆ 1400.0000       ┆ null          ┆ 3.0000       ┆ null                │\n",
       "│ 75%        ┆ 1728466.0000 ┆ 2778.0000       ┆ null          ┆ 5.0000       ┆ null                │\n",
       "│ max        ┆ 2702290.0000 ┆ 87115.6000      ┆ ffffa404      ┆ 98.0000      ┆ 2020-10-19          │\n",
       "└────────────┴──────────────┴─────────────────┴───────────────┴──────────────┴─────────────────────┘"
      ]
     },
     "metadata": {},
     "output_type": "display_data"
    },
    {
     "name": "stdout",
     "output_type": "stream",
     "text": [
      "amount_4527230A: Tax deductions amount tracked by the government registry.\n",
      "name_4527232M: Name of employer.\n",
      "recorddate_4527225D: Date of tax deduction record.\n"
     ]
    }
   ],
   "source": [
    "train_tax_registry_a_1 = print_sample_info(TRAIN_DIR,\n",
    "                                           \"train_tax_registry_a_1.parquet\",\n",
    "                                           feature_definitions)"
   ]
  },
  {
   "cell_type": "code",
   "execution_count": 24,
   "id": "3ca80dc8",
   "metadata": {},
   "outputs": [
    {
     "data": {
      "text/html": [
       "<div><style>\n",
       ".dataframe > thead > tr,\n",
       ".dataframe > tbody > tr {\n",
       "  text-align: right;\n",
       "  white-space: pre-wrap;\n",
       "}\n",
       "</style>\n",
       "<small>shape: (5, 5)</small><table border=\"1\" class=\"dataframe\"><thead><tr><th>case_id</th><th>amount_4917619A</th><th>deductiondate_4917603D</th><th>name_4917606M</th><th>num_group1</th></tr><tr><td>i64</td><td>f64</td><td>str</td><td>str</td><td>i64</td></tr></thead><tbody><tr><td>49435</td><td>6885.0000</td><td>&quot;2019-10-16&quot;</td><td>&quot;6b730375&quot;</td><td>0</td></tr><tr><td>49435</td><td>6885.0000</td><td>&quot;2019-10-16&quot;</td><td>&quot;6b730375&quot;</td><td>1</td></tr><tr><td>49435</td><td>6885.0000</td><td>&quot;2019-10-16&quot;</td><td>&quot;6b730375&quot;</td><td>2</td></tr><tr><td>49435</td><td>6885.0000</td><td>&quot;2019-10-16&quot;</td><td>&quot;6b730375&quot;</td><td>3</td></tr><tr><td>49435</td><td>6885.0000</td><td>&quot;2019-10-16&quot;</td><td>&quot;6b730375&quot;</td><td>4</td></tr></tbody></table></div>"
      ],
      "text/plain": [
       "shape: (5, 5)\n",
       "┌─────────┬─────────────────┬────────────────────────┬───────────────┬────────────┐\n",
       "│ case_id ┆ amount_4917619A ┆ deductiondate_4917603D ┆ name_4917606M ┆ num_group1 │\n",
       "│ ---     ┆ ---             ┆ ---                    ┆ ---           ┆ ---        │\n",
       "│ i64     ┆ f64             ┆ str                    ┆ str           ┆ i64        │\n",
       "╞═════════╪═════════════════╪════════════════════════╪═══════════════╪════════════╡\n",
       "│ 49435   ┆ 6885.0000       ┆ 2019-10-16             ┆ 6b730375      ┆ 0          │\n",
       "│ 49435   ┆ 6885.0000       ┆ 2019-10-16             ┆ 6b730375      ┆ 1          │\n",
       "│ 49435   ┆ 6885.0000       ┆ 2019-10-16             ┆ 6b730375      ┆ 2          │\n",
       "│ 49435   ┆ 6885.0000       ┆ 2019-10-16             ┆ 6b730375      ┆ 3          │\n",
       "│ 49435   ┆ 6885.0000       ┆ 2019-10-16             ┆ 6b730375      ┆ 4          │\n",
       "└─────────┴─────────────────┴────────────────────────┴───────────────┴────────────┘"
      ]
     },
     "metadata": {},
     "output_type": "display_data"
    },
    {
     "data": {
      "text/html": [
       "<div><style>\n",
       ".dataframe > thead > tr,\n",
       ".dataframe > tbody > tr {\n",
       "  text-align: right;\n",
       "  white-space: pre-wrap;\n",
       "}\n",
       "</style>\n",
       "<small>shape: (9, 6)</small><table border=\"1\" class=\"dataframe\"><thead><tr><th>statistic</th><th>case_id</th><th>amount_4917619A</th><th>deductiondate_4917603D</th><th>name_4917606M</th><th>num_group1</th></tr><tr><td>str</td><td>f64</td><td>f64</td><td>str</td><td>str</td><td>f64</td></tr></thead><tbody><tr><td>&quot;count&quot;</td><td>1107933.0000</td><td>1107933.0000</td><td>&quot;1107933&quot;</td><td>&quot;1107933&quot;</td><td>1107933.0000</td></tr><tr><td>&quot;null_count&quot;</td><td>0.0000</td><td>0.0000</td><td>&quot;0&quot;</td><td>&quot;0&quot;</td><td>0.0000</td></tr><tr><td>&quot;mean&quot;</td><td>1469876.1218</td><td>20104.9657</td><td>null</td><td>null</td><td>4.1447</td></tr><tr><td>&quot;std&quot;</td><td>705344.7771</td><td>25201.7451</td><td>null</td><td>null</td><td>4.1080</td></tr><tr><td>&quot;min&quot;</td><td>49435.0000</td><td>0.0000</td><td>&quot;2019-09-27&quot;</td><td>&quot;00011206&quot;</td><td>0.0000</td></tr><tr><td>&quot;25%&quot;</td><td>997668.0000</td><td>6885.0000</td><td>null</td><td>null</td><td>1.0000</td></tr><tr><td>&quot;50%&quot;</td><td>1854645.0000</td><td>13130.2000</td><td>null</td><td>null</td><td>3.0000</td></tr><tr><td>&quot;75%&quot;</td><td>1907416.0000</td><td>24300.0000</td><td>null</td><td>null</td><td>5.0000</td></tr><tr><td>&quot;max&quot;</td><td>2703452.0000</td><td>344250.0000</td><td>&quot;2020-10-16&quot;</td><td>&quot;ffff44de&quot;</td><td>100.0000</td></tr></tbody></table></div>"
      ],
      "text/plain": [
       "shape: (9, 6)\n",
       "┌────────────┬──────────────┬─────────────────┬────────────────────────┬───────────────┬──────────────┐\n",
       "│ statistic  ┆ case_id      ┆ amount_4917619A ┆ deductiondate_4917603D ┆ name_4917606M ┆ num_group1   │\n",
       "│ ---        ┆ ---          ┆ ---             ┆ ---                    ┆ ---           ┆ ---          │\n",
       "│ str        ┆ f64          ┆ f64             ┆ str                    ┆ str           ┆ f64          │\n",
       "╞════════════╪══════════════╪═════════════════╪════════════════════════╪═══════════════╪══════════════╡\n",
       "│ count      ┆ 1107933.0000 ┆ 1107933.0000    ┆ 1107933                ┆ 1107933       ┆ 1107933.0000 │\n",
       "│ null_count ┆ 0.0000       ┆ 0.0000          ┆ 0                      ┆ 0             ┆ 0.0000       │\n",
       "│ mean       ┆ 1469876.1218 ┆ 20104.9657      ┆ null                   ┆ null          ┆ 4.1447       │\n",
       "│ std        ┆ 705344.7771  ┆ 25201.7451      ┆ null                   ┆ null          ┆ 4.1080       │\n",
       "│ min        ┆ 49435.0000   ┆ 0.0000          ┆ 2019-09-27             ┆ 00011206      ┆ 0.0000       │\n",
       "│ 25%        ┆ 997668.0000  ┆ 6885.0000       ┆ null                   ┆ null          ┆ 1.0000       │\n",
       "│ 50%        ┆ 1854645.0000 ┆ 13130.2000      ┆ null                   ┆ null          ┆ 3.0000       │\n",
       "│ 75%        ┆ 1907416.0000 ┆ 24300.0000      ┆ null                   ┆ null          ┆ 5.0000       │\n",
       "│ max        ┆ 2703452.0000 ┆ 344250.0000     ┆ 2020-10-16             ┆ ffff44de      ┆ 100.0000     │\n",
       "└────────────┴──────────────┴─────────────────┴────────────────────────┴───────────────┴──────────────┘"
      ]
     },
     "metadata": {},
     "output_type": "display_data"
    },
    {
     "name": "stdout",
     "output_type": "stream",
     "text": [
      "amount_4917619A: Tax deductions amount tracked by the government registry.\n",
      "deductiondate_4917603D: Tax deduction date.\n",
      "name_4917606M: Name of employer.\n"
     ]
    }
   ],
   "source": [
    "train_tax_registry_b_1 = print_sample_info(TRAIN_DIR,\n",
    "                                           \"train_tax_registry_b_1.parquet\",\n",
    "                                           feature_definitions)"
   ]
  },
  {
   "cell_type": "code",
   "execution_count": 25,
   "id": "5448a8f2",
   "metadata": {},
   "outputs": [
    {
     "data": {
      "text/html": [
       "<div><style>\n",
       ".dataframe > thead > tr,\n",
       ".dataframe > tbody > tr {\n",
       "  text-align: right;\n",
       "  white-space: pre-wrap;\n",
       "}\n",
       "</style>\n",
       "<small>shape: (5, 5)</small><table border=\"1\" class=\"dataframe\"><thead><tr><th>case_id</th><th>employername_160M</th><th>num_group1</th><th>pmtamount_36A</th><th>processingdate_168D</th></tr><tr><td>i64</td><td>str</td><td>i64</td><td>f64</td><td>str</td></tr></thead><tbody><tr><td>357</td><td>&quot;c91b12ff&quot;</td><td>0</td><td>1200.0000</td><td>&quot;2019-01-04&quot;</td></tr><tr><td>357</td><td>&quot;c91b12ff&quot;</td><td>1</td><td>1200.0000</td><td>&quot;2018-11-28&quot;</td></tr><tr><td>357</td><td>&quot;c91b12ff&quot;</td><td>2</td><td>972.8000</td><td>&quot;2018-11-01&quot;</td></tr><tr><td>357</td><td>&quot;c91b12ff&quot;</td><td>3</td><td>628.6000</td><td>&quot;2018-10-08&quot;</td></tr><tr><td>357</td><td>&quot;c91b12ff&quot;</td><td>4</td><td>1200.0000</td><td>&quot;2018-09-10&quot;</td></tr></tbody></table></div>"
      ],
      "text/plain": [
       "shape: (5, 5)\n",
       "┌─────────┬───────────────────┬────────────┬───────────────┬─────────────────────┐\n",
       "│ case_id ┆ employername_160M ┆ num_group1 ┆ pmtamount_36A ┆ processingdate_168D │\n",
       "│ ---     ┆ ---               ┆ ---        ┆ ---           ┆ ---                 │\n",
       "│ i64     ┆ str               ┆ i64        ┆ f64           ┆ str                 │\n",
       "╞═════════╪═══════════════════╪════════════╪═══════════════╪═════════════════════╡\n",
       "│ 357     ┆ c91b12ff          ┆ 0          ┆ 1200.0000     ┆ 2019-01-04          │\n",
       "│ 357     ┆ c91b12ff          ┆ 1          ┆ 1200.0000     ┆ 2018-11-28          │\n",
       "│ 357     ┆ c91b12ff          ┆ 2          ┆ 972.8000      ┆ 2018-11-01          │\n",
       "│ 357     ┆ c91b12ff          ┆ 3          ┆ 628.6000      ┆ 2018-10-08          │\n",
       "│ 357     ┆ c91b12ff          ┆ 4          ┆ 1200.0000     ┆ 2018-09-10          │\n",
       "└─────────┴───────────────────┴────────────┴───────────────┴─────────────────────┘"
      ]
     },
     "metadata": {},
     "output_type": "display_data"
    },
    {
     "data": {
      "text/html": [
       "<div><style>\n",
       ".dataframe > thead > tr,\n",
       ".dataframe > tbody > tr {\n",
       "  text-align: right;\n",
       "  white-space: pre-wrap;\n",
       "}\n",
       "</style>\n",
       "<small>shape: (9, 6)</small><table border=\"1\" class=\"dataframe\"><thead><tr><th>statistic</th><th>case_id</th><th>employername_160M</th><th>num_group1</th><th>pmtamount_36A</th><th>processingdate_168D</th></tr><tr><td>str</td><td>f64</td><td>str</td><td>f64</td><td>f64</td><td>str</td></tr></thead><tbody><tr><td>&quot;count&quot;</td><td>3343800.0000</td><td>&quot;3343800&quot;</td><td>3343800.0000</td><td>3343800.0000</td><td>&quot;3343800&quot;</td></tr><tr><td>&quot;null_count&quot;</td><td>0.0000</td><td>&quot;0&quot;</td><td>0.0000</td><td>0.0000</td><td>&quot;0&quot;</td></tr><tr><td>&quot;mean&quot;</td><td>1161306.3801</td><td>null</td><td>3.8931</td><td>2260.5374</td><td>null</td></tr><tr><td>&quot;std&quot;</td><td>657994.9559</td><td>null</td><td>3.7368</td><td>3161.2941</td><td>null</td></tr><tr><td>&quot;min&quot;</td><td>357.0000</td><td>&quot;000025c1&quot;</td><td>0.0000</td><td>0.0000</td><td>&quot;2018-07-11&quot;</td></tr><tr><td>&quot;25%&quot;</td><td>700623.0000</td><td>null</td><td>1.0000</td><td>745.4600</td><td>null</td></tr><tr><td>&quot;50%&quot;</td><td>1301411.0000</td><td>null</td><td>3.0000</td><td>1365.4540</td><td>null</td></tr><tr><td>&quot;75%&quot;</td><td>1471673.0000</td><td>null</td><td>5.0000</td><td>2632.2000</td><td>null</td></tr><tr><td>&quot;max&quot;</td><td>2629815.0000</td><td>&quot;ffffaf43&quot;</td><td>120.0000</td><td>87115.6000</td><td>&quot;2019-10-22&quot;</td></tr></tbody></table></div>"
      ],
      "text/plain": [
       "shape: (9, 6)\n",
       "┌────────────┬──────────────┬───────────────────┬──────────────┬───────────────┬─────────────────────┐\n",
       "│ statistic  ┆ case_id      ┆ employername_160M ┆ num_group1   ┆ pmtamount_36A ┆ processingdate_168D │\n",
       "│ ---        ┆ ---          ┆ ---               ┆ ---          ┆ ---           ┆ ---                 │\n",
       "│ str        ┆ f64          ┆ str               ┆ f64          ┆ f64           ┆ str                 │\n",
       "╞════════════╪══════════════╪═══════════════════╪══════════════╪═══════════════╪═════════════════════╡\n",
       "│ count      ┆ 3343800.0000 ┆ 3343800           ┆ 3343800.0000 ┆ 3343800.0000  ┆ 3343800             │\n",
       "│ null_count ┆ 0.0000       ┆ 0                 ┆ 0.0000       ┆ 0.0000        ┆ 0                   │\n",
       "│ mean       ┆ 1161306.3801 ┆ null              ┆ 3.8931       ┆ 2260.5374     ┆ null                │\n",
       "│ std        ┆ 657994.9559  ┆ null              ┆ 3.7368       ┆ 3161.2941     ┆ null                │\n",
       "│ min        ┆ 357.0000     ┆ 000025c1          ┆ 0.0000       ┆ 0.0000        ┆ 2018-07-11          │\n",
       "│ 25%        ┆ 700623.0000  ┆ null              ┆ 1.0000       ┆ 745.4600      ┆ null                │\n",
       "│ 50%        ┆ 1301411.0000 ┆ null              ┆ 3.0000       ┆ 1365.4540     ┆ null                │\n",
       "│ 75%        ┆ 1471673.0000 ┆ null              ┆ 5.0000       ┆ 2632.2000     ┆ null                │\n",
       "│ max        ┆ 2629815.0000 ┆ ffffaf43          ┆ 120.0000     ┆ 87115.6000    ┆ 2019-10-22          │\n",
       "└────────────┴──────────────┴───────────────────┴──────────────┴───────────────┴─────────────────────┘"
      ]
     },
     "metadata": {},
     "output_type": "display_data"
    },
    {
     "name": "stdout",
     "output_type": "stream",
     "text": [
      "employername_160M: Employer's name.\n",
      "pmtamount_36A: Tax deductions amount for credit bureau payments.\n",
      "processingdate_168D: Date when the tax deduction is processed.\n"
     ]
    }
   ],
   "source": [
    "train_tax_registry_c_1 = print_sample_info(TRAIN_DIR,\n",
    "                                           \"train_tax_registry_c_1.parquet\",\n",
    "                                           feature_definitions)"
   ]
  },
  {
   "cell_type": "markdown",
   "id": "02fcd31c",
   "metadata": {},
   "source": [
    "Информация по налоговым вычетам от разных провайдеров"
   ]
  },
  {
   "cell_type": "markdown",
   "id": "c66d2f76",
   "metadata": {},
   "source": [
    "## credit_bureau\n",
    "credit_bureau_a_1\n",
    "Properties: depth=1, external data source, Credit bureau provider A\n",
    "\n",
    "credit_bureau_b_1\n",
    "Properties: depth=1, external data source, Credit bureau provider B"
   ]
  },
  {
   "cell_type": "code",
   "execution_count": 26,
   "id": "a1a60f78",
   "metadata": {
    "scrolled": true
   },
   "outputs": [
    {
     "data": {
      "text/html": [
       "<div><style>\n",
       ".dataframe > thead > tr,\n",
       ".dataframe > tbody > tr {\n",
       "  text-align: right;\n",
       "  white-space: pre-wrap;\n",
       "}\n",
       "</style>\n",
       "<small>shape: (5, 79)</small><table border=\"1\" class=\"dataframe\"><thead><tr><th>case_id</th><th>annualeffectiverate_199L</th><th>annualeffectiverate_63L</th><th>classificationofcontr_13M</th><th>classificationofcontr_400M</th><th>contractst_545M</th><th>contractst_964M</th><th>contractsum_5085717L</th><th>credlmt_230A</th><th>credlmt_935A</th><th>dateofcredend_289D</th><th>dateofcredend_353D</th><th>dateofcredstart_181D</th><th>dateofcredstart_739D</th><th>dateofrealrepmt_138D</th><th>debtoutstand_525A</th><th>debtoverdue_47A</th><th>description_351M</th><th>dpdmax_139P</th><th>dpdmax_757P</th><th>dpdmaxdatemonth_442T</th><th>dpdmaxdatemonth_89T</th><th>dpdmaxdateyear_596T</th><th>dpdmaxdateyear_896T</th><th>financialinstitution_382M</th><th>financialinstitution_591M</th><th>instlamount_768A</th><th>instlamount_852A</th><th>interestrate_508L</th><th>lastupdate_1112D</th><th>lastupdate_388D</th><th>monthlyinstlamount_332A</th><th>monthlyinstlamount_674A</th><th>nominalrate_281L</th><th>nominalrate_498L</th><th>num_group1</th><th>numberofcontrsvalue_258L</th><th>&hellip;</th><th>numberofoverdueinstlmax_1039L</th><th>numberofoverdueinstlmax_1151L</th><th>numberofoverdueinstlmaxdat_148D</th><th>numberofoverdueinstlmaxdat_641D</th><th>numberofoverdueinstls_725L</th><th>numberofoverdueinstls_834L</th><th>outstandingamount_354A</th><th>outstandingamount_362A</th><th>overdueamount_31A</th><th>overdueamount_659A</th><th>overdueamountmax2_14A</th><th>overdueamountmax2_398A</th><th>overdueamountmax2date_1002D</th><th>overdueamountmax2date_1142D</th><th>overdueamountmax_155A</th><th>overdueamountmax_35A</th><th>overdueamountmaxdatemonth_284T</th><th>overdueamountmaxdatemonth_365T</th><th>overdueamountmaxdateyear_2T</th><th>overdueamountmaxdateyear_994T</th><th>periodicityofpmts_1102L</th><th>periodicityofpmts_837L</th><th>prolongationcount_1120L</th><th>prolongationcount_599L</th><th>purposeofcred_426M</th><th>purposeofcred_874M</th><th>refreshdate_3813885D</th><th>residualamount_488A</th><th>residualamount_856A</th><th>subjectrole_182M</th><th>subjectrole_93M</th><th>totalamount_6A</th><th>totalamount_996A</th><th>totaldebtoverduevalue_178A</th><th>totaldebtoverduevalue_718A</th><th>totaloutstanddebtvalue_39A</th><th>totaloutstanddebtvalue_668A</th></tr><tr><td>i64</td><td>f64</td><td>f64</td><td>str</td><td>str</td><td>str</td><td>str</td><td>f64</td><td>f64</td><td>f64</td><td>str</td><td>str</td><td>str</td><td>str</td><td>str</td><td>f64</td><td>f64</td><td>str</td><td>f64</td><td>f64</td><td>f64</td><td>f64</td><td>f64</td><td>f64</td><td>str</td><td>str</td><td>f64</td><td>f64</td><td>f64</td><td>str</td><td>str</td><td>f64</td><td>f64</td><td>f64</td><td>f64</td><td>i64</td><td>f64</td><td>&hellip;</td><td>f64</td><td>f64</td><td>str</td><td>str</td><td>f64</td><td>f64</td><td>f64</td><td>f64</td><td>f64</td><td>f64</td><td>f64</td><td>f64</td><td>str</td><td>str</td><td>f64</td><td>f64</td><td>f64</td><td>f64</td><td>f64</td><td>f64</td><td>f64</td><td>f64</td><td>f64</td><td>f64</td><td>str</td><td>str</td><td>str</td><td>f64</td><td>f64</td><td>str</td><td>str</td><td>f64</td><td>f64</td><td>f64</td><td>f64</td><td>f64</td><td>f64</td></tr></thead><tbody><tr><td>388</td><td>null</td><td>null</td><td>&quot;ea6782cc&quot;</td><td>&quot;a55475b1&quot;</td><td>&quot;7241344e&quot;</td><td>&quot;a55475b1&quot;</td><td>null</td><td>null</td><td>135806.0000</td><td>&quot;2020-08-06&quot;</td><td>null</td><td>null</td><td>&quot;2018-08-06&quot;</td><td>null</td><td>null</td><td>null</td><td>&quot;a55475b1&quot;</td><td>0.0000</td><td>null</td><td>null</td><td>8.0000</td><td>2018.0000</td><td>null</td><td>&quot;a55475b1&quot;</td><td>&quot;P204_66_73&quot;</td><td>8742.8000</td><td>null</td><td>null</td><td>&quot;2019-01-11&quot;</td><td>null</td><td>8742.8000</td><td>null</td><td>null</td><td>null</td><td>1</td><td>null</td><td>&hellip;</td><td>0.0000</td><td>null</td><td>null</td><td>null</td><td>0.0000</td><td>null</td><td>null</td><td>null</td><td>null</td><td>0.0000</td><td>0.0000</td><td>null</td><td>null</td><td>null</td><td>0.0000</td><td>null</td><td>null</td><td>8.0000</td><td>2018.0000</td><td>null</td><td>null</td><td>null</td><td>null</td><td>null</td><td>&quot;60c73645&quot;</td><td>&quot;a55475b1&quot;</td><td>null</td><td>null</td><td>114325.8050</td><td>&quot;a55475b1&quot;</td><td>&quot;a55475b1&quot;</td><td>null</td><td>null</td><td>null</td><td>null</td><td>null</td><td>null</td></tr><tr><td>388</td><td>null</td><td>null</td><td>&quot;4408ff0f&quot;</td><td>&quot;a55475b1&quot;</td><td>&quot;7241344e&quot;</td><td>&quot;a55475b1&quot;</td><td>null</td><td>null</td><td>null</td><td>&quot;2023-06-20&quot;</td><td>null</td><td>null</td><td>&quot;2018-06-20&quot;</td><td>null</td><td>374419.5000</td><td>0.0000</td><td>&quot;a55475b1&quot;</td><td>0.0000</td><td>null</td><td>null</td><td>7.0000</td><td>2018.0000</td><td>null</td><td>&quot;a55475b1&quot;</td><td>&quot;55b002a9&quot;</td><td>null</td><td>null</td><td>null</td><td>&quot;2019-01-24&quot;</td><td>null</td><td>7811.4463</td><td>null</td><td>null</td><td>null</td><td>0</td><td>2.0000</td><td>&hellip;</td><td>0.0000</td><td>null</td><td>null</td><td>null</td><td>0.0000</td><td>null</td><td>null</td><td>260093.7000</td><td>null</td><td>0.0000</td><td>0.0000</td><td>null</td><td>null</td><td>null</td><td>0.0000</td><td>null</td><td>null</td><td>7.0000</td><td>2018.0000</td><td>null</td><td>null</td><td>30.0000</td><td>null</td><td>null</td><td>&quot;96a8fdfe&quot;</td><td>&quot;a55475b1&quot;</td><td>null</td><td>null</td><td>null</td><td>&quot;ab3c25cf&quot;</td><td>&quot;ab3c25cf&quot;</td><td>null</td><td>268897.6200</td><td>0.0000</td><td>0.0000</td><td>374419.5000</td><td>0.0000</td></tr><tr><td>388</td><td>null</td><td>null</td><td>&quot;a55475b1&quot;</td><td>&quot;a55475b1&quot;</td><td>&quot;a55475b1&quot;</td><td>&quot;a55475b1&quot;</td><td>null</td><td>null</td><td>null</td><td>null</td><td>null</td><td>null</td><td>null</td><td>null</td><td>null</td><td>null</td><td>&quot;a55475b1&quot;</td><td>null</td><td>null</td><td>null</td><td>null</td><td>null</td><td>null</td><td>&quot;a55475b1&quot;</td><td>&quot;a55475b1&quot;</td><td>null</td><td>null</td><td>null</td><td>null</td><td>null</td><td>null</td><td>null</td><td>null</td><td>null</td><td>2</td><td>null</td><td>&hellip;</td><td>null</td><td>null</td><td>null</td><td>null</td><td>null</td><td>null</td><td>null</td><td>null</td><td>null</td><td>null</td><td>null</td><td>null</td><td>null</td><td>null</td><td>null</td><td>null</td><td>null</td><td>null</td><td>null</td><td>null</td><td>null</td><td>null</td><td>null</td><td>null</td><td>&quot;a55475b1&quot;</td><td>&quot;a55475b1&quot;</td><td>&quot;2019-01-28&quot;</td><td>null</td><td>null</td><td>&quot;a55475b1&quot;</td><td>&quot;a55475b1&quot;</td><td>null</td><td>null</td><td>null</td><td>null</td><td>null</td><td>null</td></tr><tr><td>388</td><td>null</td><td>null</td><td>&quot;a55475b1&quot;</td><td>&quot;a55475b1&quot;</td><td>&quot;a55475b1&quot;</td><td>&quot;a55475b1&quot;</td><td>null</td><td>null</td><td>null</td><td>null</td><td>null</td><td>null</td><td>null</td><td>null</td><td>null</td><td>null</td><td>&quot;a55475b1&quot;</td><td>null</td><td>null</td><td>null</td><td>null</td><td>null</td><td>null</td><td>&quot;a55475b1&quot;</td><td>&quot;a55475b1&quot;</td><td>null</td><td>null</td><td>null</td><td>null</td><td>null</td><td>null</td><td>null</td><td>null</td><td>null</td><td>3</td><td>null</td><td>&hellip;</td><td>null</td><td>null</td><td>null</td><td>null</td><td>null</td><td>null</td><td>null</td><td>null</td><td>null</td><td>null</td><td>null</td><td>null</td><td>null</td><td>null</td><td>null</td><td>null</td><td>null</td><td>null</td><td>null</td><td>null</td><td>null</td><td>null</td><td>null</td><td>null</td><td>&quot;a55475b1&quot;</td><td>&quot;a55475b1&quot;</td><td>&quot;2019-01-28&quot;</td><td>null</td><td>null</td><td>&quot;a55475b1&quot;</td><td>&quot;a55475b1&quot;</td><td>null</td><td>null</td><td>null</td><td>null</td><td>null</td><td>null</td></tr><tr><td>388</td><td>null</td><td>null</td><td>&quot;a55475b1&quot;</td><td>&quot;a55475b1&quot;</td><td>&quot;a55475b1&quot;</td><td>&quot;a55475b1&quot;</td><td>null</td><td>null</td><td>null</td><td>null</td><td>null</td><td>null</td><td>null</td><td>null</td><td>null</td><td>null</td><td>&quot;a55475b1&quot;</td><td>null</td><td>null</td><td>null</td><td>null</td><td>null</td><td>null</td><td>&quot;a55475b1&quot;</td><td>&quot;a55475b1&quot;</td><td>null</td><td>null</td><td>null</td><td>null</td><td>null</td><td>null</td><td>null</td><td>null</td><td>null</td><td>4</td><td>null</td><td>&hellip;</td><td>null</td><td>null</td><td>null</td><td>null</td><td>null</td><td>null</td><td>null</td><td>null</td><td>null</td><td>null</td><td>null</td><td>null</td><td>null</td><td>null</td><td>null</td><td>null</td><td>null</td><td>null</td><td>null</td><td>null</td><td>null</td><td>null</td><td>null</td><td>null</td><td>&quot;a55475b1&quot;</td><td>&quot;a55475b1&quot;</td><td>&quot;2019-01-28&quot;</td><td>null</td><td>null</td><td>&quot;a55475b1&quot;</td><td>&quot;a55475b1&quot;</td><td>null</td><td>null</td><td>null</td><td>null</td><td>null</td><td>null</td></tr></tbody></table></div>"
      ],
      "text/plain": [
       "shape: (5, 79)\n",
       "┌─────────┬──────────────┬──────────────┬──────────────┬───┬──────────────┬──────────────┬──────────────┬──────────────┐\n",
       "│ case_id ┆ annualeffect ┆ annualeffect ┆ classificati ┆ … ┆ totaldebtove ┆ totaldebtove ┆ totaloutstan ┆ totaloutstan │\n",
       "│ ---     ┆ iverate_199L ┆ iverate_63L  ┆ onofcontr_13 ┆   ┆ rduevalue_17 ┆ rduevalue_71 ┆ ddebtvalue_3 ┆ ddebtvalue_6 │\n",
       "│ i64     ┆ ---          ┆ ---          ┆ M            ┆   ┆ 8A           ┆ 8A           ┆ 9A           ┆ 68A          │\n",
       "│         ┆ f64          ┆ f64          ┆ ---          ┆   ┆ ---          ┆ ---          ┆ ---          ┆ ---          │\n",
       "│         ┆              ┆              ┆ str          ┆   ┆ f64          ┆ f64          ┆ f64          ┆ f64          │\n",
       "╞═════════╪══════════════╪══════════════╪══════════════╪═══╪══════════════╪══════════════╪══════════════╪══════════════╡\n",
       "│ 388     ┆ null         ┆ null         ┆ ea6782cc     ┆ … ┆ null         ┆ null         ┆ null         ┆ null         │\n",
       "│ 388     ┆ null         ┆ null         ┆ 4408ff0f     ┆ … ┆ 0.0000       ┆ 0.0000       ┆ 374419.5000  ┆ 0.0000       │\n",
       "│ 388     ┆ null         ┆ null         ┆ a55475b1     ┆ … ┆ null         ┆ null         ┆ null         ┆ null         │\n",
       "│ 388     ┆ null         ┆ null         ┆ a55475b1     ┆ … ┆ null         ┆ null         ┆ null         ┆ null         │\n",
       "│ 388     ┆ null         ┆ null         ┆ a55475b1     ┆ … ┆ null         ┆ null         ┆ null         ┆ null         │\n",
       "└─────────┴──────────────┴──────────────┴──────────────┴───┴──────────────┴──────────────┴──────────────┴──────────────┘"
      ]
     },
     "metadata": {},
     "output_type": "display_data"
    },
    {
     "data": {
      "text/html": [
       "<div><style>\n",
       ".dataframe > thead > tr,\n",
       ".dataframe > tbody > tr {\n",
       "  text-align: right;\n",
       "  white-space: pre-wrap;\n",
       "}\n",
       "</style>\n",
       "<small>shape: (9, 80)</small><table border=\"1\" class=\"dataframe\"><thead><tr><th>statistic</th><th>case_id</th><th>annualeffectiverate_199L</th><th>annualeffectiverate_63L</th><th>classificationofcontr_13M</th><th>classificationofcontr_400M</th><th>contractst_545M</th><th>contractst_964M</th><th>contractsum_5085717L</th><th>credlmt_230A</th><th>credlmt_935A</th><th>dateofcredend_289D</th><th>dateofcredend_353D</th><th>dateofcredstart_181D</th><th>dateofcredstart_739D</th><th>dateofrealrepmt_138D</th><th>debtoutstand_525A</th><th>debtoverdue_47A</th><th>description_351M</th><th>dpdmax_139P</th><th>dpdmax_757P</th><th>dpdmaxdatemonth_442T</th><th>dpdmaxdatemonth_89T</th><th>dpdmaxdateyear_596T</th><th>dpdmaxdateyear_896T</th><th>financialinstitution_382M</th><th>financialinstitution_591M</th><th>instlamount_768A</th><th>instlamount_852A</th><th>interestrate_508L</th><th>lastupdate_1112D</th><th>lastupdate_388D</th><th>monthlyinstlamount_332A</th><th>monthlyinstlamount_674A</th><th>nominalrate_281L</th><th>nominalrate_498L</th><th>num_group1</th><th>&hellip;</th><th>numberofoverdueinstlmax_1039L</th><th>numberofoverdueinstlmax_1151L</th><th>numberofoverdueinstlmaxdat_148D</th><th>numberofoverdueinstlmaxdat_641D</th><th>numberofoverdueinstls_725L</th><th>numberofoverdueinstls_834L</th><th>outstandingamount_354A</th><th>outstandingamount_362A</th><th>overdueamount_31A</th><th>overdueamount_659A</th><th>overdueamountmax2_14A</th><th>overdueamountmax2_398A</th><th>overdueamountmax2date_1002D</th><th>overdueamountmax2date_1142D</th><th>overdueamountmax_155A</th><th>overdueamountmax_35A</th><th>overdueamountmaxdatemonth_284T</th><th>overdueamountmaxdatemonth_365T</th><th>overdueamountmaxdateyear_2T</th><th>overdueamountmaxdateyear_994T</th><th>periodicityofpmts_1102L</th><th>periodicityofpmts_837L</th><th>prolongationcount_1120L</th><th>prolongationcount_599L</th><th>purposeofcred_426M</th><th>purposeofcred_874M</th><th>refreshdate_3813885D</th><th>residualamount_488A</th><th>residualamount_856A</th><th>subjectrole_182M</th><th>subjectrole_93M</th><th>totalamount_6A</th><th>totalamount_996A</th><th>totaldebtoverduevalue_178A</th><th>totaldebtoverduevalue_718A</th><th>totaloutstanddebtvalue_39A</th><th>totaloutstanddebtvalue_668A</th></tr><tr><td>str</td><td>f64</td><td>f64</td><td>f64</td><td>str</td><td>str</td><td>str</td><td>str</td><td>f64</td><td>f64</td><td>f64</td><td>str</td><td>str</td><td>str</td><td>str</td><td>str</td><td>f64</td><td>f64</td><td>str</td><td>f64</td><td>f64</td><td>f64</td><td>f64</td><td>f64</td><td>f64</td><td>str</td><td>str</td><td>f64</td><td>f64</td><td>f64</td><td>str</td><td>str</td><td>f64</td><td>f64</td><td>f64</td><td>f64</td><td>f64</td><td>&hellip;</td><td>f64</td><td>f64</td><td>str</td><td>str</td><td>f64</td><td>f64</td><td>f64</td><td>f64</td><td>f64</td><td>f64</td><td>f64</td><td>f64</td><td>str</td><td>str</td><td>f64</td><td>f64</td><td>f64</td><td>f64</td><td>f64</td><td>f64</td><td>f64</td><td>f64</td><td>f64</td><td>f64</td><td>str</td><td>str</td><td>str</td><td>f64</td><td>f64</td><td>str</td><td>str</td><td>f64</td><td>f64</td><td>f64</td><td>f64</td><td>f64</td><td>f64</td></tr></thead><tbody><tr><td>&quot;count&quot;</td><td>4108212.0000</td><td>36981.0000</td><td>72337.0000</td><td>&quot;4108212&quot;</td><td>&quot;4108212&quot;</td><td>&quot;4108212&quot;</td><td>&quot;4108212&quot;</td><td>0.0000</td><td>64294.0000</td><td>298053.0000</td><td>&quot;658397&quot;</td><td>&quot;456718&quot;</td><td>&quot;456721&quot;</td><td>&quot;658397&quot;</td><td>&quot;453846&quot;</td><td>334815.0000</td><td>334815.0000</td><td>&quot;4108212&quot;</td><td>655589.0000</td><td>440293.0000</td><td>440293.0000</td><td>655589.0000</td><td>655589.0000</td><td>440293.0000</td><td>&quot;4108212&quot;</td><td>&quot;4108212&quot;</td><td>295139.0000</td><td>41056.0000</td><td>5237.0000</td><td>&quot;658397&quot;</td><td>&quot;456706&quot;</td><td>655289.0000</td><td>420877.0000</td><td>244636.0000</td><td>138408.0000</td><td>4108212.0000</td><td>&hellip;</td><td>658397.0000</td><td>456721.0000</td><td>&quot;136918&quot;</td><td>&quot;167959&quot;</td><td>655528.0000</td><td>456198.0000</td><td>392677.0000</td><td>360331.0000</td><td>456313.0000</td><td>655531.0000</td><td>658397.0000</td><td>456721.0000</td><td>&quot;135457&quot;</td><td>&quot;169610&quot;</td><td>658397.0000</td><td>440768.0000</td><td>440768.0000</td><td>658397.0000</td><td>658397.0000</td><td>440768.0000</td><td>359666.0000</td><td>352760.0000</td><td>26455.0000</td><td>5992.0000</td><td>&quot;4108212&quot;</td><td>&quot;4108212&quot;</td><td>&quot;2678254&quot;</td><td>63760.0000</td><td>295139.0000</td><td>&quot;4108212&quot;</td><td>&quot;4108212&quot;</td><td>392791.0000</td><td>360344.0000</td><td>337574.0000</td><td>298602.0000</td><td>337574.0000</td><td>298602.0000</td></tr><tr><td>&quot;null_count&quot;</td><td>0.0000</td><td>4071231.0000</td><td>4035875.0000</td><td>&quot;0&quot;</td><td>&quot;0&quot;</td><td>&quot;0&quot;</td><td>&quot;0&quot;</td><td>4108212.0000</td><td>4043918.0000</td><td>3810159.0000</td><td>&quot;3449815&quot;</td><td>&quot;3651494&quot;</td><td>&quot;3651491&quot;</td><td>&quot;3449815&quot;</td><td>&quot;3654366&quot;</td><td>3773397.0000</td><td>3773397.0000</td><td>&quot;0&quot;</td><td>3452623.0000</td><td>3667919.0000</td><td>3667919.0000</td><td>3452623.0000</td><td>3452623.0000</td><td>3667919.0000</td><td>&quot;0&quot;</td><td>&quot;0&quot;</td><td>3813073.0000</td><td>4067156.0000</td><td>4102975.0000</td><td>&quot;3449815&quot;</td><td>&quot;3651506&quot;</td><td>3452923.0000</td><td>3687335.0000</td><td>3863576.0000</td><td>3969804.0000</td><td>0.0000</td><td>&hellip;</td><td>3449815.0000</td><td>3651491.0000</td><td>&quot;3971294&quot;</td><td>&quot;3940253&quot;</td><td>3452684.0000</td><td>3652014.0000</td><td>3715535.0000</td><td>3747881.0000</td><td>3651899.0000</td><td>3452681.0000</td><td>3449815.0000</td><td>3651491.0000</td><td>&quot;3972755&quot;</td><td>&quot;3938602&quot;</td><td>3449815.0000</td><td>3667444.0000</td><td>3667444.0000</td><td>3449815.0000</td><td>3449815.0000</td><td>3667444.0000</td><td>3748546.0000</td><td>3755452.0000</td><td>4081757.0000</td><td>4102220.0000</td><td>&quot;0&quot;</td><td>&quot;0&quot;</td><td>&quot;1429958&quot;</td><td>4044452.0000</td><td>3813073.0000</td><td>&quot;0&quot;</td><td>&quot;0&quot;</td><td>3715421.0000</td><td>3747868.0000</td><td>3770638.0000</td><td>3809610.0000</td><td>3770638.0000</td><td>3809610.0000</td></tr><tr><td>&quot;mean&quot;</td><td>1170392.4104</td><td>612.0496</td><td>84.0508</td><td>null</td><td>null</td><td>null</td><td>null</td><td>null</td><td>35626.1477</td><td>99771.4078</td><td>null</td><td>null</td><td>null</td><td>null</td><td>null</td><td>198169.0396</td><td>1819.2730</td><td>null</td><td>12.8633</td><td>44.0582</td><td>6.4980</td><td>6.2330</td><td>2017.9888</td><td>2014.0585</td><td>null</td><td>null</td><td>3259.7674</td><td>575.6078</td><td>66.4944</td><td>null</td><td>null</td><td>5226.8227</td><td>5896.0027</td><td>33.5355</td><td>65.4153</td><td>6.2505</td><td>&hellip;</td><td>16.5461</td><td>51.7860</td><td>null</td><td>null</td><td>8.6840</td><td>0.0537</td><td>4.0660</td><td>160062.0501</td><td>17.7984</td><td>932.6236</td><td>3275.3281</td><td>5635.9606</td><td>null</td><td>null</td><td>2432.9062</td><td>4512.7661</td><td>6.5367</td><td>6.2602</td><td>2017.9765</td><td>2014.0109</td><td>30.1158</td><td>30.3170</td><td>0.5802</td><td>1.0272</td><td>null</td><td>null</td><td>null</td><td>0.8400</td><td>29451.4513</td><td>null</td><td>null</td><td>79191.4281</td><td>205977.3162</td><td>1807.5123</td><td>104.7931</td><td>196536.9690</td><td>107.9046</td></tr><tr><td>&quot;std&quot;</td><td>715611.9713</td><td>5408.4986</td><td>1860.2024</td><td>null</td><td>null</td><td>null</td><td>null</td><td>null</td><td>551563.3402</td><td>4577044.5901</td><td>null</td><td>null</td><td>null</td><td>null</td><td>null</td><td>3552509.0211</td><td>109560.5174</td><td>null</td><td>127.5709</td><td>321.3554</td><td>3.4425</td><td>3.4072</td><td>0.7392</td><td>3.7363</td><td>null</td><td>null</td><td>5205.8892</td><td>1800.8025</td><td>830.6237</td><td>null</td><td>null</td><td>42058.7726</td><td>107159.2225</td><td>153.4283</td><td>300.5630</td><td>5.8532</td><td>&hellip;</td><td>164.5328</td><td>553.7247</td><td>null</td><td>null</td><td>124.9429</td><td>4.5239</td><td>815.2671</td><td>3052952.9913</td><td>1847.8761</td><td>74356.7359</td><td>116946.8360</td><td>169765.1202</td><td>null</td><td>null</td><td>91318.3617</td><td>91143.6339</td><td>3.4675</td><td>3.4145</td><td>0.7359</td><td>3.7119</td><td>5.4296</td><td>6.8295</td><td>2.2572</td><td>3.3389</td><td>null</td><td>null</td><td>null</td><td>212.0949</td><td>97608.6474</td><td>null</td><td>null</td><td>599747.9128</td><td>2558844.2764</td><td>108044.7330</td><td>5031.5470</td><td>3379200.5433</td><td>32373.8368</td></tr><tr><td>&quot;min&quot;</td><td>388.0000</td><td>0.0000</td><td>0.0000</td><td>&quot;00135d9c&quot;</td><td>&quot;00135d9c&quot;</td><td>&quot;02699f0c&quot;</td><td>&quot;02699f0c&quot;</td><td>null</td><td>0.0000</td><td>0.0000</td><td>&quot;2004-05-29&quot;</td><td>&quot;1900-01-15&quot;</td><td>&quot;1999-09-15&quot;</td><td>&quot;1999-09-15&quot;</td><td>&quot;1900-01-15&quot;</td><td>0.0000</td><td>0.0000</td><td>&quot;0349102c&quot;</td><td>0.0000</td><td>-9.0000</td><td>1.0000</td><td>1.0000</td><td>2015.0000</td><td>2003.0000</td><td>&quot;001f4b0b&quot;</td><td>&quot;04d45dcc&quot;</td><td>0.0000</td><td>0.0000</td><td>0.0000</td><td>&quot;2017-09-22&quot;</td><td>&quot;2004-08-30&quot;</td><td>0.0000</td><td>0.0000</td><td>0.0000</td><td>0.0000</td><td>0.0000</td><td>&hellip;</td><td>0.0000</td><td>0.0000</td><td>&quot;2004-04-12&quot;</td><td>&quot;2007-07-15&quot;</td><td>0.0000</td><td>0.0000</td><td>0.0000</td><td>0.0000</td><td>0.0000</td><td>0.0000</td><td>0.0000</td><td>0.0000</td><td>&quot;2004-10-01&quot;</td><td>&quot;2007-04-30&quot;</td><td>0.0000</td><td>0.0000</td><td>1.0000</td><td>1.0000</td><td>2015.0000</td><td>2003.0000</td><td>1.0000</td><td>1.0000</td><td>0.0000</td><td>0.0000</td><td>&quot;28bfa260&quot;</td><td>&quot;27b6de28&quot;</td><td>&quot;2018-11-02&quot;</td><td>0.0000</td><td>0.0000</td><td>&quot;0c42a10e&quot;</td><td>&quot;0c42a10e&quot;</td><td>0.0000</td><td>5.0000</td><td>0.0000</td><td>0.0000</td><td>0.0000</td><td>0.0000</td></tr><tr><td>&quot;25%&quot;</td><td>662301.0000</td><td>9.1300</td><td>0.5500</td><td>null</td><td>null</td><td>null</td><td>null</td><td>null</td><td>0.0000</td><td>0.0000</td><td>null</td><td>null</td><td>null</td><td>null</td><td>null</td><td>12336.4000</td><td>0.0000</td><td>null</td><td>0.0000</td><td>0.0000</td><td>3.0000</td><td>3.0000</td><td>2017.0000</td><td>2012.0000</td><td>null</td><td>null</td><td>0.0000</td><td>0.0000</td><td>18.0000</td><td>null</td><td>null</td><td>1165.2001</td><td>0.0000</td><td>18.1000</td><td>18.2000</td><td>3.0000</td><td>&hellip;</td><td>0.0000</td><td>0.0000</td><td>null</td><td>null</td><td>0.0000</td><td>0.0000</td><td>0.0000</td><td>13903.7370</td><td>0.0000</td><td>0.0000</td><td>0.0000</td><td>0.0000</td><td>null</td><td>null</td><td>0.0000</td><td>0.0000</td><td>4.0000</td><td>3.0000</td><td>2017.0000</td><td>2011.0000</td><td>30.0000</td><td>30.0000</td><td>0.0000</td><td>0.0000</td><td>null</td><td>null</td><td>null</td><td>0.0000</td><td>0.0000</td><td>null</td><td>null</td><td>12639.6010</td><td>28213.2010</td><td>0.0000</td><td>0.0000</td><td>14662.6440</td><td>0.0000</td></tr><tr><td>&quot;50%&quot;</td><td>1290768.0000</td><td>35.7000</td><td>22.8500</td><td>null</td><td>null</td><td>null</td><td>null</td><td>null</td><td>12789.8000</td><td>20000.0000</td><td>null</td><td>null</td><td>null</td><td>null</td><td>null</td><td>54350.1050</td><td>0.0000</td><td>null</td><td>0.0000</td><td>0.0000</td><td>7.0000</td><td>6.0000</td><td>2018.0000</td><td>2015.0000</td><td>null</td><td>null</td><td>1131.0000</td><td>0.0000</td><td>20.0000</td><td>null</td><td>null</td><td>3167.2000</td><td>0.0000</td><td>40.0000</td><td>43.3000</td><td>6.0000</td><td>&hellip;</td><td>0.0000</td><td>0.0000</td><td>null</td><td>null</td><td>0.0000</td><td>0.0000</td><td>0.0000</td><td>37362.9260</td><td>0.0000</td><td>0.0000</td><td>0.0000</td><td>0.0000</td><td>null</td><td>null</td><td>0.0000</td><td>0.0000</td><td>7.0000</td><td>6.0000</td><td>2018.0000</td><td>2015.0000</td><td>30.0000</td><td>30.0000</td><td>0.0000</td><td>0.0000</td><td>null</td><td>null</td><td>null</td><td>0.0000</td><td>5040.0000</td><td>null</td><td>null</td><td>27547.2010</td><td>61076.0000</td><td>0.0000</td><td>0.0000</td><td>57494.3240</td><td>0.0000</td></tr><tr><td>&quot;75%&quot;</td><td>1382857.0000</td><td>96.3000</td><td>35.8800</td><td>null</td><td>null</td><td>null</td><td>null</td><td>null</td><td>40000.0000</td><td>53865.8000</td><td>null</td><td>null</td><td>null</td><td>null</td><td>null</td><td>159303.1200</td><td>0.0000</td><td>null</td><td>0.0000</td><td>1.0000</td><td>9.0000</td><td>9.0000</td><td>2019.0000</td><td>2017.0000</td><td>null</td><td>null</td><td>4591.6000</td><td>353.3760</td><td>24.0000</td><td>null</td><td>null</td><td>6297.2000</td><td>3292.8000</td><td>43.3000</td><td>45.0000</td><td>9.0000</td><td>&hellip;</td><td>1.0000</td><td>1.0000</td><td>null</td><td>null</td><td>0.0000</td><td>0.0000</td><td>0.0000</td><td>108527.7500</td><td>0.0000</td><td>0.0000</td><td>5.8000</td><td>695.4000</td><td>null</td><td>null</td><td>0.0000</td><td>464.4000</td><td>10.0000</td><td>9.0000</td><td>2019.0000</td><td>2017.0000</td><td>30.0000</td><td>30.0000</td><td>0.0000</td><td>1.0000</td><td>null</td><td>null</td><td>null</td><td>0.0000</td><td>28316.0000</td><td>null</td><td>null</td><td>60000.0000</td><td>154000.0000</td><td>0.0000</td><td>0.0000</td><td>161289.5000</td><td>0.0000</td></tr><tr><td>&quot;max&quot;</td><td>2588481.0000</td><td>73000.0000</td><td>73000.0000</td><td>&quot;ea6782cc&quot;</td><td>&quot;ffee884a&quot;</td><td>&quot;fd624e63&quot;</td><td>&quot;fec76166&quot;</td><td>null</td><td>100000000.0000</td><td>1848000100.0000</td><td>&quot;2098-01-15&quot;</td><td>&quot;2098-01-15&quot;</td><td>&quot;2019-07-05&quot;</td><td>&quot;2019-07-06&quot;</td><td>&quot;2032-03-23&quot;</td><td>1688617600.0000</td><td>49005736.0000</td><td>&quot;f8e51f8d&quot;</td><td>4877.0000</td><td>117000.0000</td><td>12.0000</td><td>12.0000</td><td>2019.0000</td><td>2019.0000</td><td>&quot;ffc154eb&quot;</td><td>&quot;fd828f59&quot;</td><td>376510.5000</td><td>139346.9800</td><td>32917.0000</td><td>&quot;2019-07-08&quot;</td><td>&quot;2019-07-08&quot;</td><td>20000000.0000</td><td>59077588.0000</td><td>30341.1000</td><td>30341.1000</td><td>280.0000</td><td>&hellip;</td><td>61133.0000</td><td>260000.0000</td><td>&quot;2019-07-03&quot;</td><td>&quot;2019-07-08&quot;</td><td>5419.0000</td><td>868.0000</td><td>351940.3000</td><td>1688617600.0000</td><td>421656.6000</td><td>49005736.0000</td><td>49261336.0000</td><td>60940892.0000</td><td>&quot;2019-07-03&quot;</td><td>&quot;2019-07-08&quot;</td><td>49261336.0000</td><td>38038588.0000</td><td>12.0000</td><td>12.0000</td><td>2019.0000</td><td>2019.0000</td><td>360.0000</td><td>360.0000</td><td>96.0000</td><td>63.0000</td><td>&quot;e8f3b178&quot;</td><td>&quot;ee7d1eb8&quot;</td><td>&quot;2019-07-08&quot;</td><td>53555.5400</td><td>40000000.0000</td><td>&quot;daf49a8a&quot;</td><td>&quot;daf49a8a&quot;</td><td>159574000.0000</td><td>1391240100.0000</td><td>49005736.0000</td><td>433225.0000</td><td>1688617600.0000</td><td>16952312.0000</td></tr></tbody></table></div>"
      ],
      "text/plain": [
       "shape: (9, 80)\n",
       "┌────────────┬──────────────┬──────────────┬──────────────┬───┬──────────────┬─────────────┬─────────────┬─────────────┐\n",
       "│ statistic  ┆ case_id      ┆ annualeffect ┆ annualeffect ┆ … ┆ totaldebtove ┆ totaldebtov ┆ totaloutsta ┆ totaloutsta │\n",
       "│ ---        ┆ ---          ┆ iverate_199L ┆ iverate_63L  ┆   ┆ rduevalue_17 ┆ erduevalue_ ┆ nddebtvalue ┆ nddebtvalue │\n",
       "│ str        ┆ f64          ┆ ---          ┆ ---          ┆   ┆ 8A           ┆ 718A        ┆ _39A        ┆ _668A       │\n",
       "│            ┆              ┆ f64          ┆ f64          ┆   ┆ ---          ┆ ---         ┆ ---         ┆ ---         │\n",
       "│            ┆              ┆              ┆              ┆   ┆ f64          ┆ f64         ┆ f64         ┆ f64         │\n",
       "╞════════════╪══════════════╪══════════════╪══════════════╪═══╪══════════════╪═════════════╪═════════════╪═════════════╡\n",
       "│ count      ┆ 4108212.0000 ┆ 36981.0000   ┆ 72337.0000   ┆ … ┆ 337574.0000  ┆ 298602.0000 ┆ 337574.0000 ┆ 298602.0000 │\n",
       "│ null_count ┆ 0.0000       ┆ 4071231.0000 ┆ 4035875.0000 ┆ … ┆ 3770638.0000 ┆ 3809610.000 ┆ 3770638.000 ┆ 3809610.000 │\n",
       "│            ┆              ┆              ┆              ┆   ┆              ┆ 0           ┆ 0           ┆ 0           │\n",
       "│ mean       ┆ 1170392.4104 ┆ 612.0496     ┆ 84.0508      ┆ … ┆ 1807.5123    ┆ 104.7931    ┆ 196536.9690 ┆ 107.9046    │\n",
       "│ std        ┆ 715611.9713  ┆ 5408.4986    ┆ 1860.2024    ┆ … ┆ 108044.7330  ┆ 5031.5470   ┆ 3379200.543 ┆ 32373.8368  │\n",
       "│            ┆              ┆              ┆              ┆   ┆              ┆             ┆ 3           ┆             │\n",
       "│ min        ┆ 388.0000     ┆ 0.0000       ┆ 0.0000       ┆ … ┆ 0.0000       ┆ 0.0000      ┆ 0.0000      ┆ 0.0000      │\n",
       "│ 25%        ┆ 662301.0000  ┆ 9.1300       ┆ 0.5500       ┆ … ┆ 0.0000       ┆ 0.0000      ┆ 14662.6440  ┆ 0.0000      │\n",
       "│ 50%        ┆ 1290768.0000 ┆ 35.7000      ┆ 22.8500      ┆ … ┆ 0.0000       ┆ 0.0000      ┆ 57494.3240  ┆ 0.0000      │\n",
       "│ 75%        ┆ 1382857.0000 ┆ 96.3000      ┆ 35.8800      ┆ … ┆ 0.0000       ┆ 0.0000      ┆ 161289.5000 ┆ 0.0000      │\n",
       "│ max        ┆ 2588481.0000 ┆ 73000.0000   ┆ 73000.0000   ┆ … ┆ 49005736.000 ┆ 433225.0000 ┆ 1688617600. ┆ 16952312.00 │\n",
       "│            ┆              ┆              ┆              ┆   ┆ 0            ┆             ┆ 0000        ┆ 00          │\n",
       "└────────────┴──────────────┴──────────────┴──────────────┴───┴──────────────┴─────────────┴─────────────┴─────────────┘"
      ]
     },
     "metadata": {},
     "output_type": "display_data"
    },
    {
     "name": "stdout",
     "output_type": "stream",
     "text": [
      "annualeffectiverate_199L: Interest rate of the closed contracts.\n",
      "annualeffectiverate_63L: Interest rate for the active contracts.\n",
      "classificationofcontr_13M: Classificiation of the active contract.\n",
      "classificationofcontr_400M: Classificiation of the closed contract.\n",
      "contractst_545M: Contract status.\n",
      "contractst_964M: Contract status of terminated credit contract.\n",
      "contractsum_5085717L: Sum of other contract values.\n",
      "credlmt_230A: Credit limit of the closed credit contracts from credit bureau.\n",
      "credlmt_935A: Credit limit for active loan.\n",
      "dateofcredend_289D: End date of an active credit contract.\n",
      "dateofcredend_353D: End date of a closed credit contract.\n",
      "dateofcredstart_181D: Date when the credit contract was closed.\n",
      "dateofcredstart_739D: Start date of a closed credit contract.\n",
      "dateofrealrepmt_138D: Date of credit's closure (contract termination date).\n",
      "debtoutstand_525A: Outstanding amount of existing contract.\n",
      "debtoverdue_47A: Amount that is currently past due on a client's existing credit contract.\n",
      "description_351M: Categorization of clients by credit bureau.\n",
      "dpdmax_139P: Maximal days past due for active contract.\n",
      "dpdmax_757P: Maximum days past due for a closed contract.\n",
      "dpdmaxdatemonth_442T: Max DPD occurrence month for terminated contracts from credit bureau data.\n",
      "dpdmaxdatemonth_89T: Month when maximum days past due occurred on the active contract with the credit bureau.\n",
      "dpdmaxdateyear_596T: Year when maximum Days Past Due (DPD) occurred for the active contract.\n",
      "dpdmaxdateyear_896T: Year of maximum Days Past Due of closed contract obtained from Credit Bureau.\n",
      "financialinstitution_382M: Name of financial institution that is linked to a closed contract.\n",
      "financialinstitution_591M: Financial institution name of the active contract.\n",
      "instlamount_768A: Instalment amount for the active contract in credit bureau.\n",
      "instlamount_852A: Instalment amount for closed contract.\n",
      "interestrate_508L: Interest rate for a closed contract in the credit bureau.\n",
      "lastupdate_1112D: Date of last update for an active contract from credit bureau.\n",
      "lastupdate_388D: Date of last update for a closed contract in the credit bureau.\n",
      "monthlyinstlamount_332A: Monthly instalment amount for active contract.\n",
      "monthlyinstlamount_674A: Monthly amount of instalment payment on a closed contract.\n",
      "nominalrate_281L: Interest rate of the active contract.\n",
      "nominalrate_498L: Interest rate for closed contract.\n",
      "numberofcontrsvalue_258L: Number of active contracts in credit bureau.\n",
      "numberofcontrsvalue_358L: Number of closed credit contracts.\n",
      "numberofinstls_229L: Number of instalments on closed contract.\n",
      "numberofinstls_320L: Number of instalments of the active contract.\n",
      "numberofoutstandinstls_520L: Number of outstanding instalment for closed contract.\n",
      "numberofoutstandinstls_59L: Number of outstanding instalments for the active contracts.\n",
      "numberofoverdueinstlmax_1039L: Number of outstanding instalments for active contracts.\n",
      "numberofoverdueinstlmax_1151L: Maximum number of past due installments for a closed contract.\n",
      "numberofoverdueinstlmaxdat_148D: Date of maximum number of past due instalments for the closed contract.\n",
      "numberofoverdueinstlmaxdat_641D: Date of maximum number of past due instalments for the active contract.\n",
      "numberofoverdueinstls_725L: Maximum number of past due instalments for an active contract.\n",
      "numberofoverdueinstls_834L: Number of past due instalments for a closed contract.\n",
      "outstandingamount_354A: Outstanding amount for closed credit contract in credit bureau.\n",
      "outstandingamount_362A: Active contract's outstanding amount.\n",
      "overdueamount_31A: Past due amount for a closed contract.\n",
      "overdueamount_659A: Past due amount for active contract.\n",
      "overdueamountmax2_14A: Maximal past due amount for an active contract.\n",
      "overdueamountmax2_398A: Maximal overdue amount for a closed contract.\n",
      "overdueamountmax2date_1002D: Date of maximal past due amount for a closed contract\n",
      "overdueamountmax2date_1142D: Date of maximal past due amount for an active contract.\n",
      "overdueamountmax_155A: Maximal past due amount for active contract.\n",
      "overdueamountmax_35A: Maximal past due amount for a closed contract.\n",
      "overdueamountmaxdatemonth_284T: Month when the maximum past due amount occurred for a closed contract.\n",
      "overdueamountmaxdatemonth_365T: Month when maximum past due amount occurred for an active contract.\n",
      "overdueamountmaxdateyear_2T: Year when the maximum past due amount occurred for active contracts.\n",
      "overdueamountmaxdateyear_994T: Year when maximum past due amount occurred for closed contract.\n",
      "periodicityofpmts_1102L: Frequency of instalments for a closed contract.\n",
      "periodicityofpmts_837L: Frequency of instalments for an active contract.\n",
      "prolongationcount_1120L: Count of prolongations on terminated contract according to credit bureau.\n",
      "prolongationcount_599L: Count of active contract prolongations.\n",
      "purposeofcred_426M: Purpose of credit for active contract.\n",
      "purposeofcred_874M: Purpose of credit on a closed contract.\n",
      "refreshdate_3813885D: Date when the credit bureau's public sources have been last updated.\n",
      "residualamount_488A: Residual amount of a closed contract.\n",
      "residualamount_856A: Residual amount for the active contract.\n",
      "subjectrole_182M: Subject role in active credit contract.\n",
      "subjectrole_93M: Subject role in closed credit contract.\n",
      "totalamount_6A: Total amount of closed contracts.\n",
      "totalamount_996A: Total amount of active contracts in the credit bureau.\n",
      "totaldebtoverduevalue_178A: Total amount of past due debt on active contracts.\n",
      "totaldebtoverduevalue_718A: Total overdue debt amount for closed credit contracts.\n",
      "totaloutstanddebtvalue_39A: Total outstanding debt for active contracts in the credit bureau.\n",
      "totaloutstanddebtvalue_668A: Total outstanding debt for the closed contracts in the credit bureau.\n"
     ]
    }
   ],
   "source": [
    "train_credit_bureau_a_1_0 = print_sample_info(\n",
    "    TRAIN_DIR, \"train_credit_bureau_a_1_0.parquet\", feature_definitions)"
   ]
  },
  {
   "cell_type": "code",
   "execution_count": 27,
   "id": "63d1cdc3",
   "metadata": {
    "scrolled": true
   },
   "outputs": [
    {
     "data": {
      "text/html": [
       "<div><style>\n",
       ".dataframe > thead > tr,\n",
       ".dataframe > tbody > tr {\n",
       "  text-align: right;\n",
       "  white-space: pre-wrap;\n",
       "}\n",
       "</style>\n",
       "<small>shape: (5, 45)</small><table border=\"1\" class=\"dataframe\"><thead><tr><th>case_id</th><th>amount_1115A</th><th>classificationofcontr_1114M</th><th>contractdate_551D</th><th>contractmaturitydate_151D</th><th>contractst_516M</th><th>contracttype_653M</th><th>credlmt_1052A</th><th>credlmt_228A</th><th>credlmt_3940954A</th><th>credor_3940957M</th><th>credquantity_1099L</th><th>credquantity_984L</th><th>debtpastduevalue_732A</th><th>debtvalue_227A</th><th>dpd_550P</th><th>dpd_733P</th><th>dpdmax_851P</th><th>dpdmaxdatemonth_804T</th><th>dpdmaxdateyear_742T</th><th>installmentamount_644A</th><th>installmentamount_833A</th><th>instlamount_892A</th><th>interesteffectiverate_369L</th><th>interestrateyearly_538L</th><th>lastupdate_260D</th><th>maxdebtpduevalodued_3940955A</th><th>num_group1</th><th>numberofinstls_810L</th><th>overdueamountmax_950A</th><th>overdueamountmaxdatemonth_494T</th><th>overdueamountmaxdateyear_432T</th><th>periodicityofpmts_997L</th><th>periodicityofpmts_997M</th><th>pmtdaysoverdue_1135P</th><th>pmtmethod_731M</th><th>pmtnumpending_403L</th><th>purposeofcred_722M</th><th>residualamount_1093A</th><th>residualamount_127A</th><th>residualamount_3940956A</th><th>subjectrole_326M</th><th>subjectrole_43M</th><th>totalamount_503A</th><th>totalamount_881A</th></tr><tr><td>i64</td><td>f64</td><td>str</td><td>str</td><td>str</td><td>str</td><td>str</td><td>f64</td><td>f64</td><td>f64</td><td>str</td><td>f64</td><td>f64</td><td>f64</td><td>f64</td><td>f64</td><td>f64</td><td>f64</td><td>f64</td><td>f64</td><td>f64</td><td>f64</td><td>f64</td><td>f64</td><td>f64</td><td>str</td><td>f64</td><td>i64</td><td>f64</td><td>f64</td><td>f64</td><td>f64</td><td>str</td><td>str</td><td>f64</td><td>str</td><td>f64</td><td>str</td><td>f64</td><td>f64</td><td>f64</td><td>str</td><td>str</td><td>f64</td><td>f64</td></tr></thead><tbody><tr><td>467</td><td>78000.0000</td><td>&quot;ea6782cc&quot;</td><td>&quot;2016-10-25&quot;</td><td>&quot;2019-10-25&quot;</td><td>&quot;7241344e&quot;</td><td>&quot;4257cbed&quot;</td><td>null</td><td>null</td><td>null</td><td>&quot;c5a72b57&quot;</td><td>null</td><td>null</td><td>0.0000</td><td>26571.9690</td><td>null</td><td>null</td><td>0.0000</td><td>11.0000</td><td>2016.0000</td><td>null</td><td>null</td><td>2898.7600</td><td>null</td><td>null</td><td>&quot;2019-01-10&quot;</td><td>0.0000</td><td>2</td><td>36.0000</td><td>0.0000</td><td>11.0000</td><td>2016.0000</td><td>null</td><td>&quot;a0b598e4&quot;</td><td>0.0000</td><td>&quot;e914c86c&quot;</td><td>10.0000</td><td>&quot;96a8fdfe&quot;</td><td>null</td><td>null</td><td>null</td><td>&quot;a55475b1&quot;</td><td>&quot;a55475b1&quot;</td><td>null</td><td>null</td></tr><tr><td>467</td><td>null</td><td>&quot;ea6782cc&quot;</td><td>&quot;2011-06-15&quot;</td><td>&quot;2031-06-13&quot;</td><td>&quot;7241344e&quot;</td><td>&quot;724be82a&quot;</td><td>3000000.0000</td><td>10000.0000</td><td>3000000.0000</td><td>&quot;P164_34_168&quot;</td><td>2.0000</td><td>1.0000</td><td>null</td><td>null</td><td>0.0000</td><td>0.0000</td><td>null</td><td>null</td><td>null</td><td>0.0000</td><td>0.0000</td><td>null</td><td>null</td><td>null</td><td>&quot;2019-01-20&quot;</td><td>null</td><td>0</td><td>null</td><td>null</td><td>null</td><td>null</td><td>null</td><td>&quot;a55475b1&quot;</td><td>null</td><td>&quot;a55475b1&quot;</td><td>null</td><td>&quot;96a8fdfe&quot;</td><td>0.0000</td><td>0.0000</td><td>null</td><td>&quot;fa4f56f1&quot;</td><td>&quot;ab3c25cf&quot;</td><td>3000000.0000</td><td>10000.0000</td></tr><tr><td>467</td><td>null</td><td>&quot;ea6782cc&quot;</td><td>&quot;2019-01-04&quot;</td><td>&quot;2021-08-04&quot;</td><td>&quot;7241344e&quot;</td><td>&quot;724be82a&quot;</td><td>null</td><td>null</td><td>130365.0000</td><td>&quot;P164_34_168&quot;</td><td>1.0000</td><td>2.0000</td><td>null</td><td>null</td><td>0.0000</td><td>0.0000</td><td>null</td><td>null</td><td>null</td><td>0.0000</td><td>26571.9690</td><td>null</td><td>null</td><td>null</td><td>&quot;2019-01-20&quot;</td><td>null</td><td>1</td><td>null</td><td>null</td><td>null</td><td>null</td><td>null</td><td>&quot;a55475b1&quot;</td><td>null</td><td>&quot;a55475b1&quot;</td><td>null</td><td>&quot;96a8fdfe&quot;</td><td>null</td><td>null</td><td>null</td><td>&quot;ab3c25cf&quot;</td><td>&quot;ab3c25cf&quot;</td><td>78000.0000</td><td>960000.0000</td></tr><tr><td>1445</td><td>12000.0000</td><td>&quot;ea6782cc&quot;</td><td>&quot;2018-12-31&quot;</td><td>&quot;2019-01-29&quot;</td><td>&quot;7241344e&quot;</td><td>&quot;4257cbed&quot;</td><td>null</td><td>null</td><td>null</td><td>&quot;0aebc0bb&quot;</td><td>null</td><td>null</td><td>0.0000</td><td>19066.6400</td><td>null</td><td>null</td><td>0.0000</td><td>1.0000</td><td>2019.0000</td><td>null</td><td>null</td><td>19571.4120</td><td>null</td><td>null</td><td>&quot;2019-01-27&quot;</td><td>0.0000</td><td>2</td><td>1.0000</td><td>0.0000</td><td>1.0000</td><td>2019.0000</td><td>null</td><td>&quot;d479a207&quot;</td><td>0.0000</td><td>&quot;dbcbe8f8&quot;</td><td>1.0000</td><td>&quot;96a8fdfe&quot;</td><td>null</td><td>null</td><td>null</td><td>&quot;a55475b1&quot;</td><td>&quot;a55475b1&quot;</td><td>null</td><td>null</td></tr><tr><td>1445</td><td>31400.0000</td><td>&quot;01f63ac8&quot;</td><td>&quot;2018-07-25&quot;</td><td>&quot;2019-12-25&quot;</td><td>&quot;7241344e&quot;</td><td>&quot;4257cbed&quot;</td><td>null</td><td>null</td><td>null</td><td>&quot;50babcd4&quot;</td><td>null</td><td>null</td><td>0.0000</td><td>23390.1600</td><td>null</td><td>null</td><td>0.0000</td><td>8.0000</td><td>2018.0000</td><td>null</td><td>null</td><td>2124.1420</td><td>null</td><td>null</td><td>&quot;2019-01-28&quot;</td><td>0.0000</td><td>3</td><td>17.0000</td><td>0.0000</td><td>8.0000</td><td>2018.0000</td><td>null</td><td>&quot;a0b598e4&quot;</td><td>0.0000</td><td>&quot;dbcbe8f8&quot;</td><td>12.0000</td><td>&quot;60c73645&quot;</td><td>null</td><td>null</td><td>null</td><td>&quot;a55475b1&quot;</td><td>&quot;a55475b1&quot;</td><td>null</td><td>null</td></tr></tbody></table></div>"
      ],
      "text/plain": [
       "shape: (5, 45)\n",
       "┌─────────┬──────────────┬──────────────┬──────────────┬───┬──────────────┬──────────────┬──────────────┬──────────────┐\n",
       "│ case_id ┆ amount_1115A ┆ classificati ┆ contractdate ┆ … ┆ subjectrole_ ┆ subjectrole_ ┆ totalamount_ ┆ totalamount_ │\n",
       "│ ---     ┆ ---          ┆ onofcontr_11 ┆ _551D        ┆   ┆ 326M         ┆ 43M          ┆ 503A         ┆ 881A         │\n",
       "│ i64     ┆ f64          ┆ 14M          ┆ ---          ┆   ┆ ---          ┆ ---          ┆ ---          ┆ ---          │\n",
       "│         ┆              ┆ ---          ┆ str          ┆   ┆ str          ┆ str          ┆ f64          ┆ f64          │\n",
       "│         ┆              ┆ str          ┆              ┆   ┆              ┆              ┆              ┆              │\n",
       "╞═════════╪══════════════╪══════════════╪══════════════╪═══╪══════════════╪══════════════╪══════════════╪══════════════╡\n",
       "│ 467     ┆ 78000.0000   ┆ ea6782cc     ┆ 2016-10-25   ┆ … ┆ a55475b1     ┆ a55475b1     ┆ null         ┆ null         │\n",
       "│ 467     ┆ null         ┆ ea6782cc     ┆ 2011-06-15   ┆ … ┆ fa4f56f1     ┆ ab3c25cf     ┆ 3000000.0000 ┆ 10000.0000   │\n",
       "│ 467     ┆ null         ┆ ea6782cc     ┆ 2019-01-04   ┆ … ┆ ab3c25cf     ┆ ab3c25cf     ┆ 78000.0000   ┆ 960000.0000  │\n",
       "│ 1445    ┆ 12000.0000   ┆ ea6782cc     ┆ 2018-12-31   ┆ … ┆ a55475b1     ┆ a55475b1     ┆ null         ┆ null         │\n",
       "│ 1445    ┆ 31400.0000   ┆ 01f63ac8     ┆ 2018-07-25   ┆ … ┆ a55475b1     ┆ a55475b1     ┆ null         ┆ null         │\n",
       "└─────────┴──────────────┴──────────────┴──────────────┴───┴──────────────┴──────────────┴──────────────┴──────────────┘"
      ]
     },
     "metadata": {},
     "output_type": "display_data"
    },
    {
     "data": {
      "text/html": [
       "<div><style>\n",
       ".dataframe > thead > tr,\n",
       ".dataframe > tbody > tr {\n",
       "  text-align: right;\n",
       "  white-space: pre-wrap;\n",
       "}\n",
       "</style>\n",
       "<small>shape: (9, 46)</small><table border=\"1\" class=\"dataframe\"><thead><tr><th>statistic</th><th>case_id</th><th>amount_1115A</th><th>classificationofcontr_1114M</th><th>contractdate_551D</th><th>contractmaturitydate_151D</th><th>contractst_516M</th><th>contracttype_653M</th><th>credlmt_1052A</th><th>credlmt_228A</th><th>credlmt_3940954A</th><th>credor_3940957M</th><th>credquantity_1099L</th><th>credquantity_984L</th><th>debtpastduevalue_732A</th><th>debtvalue_227A</th><th>dpd_550P</th><th>dpd_733P</th><th>dpdmax_851P</th><th>dpdmaxdatemonth_804T</th><th>dpdmaxdateyear_742T</th><th>installmentamount_644A</th><th>installmentamount_833A</th><th>instlamount_892A</th><th>interesteffectiverate_369L</th><th>interestrateyearly_538L</th><th>lastupdate_260D</th><th>maxdebtpduevalodued_3940955A</th><th>num_group1</th><th>numberofinstls_810L</th><th>overdueamountmax_950A</th><th>overdueamountmaxdatemonth_494T</th><th>overdueamountmaxdateyear_432T</th><th>periodicityofpmts_997L</th><th>periodicityofpmts_997M</th><th>pmtdaysoverdue_1135P</th><th>pmtmethod_731M</th><th>pmtnumpending_403L</th><th>purposeofcred_722M</th><th>residualamount_1093A</th><th>residualamount_127A</th><th>residualamount_3940956A</th><th>subjectrole_326M</th><th>subjectrole_43M</th><th>totalamount_503A</th><th>totalamount_881A</th></tr><tr><td>str</td><td>f64</td><td>f64</td><td>str</td><td>str</td><td>str</td><td>str</td><td>str</td><td>f64</td><td>f64</td><td>f64</td><td>str</td><td>f64</td><td>f64</td><td>f64</td><td>f64</td><td>f64</td><td>f64</td><td>f64</td><td>f64</td><td>f64</td><td>f64</td><td>f64</td><td>f64</td><td>f64</td><td>f64</td><td>str</td><td>f64</td><td>f64</td><td>f64</td><td>f64</td><td>f64</td><td>f64</td><td>str</td><td>str</td><td>f64</td><td>str</td><td>f64</td><td>str</td><td>f64</td><td>f64</td><td>f64</td><td>str</td><td>str</td><td>f64</td><td>f64</td></tr></thead><tbody><tr><td>&quot;count&quot;</td><td>85791.0000</td><td>43681.0000</td><td>&quot;85791&quot;</td><td>&quot;81899&quot;</td><td>&quot;81712&quot;</td><td>&quot;85791&quot;</td><td>&quot;85791&quot;</td><td>27581.0000</td><td>16130.0000</td><td>38218.0000</td><td>&quot;85791&quot;</td><td>53018.0000</td><td>46228.0000</td><td>81217.0000</td><td>43681.0000</td><td>53018.0000</td><td>46228.0000</td><td>81224.0000</td><td>81224.0000</td><td>81224.0000</td><td>46228.0000</td><td>53018.0000</td><td>43493.0000</td><td>9506.0000</td><td>28825.0000</td><td>&quot;81899&quot;</td><td>81224.0000</td><td>85791.0000</td><td>43493.0000</td><td>81224.0000</td><td>81224.0000</td><td>81224.0000</td><td>&quot;2027&quot;</td><td>&quot;82519&quot;</td><td>81217.0000</td><td>&quot;85791&quot;</td><td>43680.0000</td><td>&quot;85791&quot;</td><td>16125.0000</td><td>27581.0000</td><td>37519.0000</td><td>&quot;85791&quot;</td><td>&quot;85791&quot;</td><td>53018.0000</td><td>46228.0000</td></tr><tr><td>&quot;null_count&quot;</td><td>0.0000</td><td>42110.0000</td><td>&quot;0&quot;</td><td>&quot;3892&quot;</td><td>&quot;4079&quot;</td><td>&quot;0&quot;</td><td>&quot;0&quot;</td><td>58210.0000</td><td>69661.0000</td><td>47573.0000</td><td>&quot;0&quot;</td><td>32773.0000</td><td>39563.0000</td><td>4574.0000</td><td>42110.0000</td><td>32773.0000</td><td>39563.0000</td><td>4567.0000</td><td>4567.0000</td><td>4567.0000</td><td>39563.0000</td><td>32773.0000</td><td>42298.0000</td><td>76285.0000</td><td>56966.0000</td><td>&quot;3892&quot;</td><td>4567.0000</td><td>0.0000</td><td>42298.0000</td><td>4567.0000</td><td>4567.0000</td><td>4567.0000</td><td>&quot;83764&quot;</td><td>&quot;3272&quot;</td><td>4574.0000</td><td>&quot;0&quot;</td><td>42111.0000</td><td>&quot;0&quot;</td><td>69666.0000</td><td>58210.0000</td><td>48272.0000</td><td>&quot;0&quot;</td><td>&quot;0&quot;</td><td>32773.0000</td><td>39563.0000</td></tr><tr><td>&quot;mean&quot;</td><td>1218998.1157</td><td>214110.4892</td><td>null</td><td>null</td><td>null</td><td>null</td><td>null</td><td>178935.6498</td><td>52317.5229</td><td>130360.3435</td><td>null</td><td>1.5447</td><td>4.5652</td><td>3791.8784</td><td>165118.3306</td><td>25696.7525</td><td>372.2601</td><td>35378.9608</td><td>6.6103</td><td>2018.2262</td><td>347.6580</td><td>156888.8613</td><td>9814.8327</td><td>504.6124</td><td>52.4933</td><td>null</td><td>15.0741</td><td>1.0117</td><td>30.4963</td><td>18.2516</td><td>6.6307</td><td>2018.2908</td><td>null</td><td>null</td><td>71.4786</td><td>null</td><td>20.2647</td><td>null</td><td>0.0200</td><td>57942.2991</td><td>43011.0673</td><td>null</td><td>null</td><td>257008.9193</td><td>293763.1638</td></tr><tr><td>&quot;std&quot;</td><td>686332.0161</td><td>691019.6024</td><td>null</td><td>null</td><td>null</td><td>null</td><td>null</td><td>5274021.5533</td><td>128082.4582</td><td>2570305.4879</td><td>null</td><td>0.8642</td><td>5.1704</td><td>158238.0605</td><td>550497.1326</td><td>968643.4449</td><td>71871.3675</td><td>877296.7937</td><td>3.4856</td><td>1.7835</td><td>54110.2623</td><td>626662.6669</td><td>211973.8004</td><td>5337.9281</td><td>636.0472</td><td>null</td><td>1036.1068</td><td>1.2343</td><td>36.0601</td><td>1036.7725</td><td>3.4948</td><td>1.7414</td><td>null</td><td>null</td><td>4664.5111</td><td>null</td><td>29.0174</td><td>null</td><td>2.5357</td><td>110621.4657</td><td>93146.1953</td><td>null</td><td>null</td><td>3876513.3248</td><td>1202831.3119</td></tr><tr><td>&quot;min&quot;</td><td>467.0000</td><td>0.2000</td><td>&quot;00135d9c&quot;</td><td>&quot;2000-01-15&quot;</td><td>&quot;2003-04-11&quot;</td><td>&quot;04bf6e27&quot;</td><td>&quot;07162370&quot;</td><td>0.0000</td><td>0.0000</td><td>0.0000</td><td>&quot;00a59564&quot;</td><td>1.0000</td><td>1.0000</td><td>0.0000</td><td>0.0000</td><td>0.0000</td><td>0.0000</td><td>0.0000</td><td>1.0000</td><td>1900.0000</td><td>0.0000</td><td>0.0000</td><td>0.0000</td><td>-1.1000</td><td>0.0000</td><td>&quot;2015-03-30&quot;</td><td>0.0000</td><td>0.0000</td><td>0.0000</td><td>0.0000</td><td>1.0000</td><td>1900.0000</td><td>&quot;В день истечен…</td><td>&quot;0a59e5b4&quot;</td><td>0.0000</td><td>&quot;10984579&quot;</td><td>0.0000</td><td>&quot;164ee705&quot;</td><td>0.0000</td><td>0.0000</td><td>0.0000</td><td>&quot;15f04f45&quot;</td><td>&quot;15f04f45&quot;</td><td>0.0000</td><td>0.0000</td></tr><tr><td>&quot;25%&quot;</td><td>727216.0000</td><td>25998.0000</td><td>null</td><td>null</td><td>null</td><td>null</td><td>null</td><td>0.0000</td><td>0.0000</td><td>0.0000</td><td>null</td><td>1.0000</td><td>1.0000</td><td>0.0000</td><td>12946.0000</td><td>0.0000</td><td>0.0000</td><td>0.0000</td><td>4.0000</td><td>2018.0000</td><td>0.0000</td><td>6115.6000</td><td>2372.6000</td><td>5.3500</td><td>7.0000</td><td>null</td><td>0.0000</td><td>0.0000</td><td>12.0000</td><td>0.0000</td><td>4.0000</td><td>2018.0000</td><td>null</td><td>null</td><td>0.0000</td><td>null</td><td>5.0000</td><td>null</td><td>0.0000</td><td>0.0000</td><td>0.0000</td><td>null</td><td>null</td><td>20000.0000</td><td>25726.0000</td></tr><tr><td>&quot;50%&quot;</td><td>1413976.0000</td><td>60000.0000</td><td>null</td><td>null</td><td>null</td><td>null</td><td>null</td><td>36184.0000</td><td>22600.0000</td><td>20000.0000</td><td>null</td><td>1.0000</td><td>3.0000</td><td>0.0000</td><td>35893.4140</td><td>0.0000</td><td>0.0000</td><td>0.0000</td><td>7.0000</td><td>2019.0000</td><td>0.0000</td><td>36265.2270</td><td>4228.2000</td><td>23.5500</td><td>39.0000</td><td>null</td><td>0.0000</td><td>1.0000</td><td>22.0000</td><td>0.0000</td><td>7.0000</td><td>2019.0000</td><td>null</td><td>null</td><td>0.0000</td><td>null</td><td>11.0000</td><td>null</td><td>0.0000</td><td>14461.3270</td><td>7483.7860</td><td>null</td><td>null</td><td>68382.0000</td><td>84441.2000</td></tr><tr><td>&quot;75%&quot;</td><td>1778253.0000</td><td>160000.0000</td><td>null</td><td>null</td><td>null</td><td>null</td><td>null</td><td>121778.0000</td><td>60000.0000</td><td>78000.0000</td><td>null</td><td>2.0000</td><td>6.0000</td><td>0.0000</td><td>110801.6250</td><td>0.0000</td><td>0.0000</td><td>7073.0000</td><td>10.0000</td><td>2019.0000</td><td>0.0000</td><td>128582.4000</td><td>7804.8003</td><td>40.5900</td><td>42.0000</td><td>null</td><td>0.2000</td><td>2.0000</td><td>36.0000</td><td>0.4000</td><td>10.0000</td><td>2019.0000</td><td>null</td><td>null</td><td>0.0000</td><td>null</td><td>24.0000</td><td>null</td><td>0.0000</td><td>70925.4000</td><td>41323.7300</td><td>null</td><td>null</td><td>200000.0000</td><td>276099.0000</td></tr><tr><td>&quot;max&quot;</td><td>2703436.0000</td><td>54833332.0000</td><td>&quot;ea6782cc&quot;</td><td>&quot;2020-10-14&quot;</td><td>&quot;2045-08-17&quot;</td><td>&quot;fd624e63&quot;</td><td>&quot;f4e17141&quot;</td><td>796800000.0000</td><td>4420000.0000</td><td>300000000.0000</td><td>&quot;ff11387f&quot;</td><td>16.0000</td><td>146.0000</td><td>41138710.0000</td><td>41619050.0000</td><td>207823776.0000</td><td>15443942.0000</td><td>185124192.0000</td><td>12.0000</td><td>2020.0000</td><td>11418603.0000</td><td>69658536.0000</td><td>41138710.0000</td><td>73000.0000</td><td>46334.1000</td><td>&quot;2020-10-19&quot;</td><td>147470.6100</td><td>20.0000</td><td>358.0000</td><td>147470.6100</td><td>12.0000</td><td>2020.0000</td><td>&quot;Полугодовые пл…</td><td>&quot;f50a4e2c&quot;</td><td>663618.0000</td><td>&quot;f6e26148&quot;</td><td>300.0000</td><td>&quot;e8f3b178&quot;</td><td>322.0000</td><td>2187568.2000</td><td>2022909.2000</td><td>&quot;fa4f56f1&quot;</td><td>&quot;fa4f56f1&quot;</td><td>796800000.0000</td><td>139080000.0000</td></tr></tbody></table></div>"
      ],
      "text/plain": [
       "shape: (9, 46)\n",
       "┌────────────┬──────────────┬──────────────┬──────────────┬───┬──────────────┬─────────────┬─────────────┬─────────────┐\n",
       "│ statistic  ┆ case_id      ┆ amount_1115A ┆ classificati ┆ … ┆ subjectrole_ ┆ subjectrole ┆ totalamount ┆ totalamount │\n",
       "│ ---        ┆ ---          ┆ ---          ┆ onofcontr_11 ┆   ┆ 326M         ┆ _43M        ┆ _503A       ┆ _881A       │\n",
       "│ str        ┆ f64          ┆ f64          ┆ 14M          ┆   ┆ ---          ┆ ---         ┆ ---         ┆ ---         │\n",
       "│            ┆              ┆              ┆ ---          ┆   ┆ str          ┆ str         ┆ f64         ┆ f64         │\n",
       "│            ┆              ┆              ┆ str          ┆   ┆              ┆             ┆             ┆             │\n",
       "╞════════════╪══════════════╪══════════════╪══════════════╪═══╪══════════════╪═════════════╪═════════════╪═════════════╡\n",
       "│ count      ┆ 85791.0000   ┆ 43681.0000   ┆ 85791        ┆ … ┆ 85791        ┆ 85791       ┆ 53018.0000  ┆ 46228.0000  │\n",
       "│ null_count ┆ 0.0000       ┆ 42110.0000   ┆ 0            ┆ … ┆ 0            ┆ 0           ┆ 32773.0000  ┆ 39563.0000  │\n",
       "│ mean       ┆ 1218998.1157 ┆ 214110.4892  ┆ null         ┆ … ┆ null         ┆ null        ┆ 257008.9193 ┆ 293763.1638 │\n",
       "│ std        ┆ 686332.0161  ┆ 691019.6024  ┆ null         ┆ … ┆ null         ┆ null        ┆ 3876513.324 ┆ 1202831.311 │\n",
       "│            ┆              ┆              ┆              ┆   ┆              ┆             ┆ 8           ┆ 9           │\n",
       "│ min        ┆ 467.0000     ┆ 0.2000       ┆ 00135d9c     ┆ … ┆ 15f04f45     ┆ 15f04f45    ┆ 0.0000      ┆ 0.0000      │\n",
       "│ 25%        ┆ 727216.0000  ┆ 25998.0000   ┆ null         ┆ … ┆ null         ┆ null        ┆ 20000.0000  ┆ 25726.0000  │\n",
       "│ 50%        ┆ 1413976.0000 ┆ 60000.0000   ┆ null         ┆ … ┆ null         ┆ null        ┆ 68382.0000  ┆ 84441.2000  │\n",
       "│ 75%        ┆ 1778253.0000 ┆ 160000.0000  ┆ null         ┆ … ┆ null         ┆ null        ┆ 200000.0000 ┆ 276099.0000 │\n",
       "│ max        ┆ 2703436.0000 ┆ 54833332.000 ┆ ea6782cc     ┆ … ┆ fa4f56f1     ┆ fa4f56f1    ┆ 796800000.0 ┆ 139080000.0 │\n",
       "│            ┆              ┆ 0            ┆              ┆   ┆              ┆             ┆ 000         ┆ 000         │\n",
       "└────────────┴──────────────┴──────────────┴──────────────┴───┴──────────────┴─────────────┴─────────────┴─────────────┘"
      ]
     },
     "metadata": {},
     "output_type": "display_data"
    },
    {
     "name": "stdout",
     "output_type": "stream",
     "text": [
      "amount_1115A: Credit amount of the active contract provided by the credit bureau.\n",
      "classificationofcontr_1114M: Classificiation of the active contract.\n",
      "contractdate_551D: Contract date of the active contract\n",
      "contractmaturitydate_151D: End date of active contract.\n",
      "contractst_516M: Contract status.\n",
      "contracttype_653M: Contract Type\n",
      "credlmt_1052A: Credit limit of an active loan.\n",
      "credlmt_228A: Credit limit for closed loans.\n",
      "credlmt_3940954A: Credit limit for active loan.\n",
      "credor_3940957M: Creditor's name\n",
      "credquantity_1099L: Number of credits in credit bureau\n",
      "credquantity_984L: Number of closed credits in credit bureau.\n",
      "debtpastduevalue_732A: Amount of unpaid debt for existing contracts.\n",
      "debtvalue_227A: Outstanding amount for existing debt contracts.\n",
      "dpd_550P: The number of days past due for active loans where a guarantee has been provided.\n",
      "dpd_733P: Days past due (DPD) for guaranteed loans that were terminated according to credit bureau data.\n",
      "dpdmax_851P: Maximal past due days for active contracts in the credit bureau.\n",
      "dpdmaxdatemonth_804T: Month when the maximum Day Past Due (DPD) occurred for active contracts on credit bureau's records.\n",
      "dpdmaxdateyear_742T: Year of the maximum Days Past Due (DPD) on an active credit contract in the credit bureau.\n",
      "installmentamount_644A: Instalment amount of a closed and secured credit contract.\n",
      "installmentamount_833A: Instalment amount for a secured and active contract in credit bureau.\n",
      "instlamount_892A: Instalment amount for active credit contract.\n",
      "interesteffectiverate_369L: Interest rate on active contract.\n",
      "interestrateyearly_538L: Annual interest rate for existing contract obtained from credit bureau.\n",
      "lastupdate_260D: Last update date for the active contracts.\n",
      "maxdebtpduevalodued_3940955A: Days past due at the time of the maximum debt.\n",
      "numberofinstls_810L: Number of instalments for the active contract.\n",
      "overdueamountmax_950A: Maximal past due amount for active contract.\n",
      "overdueamountmaxdatemonth_494T: Month when the maximum past due amount was recorded for an active contract with the credit bureau.\n",
      "overdueamountmaxdateyear_432T: Year when max past due amount occurred for active contract.\n",
      "periodicityofpmts_997L: Frequency of instalments for active credit contracts.\n",
      "periodicityofpmts_997M: Frequency of instalments for active credit contracts.\n",
      "pmtdaysoverdue_1135P: Number of days past due for existing contracts in the credit bureau.\n",
      "pmtmethod_731M: Instalment payment method for existing contract in credit bureau.\n",
      "pmtnumpending_403L: Number of pending payments for active contract.\n",
      "purposeofcred_722M: Purpose of credit for active contracts.\n",
      "residualamount_1093A: Residual amount of closed guarantee contract.\n",
      "residualamount_127A: Residual amount of active guarantee contract.\n",
      "residualamount_3940956A: Residual amount for the active contract.\n",
      "subjectrole_326M: Subject role in active credit contract.\n",
      "subjectrole_43M: Subject role in closed credit contract.\n",
      "totalamount_503A: Total amount of active secured credit for a client.\n",
      "totalamount_881A: Total amount of secured credit from closed contracts.\n"
     ]
    }
   ],
   "source": [
    "train_credit_bureau_b_1 = print_sample_info(TRAIN_DIR,\n",
    "                                            \"train_credit_bureau_b_1.parquet\",\n",
    "                                            feature_definitions)"
   ]
  },
  {
   "cell_type": "markdown",
   "id": "24b322e3",
   "metadata": {},
   "source": [
    "Информация из кредитного бюро"
   ]
  },
  {
   "cell_type": "markdown",
   "id": "6ba906a3",
   "metadata": {},
   "source": [
    "## deposit_1\n",
    "Properties: depth=1, internal data source"
   ]
  },
  {
   "cell_type": "code",
   "execution_count": 28,
   "id": "28e13b4c",
   "metadata": {},
   "outputs": [
    {
     "data": {
      "text/html": [
       "<div><style>\n",
       ".dataframe > thead > tr,\n",
       ".dataframe > tbody > tr {\n",
       "  text-align: right;\n",
       "  white-space: pre-wrap;\n",
       "}\n",
       "</style>\n",
       "<small>shape: (5, 5)</small><table border=\"1\" class=\"dataframe\"><thead><tr><th>case_id</th><th>amount_416A</th><th>contractenddate_991D</th><th>num_group1</th><th>openingdate_313D</th></tr><tr><td>i64</td><td>f64</td><td>str</td><td>i64</td><td>str</td></tr></thead><tbody><tr><td>225</td><td>0.0000</td><td>null</td><td>0</td><td>&quot;2016-08-16&quot;</td></tr><tr><td>331</td><td>260.3740</td><td>&quot;2018-03-18&quot;</td><td>0</td><td>&quot;2015-03-19&quot;</td></tr><tr><td>358</td><td>0.0000</td><td>null</td><td>0</td><td>&quot;2014-09-02&quot;</td></tr><tr><td>390</td><td>203.6020</td><td>&quot;2017-09-30&quot;</td><td>1</td><td>&quot;2015-10-01&quot;</td></tr><tr><td>390</td><td>223.6800</td><td>null</td><td>2</td><td>&quot;2016-06-08&quot;</td></tr></tbody></table></div>"
      ],
      "text/plain": [
       "shape: (5, 5)\n",
       "┌─────────┬─────────────┬──────────────────────┬────────────┬──────────────────┐\n",
       "│ case_id ┆ amount_416A ┆ contractenddate_991D ┆ num_group1 ┆ openingdate_313D │\n",
       "│ ---     ┆ ---         ┆ ---                  ┆ ---        ┆ ---              │\n",
       "│ i64     ┆ f64         ┆ str                  ┆ i64        ┆ str              │\n",
       "╞═════════╪═════════════╪══════════════════════╪════════════╪══════════════════╡\n",
       "│ 225     ┆ 0.0000      ┆ null                 ┆ 0          ┆ 2016-08-16       │\n",
       "│ 331     ┆ 260.3740    ┆ 2018-03-18           ┆ 0          ┆ 2015-03-19       │\n",
       "│ 358     ┆ 0.0000      ┆ null                 ┆ 0          ┆ 2014-09-02       │\n",
       "│ 390     ┆ 203.6020    ┆ 2017-09-30           ┆ 1          ┆ 2015-10-01       │\n",
       "│ 390     ┆ 223.6800    ┆ null                 ┆ 2          ┆ 2016-06-08       │\n",
       "└─────────┴─────────────┴──────────────────────┴────────────┴──────────────────┘"
      ]
     },
     "metadata": {},
     "output_type": "display_data"
    },
    {
     "data": {
      "text/html": [
       "<div><style>\n",
       ".dataframe > thead > tr,\n",
       ".dataframe > tbody > tr {\n",
       "  text-align: right;\n",
       "  white-space: pre-wrap;\n",
       "}\n",
       "</style>\n",
       "<small>shape: (9, 6)</small><table border=\"1\" class=\"dataframe\"><thead><tr><th>statistic</th><th>case_id</th><th>amount_416A</th><th>contractenddate_991D</th><th>num_group1</th><th>openingdate_313D</th></tr><tr><td>str</td><td>f64</td><td>f64</td><td>str</td><td>f64</td><td>str</td></tr></thead><tbody><tr><td>&quot;count&quot;</td><td>145086.0000</td><td>145086.0000</td><td>&quot;65404&quot;</td><td>145086.0000</td><td>&quot;145086&quot;</td></tr><tr><td>&quot;null_count&quot;</td><td>0.0000</td><td>0.0000</td><td>&quot;79682&quot;</td><td>0.0000</td><td>&quot;0&quot;</td></tr><tr><td>&quot;mean&quot;</td><td>1466214.0495</td><td>8422.3045</td><td>null</td><td>0.5225</td><td>null</td></tr><tr><td>&quot;std&quot;</td><td>886528.9589</td><td>86232.1205</td><td>null</td><td>1.6210</td><td>null</td></tr><tr><td>&quot;min&quot;</td><td>225.0000</td><td>-40000.0000</td><td>&quot;2002-02-27&quot;</td><td>0.0000</td><td>&quot;2001-11-19&quot;</td></tr><tr><td>&quot;25%&quot;</td><td>660041.0000</td><td>0.0000</td><td>null</td><td>0.0000</td><td>null</td></tr><tr><td>&quot;50%&quot;</td><td>1556939.0000</td><td>223.6580</td><td>null</td><td>0.0000</td><td>null</td></tr><tr><td>&quot;75%&quot;</td><td>2530539.0000</td><td>478.3400</td><td>null</td><td>1.0000</td><td>null</td></tr><tr><td>&quot;max&quot;</td><td>2703453.0000</td><td>12213286.0000</td><td>&quot;2020-03-18&quot;</td><td>64.0000</td><td>&quot;2017-07-31&quot;</td></tr></tbody></table></div>"
      ],
      "text/plain": [
       "shape: (9, 6)\n",
       "┌────────────┬──────────────┬───────────────┬──────────────────────┬─────────────┬──────────────────┐\n",
       "│ statistic  ┆ case_id      ┆ amount_416A   ┆ contractenddate_991D ┆ num_group1  ┆ openingdate_313D │\n",
       "│ ---        ┆ ---          ┆ ---           ┆ ---                  ┆ ---         ┆ ---              │\n",
       "│ str        ┆ f64          ┆ f64           ┆ str                  ┆ f64         ┆ str              │\n",
       "╞════════════╪══════════════╪═══════════════╪══════════════════════╪═════════════╪══════════════════╡\n",
       "│ count      ┆ 145086.0000  ┆ 145086.0000   ┆ 65404                ┆ 145086.0000 ┆ 145086           │\n",
       "│ null_count ┆ 0.0000       ┆ 0.0000        ┆ 79682                ┆ 0.0000      ┆ 0                │\n",
       "│ mean       ┆ 1466214.0495 ┆ 8422.3045     ┆ null                 ┆ 0.5225      ┆ null             │\n",
       "│ std        ┆ 886528.9589  ┆ 86232.1205    ┆ null                 ┆ 1.6210      ┆ null             │\n",
       "│ min        ┆ 225.0000     ┆ -40000.0000   ┆ 2002-02-27           ┆ 0.0000      ┆ 2001-11-19       │\n",
       "│ 25%        ┆ 660041.0000  ┆ 0.0000        ┆ null                 ┆ 0.0000      ┆ null             │\n",
       "│ 50%        ┆ 1556939.0000 ┆ 223.6580      ┆ null                 ┆ 0.0000      ┆ null             │\n",
       "│ 75%        ┆ 2530539.0000 ┆ 478.3400      ┆ null                 ┆ 1.0000      ┆ null             │\n",
       "│ max        ┆ 2703453.0000 ┆ 12213286.0000 ┆ 2020-03-18           ┆ 64.0000     ┆ 2017-07-31       │\n",
       "└────────────┴──────────────┴───────────────┴──────────────────────┴─────────────┴──────────────────┘"
      ]
     },
     "metadata": {},
     "output_type": "display_data"
    },
    {
     "name": "stdout",
     "output_type": "stream",
     "text": [
      "amount_416A: Deposit amount.\n",
      "contractenddate_991D: End date of deposit contract.\n",
      "openingdate_313D: Deposit account opening date.\n"
     ]
    }
   ],
   "source": [
    "train_deposit_1 = print_sample_info(TRAIN_DIR, \"train_deposit_1.parquet\",\n",
    "                                    feature_definitions)"
   ]
  },
  {
   "cell_type": "markdown",
   "id": "79cf0bbd",
   "metadata": {},
   "source": [
    "Информация по депозитным договорам клиента"
   ]
  },
  {
   "cell_type": "markdown",
   "id": "171ab12f",
   "metadata": {},
   "source": [
    "## person_1\n",
    "Properties: depth=1, internal data source\n",
    "\n",
    "Each credit application can have information about several persons (e.g. client him/her-self, contact references). Role describe type of connection to client."
   ]
  },
  {
   "cell_type": "code",
   "execution_count": 29,
   "id": "3f03d31b",
   "metadata": {
    "scrolled": true
   },
   "outputs": [
    {
     "data": {
      "text/html": [
       "<div><style>\n",
       ".dataframe > thead > tr,\n",
       ".dataframe > tbody > tr {\n",
       "  text-align: right;\n",
       "  white-space: pre-wrap;\n",
       "}\n",
       "</style>\n",
       "<small>shape: (5, 37)</small><table border=\"1\" class=\"dataframe\"><thead><tr><th>case_id</th><th>birth_259D</th><th>birthdate_87D</th><th>childnum_185L</th><th>contaddr_district_15M</th><th>contaddr_matchlist_1032L</th><th>contaddr_smempladdr_334L</th><th>contaddr_zipcode_807M</th><th>education_927M</th><th>empl_employedfrom_271D</th><th>empl_employedtotal_800L</th><th>empl_industry_691L</th><th>empladdr_district_926M</th><th>empladdr_zipcode_114M</th><th>familystate_447L</th><th>gender_992L</th><th>housetype_905L</th><th>housingtype_772L</th><th>incometype_1044T</th><th>isreference_387L</th><th>language1_981M</th><th>mainoccupationinc_384A</th><th>maritalst_703L</th><th>num_group1</th><th>personindex_1023L</th><th>persontype_1072L</th><th>persontype_792L</th><th>registaddr_district_1083M</th><th>registaddr_zipcode_184M</th><th>relationshiptoclient_415T</th><th>relationshiptoclient_642T</th><th>remitter_829L</th><th>role_1084L</th><th>role_993L</th><th>safeguarantyflag_411L</th><th>sex_738L</th><th>type_25L</th></tr><tr><td>i64</td><td>str</td><td>str</td><td>f64</td><td>str</td><td>bool</td><td>bool</td><td>str</td><td>str</td><td>str</td><td>str</td><td>str</td><td>str</td><td>str</td><td>str</td><td>str</td><td>str</td><td>str</td><td>str</td><td>bool</td><td>str</td><td>f64</td><td>str</td><td>i64</td><td>f64</td><td>f64</td><td>f64</td><td>str</td><td>str</td><td>str</td><td>str</td><td>bool</td><td>str</td><td>str</td><td>bool</td><td>str</td><td>str</td></tr></thead><tbody><tr><td>0</td><td>&quot;1986-07-01&quot;</td><td>null</td><td>null</td><td>&quot;P88_18_84&quot;</td><td>false</td><td>false</td><td>&quot;P167_100_165&quot;</td><td>&quot;P97_36_170&quot;</td><td>&quot;2017-09-15&quot;</td><td>&quot;MORE_FIVE&quot;</td><td>&quot;OTHER&quot;</td><td>&quot;P142_57_166&quot;</td><td>&quot;P167_100_165&quot;</td><td>&quot;MARRIED&quot;</td><td>null</td><td>null</td><td>null</td><td>&quot;SALARIED_GOVT&quot;</td><td>null</td><td>&quot;P10_39_147&quot;</td><td>10800.0000</td><td>null</td><td>0</td><td>0.0000</td><td>1.0000</td><td>1.0000</td><td>&quot;P88_18_84&quot;</td><td>&quot;P167_100_165&quot;</td><td>null</td><td>null</td><td>null</td><td>&quot;CL&quot;</td><td>null</td><td>true</td><td>&quot;F&quot;</td><td>&quot;PRIMARY_MOBILE…</td></tr><tr><td>0</td><td>null</td><td>null</td><td>null</td><td>&quot;a55475b1&quot;</td><td>null</td><td>null</td><td>&quot;a55475b1&quot;</td><td>&quot;a55475b1&quot;</td><td>null</td><td>null</td><td>null</td><td>&quot;a55475b1&quot;</td><td>&quot;a55475b1&quot;</td><td>null</td><td>null</td><td>null</td><td>null</td><td>null</td><td>null</td><td>&quot;a55475b1&quot;</td><td>null</td><td>null</td><td>1</td><td>1.0000</td><td>1.0000</td><td>4.0000</td><td>&quot;a55475b1&quot;</td><td>&quot;a55475b1&quot;</td><td>&quot;SPOUSE&quot;</td><td>null</td><td>false</td><td>&quot;EM&quot;</td><td>null</td><td>null</td><td>null</td><td>&quot;PHONE&quot;</td></tr><tr><td>0</td><td>null</td><td>null</td><td>null</td><td>&quot;a55475b1&quot;</td><td>null</td><td>null</td><td>&quot;a55475b1&quot;</td><td>&quot;a55475b1&quot;</td><td>null</td><td>null</td><td>null</td><td>&quot;a55475b1&quot;</td><td>&quot;a55475b1&quot;</td><td>null</td><td>null</td><td>null</td><td>null</td><td>null</td><td>null</td><td>&quot;a55475b1&quot;</td><td>null</td><td>null</td><td>2</td><td>2.0000</td><td>4.0000</td><td>5.0000</td><td>&quot;a55475b1&quot;</td><td>&quot;a55475b1&quot;</td><td>&quot;COLLEAGUE&quot;</td><td>&quot;SPOUSE&quot;</td><td>false</td><td>&quot;PE&quot;</td><td>null</td><td>null</td><td>null</td><td>&quot;PHONE&quot;</td></tr><tr><td>0</td><td>null</td><td>null</td><td>null</td><td>&quot;a55475b1&quot;</td><td>null</td><td>null</td><td>&quot;a55475b1&quot;</td><td>&quot;a55475b1&quot;</td><td>null</td><td>null</td><td>null</td><td>&quot;a55475b1&quot;</td><td>&quot;a55475b1&quot;</td><td>null</td><td>null</td><td>null</td><td>null</td><td>null</td><td>null</td><td>&quot;a55475b1&quot;</td><td>null</td><td>null</td><td>3</td><td>null</td><td>5.0000</td><td>null</td><td>&quot;a55475b1&quot;</td><td>&quot;a55475b1&quot;</td><td>null</td><td>&quot;COLLEAGUE&quot;</td><td>null</td><td>&quot;PE&quot;</td><td>null</td><td>null</td><td>null</td><td>&quot;PHONE&quot;</td></tr><tr><td>1</td><td>&quot;1957-08-01&quot;</td><td>null</td><td>null</td><td>&quot;P103_93_94&quot;</td><td>false</td><td>false</td><td>&quot;P176_37_166&quot;</td><td>&quot;P97_36_170&quot;</td><td>&quot;2008-10-29&quot;</td><td>&quot;MORE_FIVE&quot;</td><td>&quot;OTHER&quot;</td><td>&quot;P49_46_174&quot;</td><td>&quot;P160_59_140&quot;</td><td>&quot;DIVORCED&quot;</td><td>null</td><td>null</td><td>null</td><td>&quot;SALARIED_GOVT&quot;</td><td>null</td><td>&quot;P10_39_147&quot;</td><td>10000.0000</td><td>null</td><td>0</td><td>0.0000</td><td>1.0000</td><td>1.0000</td><td>&quot;P103_93_94&quot;</td><td>&quot;P176_37_166&quot;</td><td>null</td><td>null</td><td>null</td><td>&quot;CL&quot;</td><td>null</td><td>true</td><td>&quot;M&quot;</td><td>&quot;PRIMARY_MOBILE…</td></tr></tbody></table></div>"
      ],
      "text/plain": [
       "shape: (5, 37)\n",
       "┌─────────┬────────────┬───────────────┬───────────────┬───┬───────────┬───────────────────┬──────────┬────────────────┐\n",
       "│ case_id ┆ birth_259D ┆ birthdate_87D ┆ childnum_185L ┆ … ┆ role_993L ┆ safeguarantyflag_ ┆ sex_738L ┆ type_25L       │\n",
       "│ ---     ┆ ---        ┆ ---           ┆ ---           ┆   ┆ ---       ┆ 411L              ┆ ---      ┆ ---            │\n",
       "│ i64     ┆ str        ┆ str           ┆ f64           ┆   ┆ str       ┆ ---               ┆ str      ┆ str            │\n",
       "│         ┆            ┆               ┆               ┆   ┆           ┆ bool              ┆          ┆                │\n",
       "╞═════════╪════════════╪═══════════════╪═══════════════╪═══╪═══════════╪═══════════════════╪══════════╪════════════════╡\n",
       "│ 0       ┆ 1986-07-01 ┆ null          ┆ null          ┆ … ┆ null      ┆ true              ┆ F        ┆ PRIMARY_MOBILE │\n",
       "│ 0       ┆ null       ┆ null          ┆ null          ┆ … ┆ null      ┆ null              ┆ null     ┆ PHONE          │\n",
       "│ 0       ┆ null       ┆ null          ┆ null          ┆ … ┆ null      ┆ null              ┆ null     ┆ PHONE          │\n",
       "│ 0       ┆ null       ┆ null          ┆ null          ┆ … ┆ null      ┆ null              ┆ null     ┆ PHONE          │\n",
       "│ 1       ┆ 1957-08-01 ┆ null          ┆ null          ┆ … ┆ null      ┆ true              ┆ M        ┆ PRIMARY_MOBILE │\n",
       "└─────────┴────────────┴───────────────┴───────────────┴───┴───────────┴───────────────────┴──────────┴────────────────┘"
      ]
     },
     "metadata": {},
     "output_type": "display_data"
    },
    {
     "data": {
      "text/html": [
       "<div><style>\n",
       ".dataframe > thead > tr,\n",
       ".dataframe > tbody > tr {\n",
       "  text-align: right;\n",
       "  white-space: pre-wrap;\n",
       "}\n",
       "</style>\n",
       "<small>shape: (9, 38)</small><table border=\"1\" class=\"dataframe\"><thead><tr><th>statistic</th><th>case_id</th><th>birth_259D</th><th>birthdate_87D</th><th>childnum_185L</th><th>contaddr_district_15M</th><th>contaddr_matchlist_1032L</th><th>contaddr_smempladdr_334L</th><th>contaddr_zipcode_807M</th><th>education_927M</th><th>empl_employedfrom_271D</th><th>empl_employedtotal_800L</th><th>empl_industry_691L</th><th>empladdr_district_926M</th><th>empladdr_zipcode_114M</th><th>familystate_447L</th><th>gender_992L</th><th>housetype_905L</th><th>housingtype_772L</th><th>incometype_1044T</th><th>isreference_387L</th><th>language1_981M</th><th>mainoccupationinc_384A</th><th>maritalst_703L</th><th>num_group1</th><th>personindex_1023L</th><th>persontype_1072L</th><th>persontype_792L</th><th>registaddr_district_1083M</th><th>registaddr_zipcode_184M</th><th>relationshiptoclient_415T</th><th>relationshiptoclient_642T</th><th>remitter_829L</th><th>role_1084L</th><th>role_993L</th><th>safeguarantyflag_411L</th><th>sex_738L</th><th>type_25L</th></tr><tr><td>str</td><td>f64</td><td>str</td><td>str</td><td>f64</td><td>str</td><td>f64</td><td>f64</td><td>str</td><td>str</td><td>str</td><td>str</td><td>str</td><td>str</td><td>str</td><td>str</td><td>str</td><td>str</td><td>str</td><td>str</td><td>f64</td><td>str</td><td>f64</td><td>str</td><td>f64</td><td>f64</td><td>f64</td><td>f64</td><td>str</td><td>str</td><td>str</td><td>str</td><td>f64</td><td>str</td><td>str</td><td>f64</td><td>str</td><td>str</td></tr></thead><tbody><tr><td>&quot;count&quot;</td><td>2973991.0000</td><td>&quot;1526659&quot;</td><td>&quot;24916&quot;</td><td>9907.0000</td><td>&quot;2973991&quot;</td><td>1526218.0000</td><td>1526218.0000</td><td>&quot;2973991&quot;</td><td>&quot;2973991&quot;</td><td>&quot;566701&quot;</td><td>&quot;528315&quot;</td><td>&quot;522236&quot;</td><td>&quot;2973991&quot;</td><td>&quot;2973991&quot;</td><td>&quot;728613&quot;</td><td>&quot;24916&quot;</td><td>&quot;100818&quot;</td><td>&quot;9815&quot;</td><td>&quot;1526659&quot;</td><td>24916.0000</td><td>&quot;2973991&quot;</td><td>1526659.0000</td><td>&quot;11345&quot;</td><td>2973991.0000</td><td>2331708.0000</td><td>2967874.0000</td><td>2331708.0000</td><td>&quot;2973991&quot;</td><td>&quot;2973991&quot;</td><td>&quot;805049&quot;</td><td>&quot;805942&quot;</td><td>805049.0000</td><td>&quot;2967874&quot;</td><td>&quot;24916&quot;</td><td>1526657.0000</td><td>&quot;1526659&quot;</td><td>&quot;2967874&quot;</td></tr><tr><td>&quot;null_count&quot;</td><td>0.0000</td><td>&quot;1447332&quot;</td><td>&quot;2949075&quot;</td><td>2964084.0000</td><td>&quot;0&quot;</td><td>1447773.0000</td><td>1447773.0000</td><td>&quot;0&quot;</td><td>&quot;0&quot;</td><td>&quot;2407290&quot;</td><td>&quot;2445676&quot;</td><td>&quot;2451755&quot;</td><td>&quot;0&quot;</td><td>&quot;0&quot;</td><td>&quot;2245378&quot;</td><td>&quot;2949075&quot;</td><td>&quot;2873173&quot;</td><td>&quot;2964176&quot;</td><td>&quot;1447332&quot;</td><td>2949075.0000</td><td>&quot;0&quot;</td><td>1447332.0000</td><td>&quot;2962646&quot;</td><td>0.0000</td><td>642283.0000</td><td>6117.0000</td><td>642283.0000</td><td>&quot;0&quot;</td><td>&quot;0&quot;</td><td>&quot;2168942&quot;</td><td>&quot;2168049&quot;</td><td>2168942.0000</td><td>&quot;6117&quot;</td><td>&quot;2949075&quot;</td><td>1447334.0000</td><td>&quot;1447332&quot;</td><td>&quot;6117&quot;</td></tr><tr><td>&quot;mean&quot;</td><td>1055195.6115</td><td>null</td><td>null</td><td>0.6160</td><td>null</td><td>0.0000</td><td>0.0045</td><td>null</td><td>null</td><td>null</td><td>null</td><td>null</td><td>null</td><td>null</td><td>null</td><td>null</td><td>null</td><td>null</td><td>null</td><td>0.5000</td><td>null</td><td>57707.4835</td><td>null</td><td>0.7965</td><td>0.4384</td><td>2.0349</td><td>2.3157</td><td>null</td><td>null</td><td>null</td><td>null</td><td>0.0000</td><td>null</td><td>null</td><td>0.9466</td><td>null</td><td>null</td></tr><tr><td>&quot;std&quot;</td><td>724571.3851</td><td>null</td><td>null</td><td>0.9661</td><td>null</td><td>null</td><td>null</td><td>null</td><td>null</td><td>null</td><td>null</td><td>null</td><td>null</td><td>null</td><td>null</td><td>null</td><td>null</td><td>null</td><td>null</td><td>null</td><td>null</td><td>33348.3028</td><td>null</td><td>0.9778</td><td>0.6597</td><td>1.7072</td><td>1.8264</td><td>null</td><td>null</td><td>null</td><td>null</td><td>null</td><td>null</td><td>null</td><td>null</td><td>null</td><td>null</td></tr><tr><td>&quot;min&quot;</td><td>0.0000</td><td>&quot;1943-03-01&quot;</td><td>&quot;1911-12-01&quot;</td><td>0.0000</td><td>&quot;P0_111_121&quot;</td><td>0.0000</td><td>0.0000</td><td>&quot;P0_101_75&quot;</td><td>&quot;P106_81_188&quot;</td><td>&quot;1963-06-15&quot;</td><td>&quot;LESS_ONE&quot;</td><td>&quot;AGRICULTURE&quot;</td><td>&quot;P0_140_162&quot;</td><td>&quot;P0_101_75&quot;</td><td>&quot;DIVORCED&quot;</td><td>&quot;F&quot;</td><td>&quot;COMPANY_FLAT&quot;</td><td>&quot;COMPANY_FLAT&quot;</td><td>&quot;EMPLOYED&quot;</td><td>0.0000</td><td>&quot;P10_39_147&quot;</td><td>0.0000</td><td>&quot;DIVORCED&quot;</td><td>0.0000</td><td>0.0000</td><td>1.0000</td><td>1.0000</td><td>&quot;P0_111_121&quot;</td><td>&quot;P0_101_75&quot;</td><td>&quot;CHILD&quot;</td><td>&quot;CHILD&quot;</td><td>0.0000</td><td>&quot;CL&quot;</td><td>&quot;FULL&quot;</td><td>0.0000</td><td>&quot;F&quot;</td><td>&quot;ALTERNATIVE_PH…</td></tr><tr><td>&quot;25%&quot;</td><td>637354.0000</td><td>null</td><td>null</td><td>0.0000</td><td>null</td><td>null</td><td>null</td><td>null</td><td>null</td><td>null</td><td>null</td><td>null</td><td>null</td><td>null</td><td>null</td><td>null</td><td>null</td><td>null</td><td>null</td><td>null</td><td>null</td><td>36000.0000</td><td>null</td><td>0.0000</td><td>0.0000</td><td>1.0000</td><td>1.0000</td><td>null</td><td>null</td><td>null</td><td>null</td><td>null</td><td>null</td><td>null</td><td>null</td><td>null</td><td>null</td></tr><tr><td>&quot;50%&quot;</td><td>890817.0000</td><td>null</td><td>null</td><td>0.0000</td><td>null</td><td>null</td><td>null</td><td>null</td><td>null</td><td>null</td><td>null</td><td>null</td><td>null</td><td>null</td><td>null</td><td>null</td><td>null</td><td>null</td><td>null</td><td>null</td><td>null</td><td>50000.0000</td><td>null</td><td>0.0000</td><td>0.0000</td><td>1.0000</td><td>1.0000</td><td>null</td><td>null</td><td>null</td><td>null</td><td>null</td><td>null</td><td>null</td><td>null</td><td>null</td><td>null</td></tr><tr><td>&quot;75%&quot;</td><td>1568334.0000</td><td>null</td><td>null</td><td>1.0000</td><td>null</td><td>null</td><td>null</td><td>null</td><td>null</td><td>null</td><td>null</td><td>null</td><td>null</td><td>null</td><td>null</td><td>null</td><td>null</td><td>null</td><td>null</td><td>null</td><td>null</td><td>70000.0000</td><td>null</td><td>1.0000</td><td>1.0000</td><td>4.0000</td><td>5.0000</td><td>null</td><td>null</td><td>null</td><td>null</td><td>null</td><td>null</td><td>null</td><td>null</td><td>null</td><td>null</td></tr><tr><td>&quot;max&quot;</td><td>2703454.0000</td><td>&quot;1999-10-01&quot;</td><td>&quot;2015-12-01&quot;</td><td>11.0000</td><td>&quot;a55475b1&quot;</td><td>0.0000</td><td>1.0000</td><td>&quot;a55475b1&quot;</td><td>&quot;a55475b1&quot;</td><td>&quot;2020-09-15&quot;</td><td>&quot;MORE_ONE&quot;</td><td>&quot;WELNESS&quot;</td><td>&quot;a55475b1&quot;</td><td>&quot;a55475b1&quot;</td><td>&quot;WIDOWED&quot;</td><td>&quot;M&quot;</td><td>&quot;STATE_FLAT&quot;</td><td>&quot;STATE_FLAT&quot;</td><td>&quot;SELFEMPLOYED&quot;</td><td>1.0000</td><td>&quot;a55475b1&quot;</td><td>200000.0000</td><td>&quot;WIDOWED&quot;</td><td>9.0000</td><td>6.0000</td><td>5.0000</td><td>5.0000</td><td>&quot;a55475b1&quot;</td><td>&quot;a55475b1&quot;</td><td>&quot;SPOUSE&quot;</td><td>&quot;SPOUSE&quot;</td><td>0.0000</td><td>&quot;PE&quot;</td><td>&quot;FULL&quot;</td><td>1.0000</td><td>&quot;M&quot;</td><td>&quot;WHATSAPP&quot;</td></tr></tbody></table></div>"
      ],
      "text/plain": [
       "shape: (9, 38)\n",
       "┌────────────┬──────────────┬────────────┬───────────────┬───┬───────────┬─────────────────┬──────────┬────────────────┐\n",
       "│ statistic  ┆ case_id      ┆ birth_259D ┆ birthdate_87D ┆ … ┆ role_993L ┆ safeguarantyfla ┆ sex_738L ┆ type_25L       │\n",
       "│ ---        ┆ ---          ┆ ---        ┆ ---           ┆   ┆ ---       ┆ g_411L          ┆ ---      ┆ ---            │\n",
       "│ str        ┆ f64          ┆ str        ┆ str           ┆   ┆ str       ┆ ---             ┆ str      ┆ str            │\n",
       "│            ┆              ┆            ┆               ┆   ┆           ┆ f64             ┆          ┆                │\n",
       "╞════════════╪══════════════╪════════════╪═══════════════╪═══╪═══════════╪═════════════════╪══════════╪════════════════╡\n",
       "│ count      ┆ 2973991.0000 ┆ 1526659    ┆ 24916         ┆ … ┆ 24916     ┆ 1526657.0000    ┆ 1526659  ┆ 2967874        │\n",
       "│ null_count ┆ 0.0000       ┆ 1447332    ┆ 2949075       ┆ … ┆ 2949075   ┆ 1447334.0000    ┆ 1447332  ┆ 6117           │\n",
       "│ mean       ┆ 1055195.6115 ┆ null       ┆ null          ┆ … ┆ null      ┆ 0.9466          ┆ null     ┆ null           │\n",
       "│ std        ┆ 724571.3851  ┆ null       ┆ null          ┆ … ┆ null      ┆ null            ┆ null     ┆ null           │\n",
       "│ min        ┆ 0.0000       ┆ 1943-03-01 ┆ 1911-12-01    ┆ … ┆ FULL      ┆ 0.0000          ┆ F        ┆ ALTERNATIVE_PH │\n",
       "│            ┆              ┆            ┆               ┆   ┆           ┆                 ┆          ┆ ONE            │\n",
       "│ 25%        ┆ 637354.0000  ┆ null       ┆ null          ┆ … ┆ null      ┆ null            ┆ null     ┆ null           │\n",
       "│ 50%        ┆ 890817.0000  ┆ null       ┆ null          ┆ … ┆ null      ┆ null            ┆ null     ┆ null           │\n",
       "│ 75%        ┆ 1568334.0000 ┆ null       ┆ null          ┆ … ┆ null      ┆ null            ┆ null     ┆ null           │\n",
       "│ max        ┆ 2703454.0000 ┆ 1999-10-01 ┆ 2015-12-01    ┆ … ┆ FULL      ┆ 1.0000          ┆ M        ┆ WHATSAPP       │\n",
       "└────────────┴──────────────┴────────────┴───────────────┴───┴───────────┴─────────────────┴──────────┴────────────────┘"
      ]
     },
     "metadata": {},
     "output_type": "display_data"
    },
    {
     "name": "stdout",
     "output_type": "stream",
     "text": [
      "birth_259D: Date of birth of the person.\n",
      "birthdate_87D: Birth date of the person.\n",
      "childnum_185L: Number of children of the applicant.\n",
      "contaddr_district_15M: Zip code of a contact person's address.\n",
      "contaddr_matchlist_1032L: Indicates whether the contact address is found in a code list.\n",
      "contaddr_smempladdr_334L: Indicates whether the contact address is the same as the employment address.\n",
      "contaddr_zipcode_807M: Zip code of contact address.\n",
      "education_927M: Education level of the person.\n",
      "empl_employedfrom_271D: Start date of employment.\n",
      "empl_employedtotal_800L: Employment length of a person.\n",
      "empl_industry_691L: Employment Industry of the person.\n",
      "empladdr_district_926M: District where the employer's address is located.\n",
      "empladdr_zipcode_114M: Zipcode of employer's address.\n",
      "familystate_447L: Family state of the person.\n",
      "gender_992L: Gender of a person.\n",
      "housetype_905L: House type of the person.\n",
      "housingtype_772L: Type of housing of the person.\n",
      "incometype_1044T: Type of income of the person\n",
      "isreference_387L: Flag indicating whether the person is a reference contact.\n",
      "language1_981M: The primary language of the person.\n",
      "mainoccupationinc_384A: Amount of the main income of the client.\n",
      "maritalst_703L: Marital status of the client.\n",
      "personindex_1023L: Order of the person specified on the application form.\n",
      "persontype_1072L: Person type.\n",
      "persontype_792L: Person type.\n",
      "registaddr_district_1083M: District of person's registered address.\n",
      "registaddr_zipcode_184M: Registered address's zip code of a person.\n",
      "relationshiptoclient_415T: Relationship to the client.\n",
      "relationshiptoclient_642T: Relationship to the client.\n",
      "remitter_829L: Flag indicating whether the client is a remitter.\n",
      "role_1084L: Type of contact role.\n",
      "role_993L: Person's role.\n",
      "safeguarantyflag_411L: Flag indicating if client is using a flexible product with additional safeguard garanty.\n",
      "sex_738L: Gender of the client.\n",
      "type_25L: Contact type of a person.\n"
     ]
    }
   ],
   "source": [
    "train_person_1 = print_sample_info(TRAIN_DIR, \"train_person_1.parquet\",\n",
    "                                   feature_definitions)"
   ]
  },
  {
   "cell_type": "markdown",
   "id": "f22bba36",
   "metadata": {},
   "source": [
    "Персональная информация о клиенте - дата рождения, пол, образование и т.д."
   ]
  },
  {
   "cell_type": "markdown",
   "id": "c3de466f",
   "metadata": {},
   "source": [
    "**When num_groupN=0 it is the applicant (the person who applied for a loan)**\n",
    "\n",
    "**Поэтому в данном случае будем фильтровать по num_group1=0 - это и будут данные лица, которое берет кредит**"
   ]
  },
  {
   "cell_type": "markdown",
   "id": "fc225b88",
   "metadata": {},
   "source": [
    "## debitcard_1\n",
    "Properties: depth=1, internal data source"
   ]
  },
  {
   "cell_type": "code",
   "execution_count": 30,
   "id": "22d6c8a4",
   "metadata": {},
   "outputs": [
    {
     "data": {
      "text/html": [
       "<div><style>\n",
       ".dataframe > thead > tr,\n",
       ".dataframe > tbody > tr {\n",
       "  text-align: right;\n",
       "  white-space: pre-wrap;\n",
       "}\n",
       "</style>\n",
       "<small>shape: (5, 6)</small><table border=\"1\" class=\"dataframe\"><thead><tr><th>case_id</th><th>last180dayaveragebalance_704A</th><th>last180dayturnover_1134A</th><th>last30dayturnover_651A</th><th>num_group1</th><th>openingdate_857D</th></tr><tr><td>i64</td><td>f64</td><td>f64</td><td>f64</td><td>i64</td><td>str</td></tr></thead><tbody><tr><td>225</td><td>null</td><td>null</td><td>null</td><td>0</td><td>&quot;2016-08-16&quot;</td></tr><tr><td>331</td><td>null</td><td>null</td><td>null</td><td>0</td><td>&quot;2015-03-19&quot;</td></tr><tr><td>358</td><td>null</td><td>null</td><td>null</td><td>0</td><td>&quot;2014-09-02&quot;</td></tr><tr><td>390</td><td>null</td><td>null</td><td>null</td><td>0</td><td>&quot;2014-07-23&quot;</td></tr><tr><td>390</td><td>null</td><td>null</td><td>null</td><td>1</td><td>&quot;2015-10-01&quot;</td></tr></tbody></table></div>"
      ],
      "text/plain": [
       "shape: (5, 6)\n",
       "┌─────────┬─────────────────────────┬─────────────────────────┬────────────────────────┬────────────┬──────────────────┐\n",
       "│ case_id ┆ last180dayaveragebalanc ┆ last180dayturnover_1134 ┆ last30dayturnover_651A ┆ num_group1 ┆ openingdate_857D │\n",
       "│ ---     ┆ e_704A                  ┆ A                       ┆ ---                    ┆ ---        ┆ ---              │\n",
       "│ i64     ┆ ---                     ┆ ---                     ┆ f64                    ┆ i64        ┆ str              │\n",
       "│         ┆ f64                     ┆ f64                     ┆                        ┆            ┆                  │\n",
       "╞═════════╪═════════════════════════╪═════════════════════════╪════════════════════════╪════════════╪══════════════════╡\n",
       "│ 225     ┆ null                    ┆ null                    ┆ null                   ┆ 0          ┆ 2016-08-16       │\n",
       "│ 331     ┆ null                    ┆ null                    ┆ null                   ┆ 0          ┆ 2015-03-19       │\n",
       "│ 358     ┆ null                    ┆ null                    ┆ null                   ┆ 0          ┆ 2014-09-02       │\n",
       "│ 390     ┆ null                    ┆ null                    ┆ null                   ┆ 0          ┆ 2014-07-23       │\n",
       "│ 390     ┆ null                    ┆ null                    ┆ null                   ┆ 1          ┆ 2015-10-01       │\n",
       "└─────────┴─────────────────────────┴─────────────────────────┴────────────────────────┴────────────┴──────────────────┘"
      ]
     },
     "metadata": {},
     "output_type": "display_data"
    },
    {
     "data": {
      "text/html": [
       "<div><style>\n",
       ".dataframe > thead > tr,\n",
       ".dataframe > tbody > tr {\n",
       "  text-align: right;\n",
       "  white-space: pre-wrap;\n",
       "}\n",
       "</style>\n",
       "<small>shape: (9, 7)</small><table border=\"1\" class=\"dataframe\"><thead><tr><th>statistic</th><th>case_id</th><th>last180dayaveragebalance_704A</th><th>last180dayturnover_1134A</th><th>last30dayturnover_651A</th><th>num_group1</th><th>openingdate_857D</th></tr><tr><td>str</td><td>f64</td><td>f64</td><td>f64</td><td>f64</td><td>f64</td><td>str</td></tr></thead><tbody><tr><td>&quot;count&quot;</td><td>157302.0000</td><td>12216.0000</td><td>11081.0000</td><td>11081.0000</td><td>157302.0000</td><td>&quot;144591&quot;</td></tr><tr><td>&quot;null_count&quot;</td><td>0.0000</td><td>145086.0000</td><td>146221.0000</td><td>146221.0000</td><td>0.0000</td><td>&quot;12711&quot;</td></tr><tr><td>&quot;mean&quot;</td><td>1468783.7827</td><td>109.6359</td><td>38494.5085</td><td>4955.3835</td><td>0.5493</td><td>null</td></tr><tr><td>&quot;std&quot;</td><td>888331.5764</td><td>949.9975</td><td>41400.5890</td><td>19217.7369</td><td>1.6391</td><td>null</td></tr><tr><td>&quot;min&quot;</td><td>225.0000</td><td>-308.7941</td><td>-187780.0000</td><td>-477.5060</td><td>0.0000</td><td>&quot;2001-11-19&quot;</td></tr><tr><td>&quot;25%&quot;</td><td>649173.0000</td><td>0.0000</td><td>7878.0000</td><td>0.0000</td><td>0.0000</td><td>null</td></tr><tr><td>&quot;50%&quot;</td><td>1560138.0000</td><td>0.0000</td><td>30000.0000</td><td>0.0000</td><td>0.0000</td><td>null</td></tr><tr><td>&quot;75%&quot;</td><td>2531591.0000</td><td>1.0538</td><td>60000.0000</td><td>0.0000</td><td>1.0000</td><td>null</td></tr><tr><td>&quot;max&quot;</td><td>2703453.0000</td><td>67777.7700</td><td>1161820.0000</td><td>390000.0000</td><td>65.0000</td><td>&quot;2017-07-31&quot;</td></tr></tbody></table></div>"
      ],
      "text/plain": [
       "shape: (9, 7)\n",
       "┌────────────┬──────────────┬───────────────────┬──────────────────┬──────────────────┬─────────────┬──────────────────┐\n",
       "│ statistic  ┆ case_id      ┆ last180dayaverage ┆ last180dayturnov ┆ last30dayturnove ┆ num_group1  ┆ openingdate_857D │\n",
       "│ ---        ┆ ---          ┆ balance_704A      ┆ er_1134A         ┆ r_651A           ┆ ---         ┆ ---              │\n",
       "│ str        ┆ f64          ┆ ---               ┆ ---              ┆ ---              ┆ f64         ┆ str              │\n",
       "│            ┆              ┆ f64               ┆ f64              ┆ f64              ┆             ┆                  │\n",
       "╞════════════╪══════════════╪═══════════════════╪══════════════════╪══════════════════╪═════════════╪══════════════════╡\n",
       "│ count      ┆ 157302.0000  ┆ 12216.0000        ┆ 11081.0000       ┆ 11081.0000       ┆ 157302.0000 ┆ 144591           │\n",
       "│ null_count ┆ 0.0000       ┆ 145086.0000       ┆ 146221.0000      ┆ 146221.0000      ┆ 0.0000      ┆ 12711            │\n",
       "│ mean       ┆ 1468783.7827 ┆ 109.6359          ┆ 38494.5085       ┆ 4955.3835        ┆ 0.5493      ┆ null             │\n",
       "│ std        ┆ 888331.5764  ┆ 949.9975          ┆ 41400.5890       ┆ 19217.7369       ┆ 1.6391      ┆ null             │\n",
       "│ min        ┆ 225.0000     ┆ -308.7941         ┆ -187780.0000     ┆ -477.5060        ┆ 0.0000      ┆ 2001-11-19       │\n",
       "│ 25%        ┆ 649173.0000  ┆ 0.0000            ┆ 7878.0000        ┆ 0.0000           ┆ 0.0000      ┆ null             │\n",
       "│ 50%        ┆ 1560138.0000 ┆ 0.0000            ┆ 30000.0000       ┆ 0.0000           ┆ 0.0000      ┆ null             │\n",
       "│ 75%        ┆ 2531591.0000 ┆ 1.0538            ┆ 60000.0000       ┆ 0.0000           ┆ 1.0000      ┆ null             │\n",
       "│ max        ┆ 2703453.0000 ┆ 67777.7700        ┆ 1161820.0000     ┆ 390000.0000      ┆ 65.0000     ┆ 2017-07-31       │\n",
       "└────────────┴──────────────┴───────────────────┴──────────────────┴──────────────────┴─────────────┴──────────────────┘"
      ]
     },
     "metadata": {},
     "output_type": "display_data"
    },
    {
     "name": "stdout",
     "output_type": "stream",
     "text": [
      "last180dayaveragebalance_704A: Average balance on debit card in the last 180 days.\n",
      "last180dayturnover_1134A: Debit card's turnover within the last 180 days.\n",
      "last30dayturnover_651A: Debit card turnover for the last 30 days.\n",
      "openingdate_857D: Debit card opening date.\n"
     ]
    }
   ],
   "source": [
    "train_debitcard_1 = print_sample_info(TRAIN_DIR, \"train_debitcard_1.parquet\",\n",
    "                                      feature_definitions)"
   ]
  },
  {
   "cell_type": "markdown",
   "id": "34ff4e16",
   "metadata": {},
   "source": [
    "Информация по дебетовой карте:\n",
    "- Оборот по дебетовой карте за последние N дней\n",
    "- Средний остаток средств на дебетовой карте за последние 180 дней."
   ]
  },
  {
   "cell_type": "markdown",
   "id": "71401654",
   "metadata": {},
   "source": [
    "## applprev_2\n",
    "Properties: depth=2, internal data source"
   ]
  },
  {
   "cell_type": "code",
   "execution_count": 31,
   "id": "d93a90ec",
   "metadata": {},
   "outputs": [
    {
     "data": {
      "text/html": [
       "<div><style>\n",
       ".dataframe > thead > tr,\n",
       ".dataframe > tbody > tr {\n",
       "  text-align: right;\n",
       "  white-space: pre-wrap;\n",
       "}\n",
       "</style>\n",
       "<small>shape: (5, 6)</small><table border=\"1\" class=\"dataframe\"><thead><tr><th>case_id</th><th>cacccardblochreas_147M</th><th>conts_type_509L</th><th>credacc_cards_status_52L</th><th>num_group1</th><th>num_group2</th></tr><tr><td>i64</td><td>str</td><td>str</td><td>str</td><td>i64</td><td>i64</td></tr></thead><tbody><tr><td>2</td><td>null</td><td>&quot;PRIMARY_MOBILE…</td><td>null</td><td>0</td><td>0</td></tr><tr><td>2</td><td>null</td><td>&quot;EMPLOYMENT_PHO…</td><td>null</td><td>0</td><td>1</td></tr><tr><td>2</td><td>null</td><td>&quot;PRIMARY_MOBILE…</td><td>null</td><td>1</td><td>0</td></tr><tr><td>2</td><td>null</td><td>&quot;EMPLOYMENT_PHO…</td><td>null</td><td>1</td><td>1</td></tr><tr><td>3</td><td>null</td><td>&quot;PHONE&quot;</td><td>null</td><td>0</td><td>0</td></tr></tbody></table></div>"
      ],
      "text/plain": [
       "shape: (5, 6)\n",
       "┌─────────┬────────────────────────┬──────────────────┬──────────────────────────┬────────────┬────────────┐\n",
       "│ case_id ┆ cacccardblochreas_147M ┆ conts_type_509L  ┆ credacc_cards_status_52L ┆ num_group1 ┆ num_group2 │\n",
       "│ ---     ┆ ---                    ┆ ---              ┆ ---                      ┆ ---        ┆ ---        │\n",
       "│ i64     ┆ str                    ┆ str              ┆ str                      ┆ i64        ┆ i64        │\n",
       "╞═════════╪════════════════════════╪══════════════════╪══════════════════════════╪════════════╪════════════╡\n",
       "│ 2       ┆ null                   ┆ PRIMARY_MOBILE   ┆ null                     ┆ 0          ┆ 0          │\n",
       "│ 2       ┆ null                   ┆ EMPLOYMENT_PHONE ┆ null                     ┆ 0          ┆ 1          │\n",
       "│ 2       ┆ null                   ┆ PRIMARY_MOBILE   ┆ null                     ┆ 1          ┆ 0          │\n",
       "│ 2       ┆ null                   ┆ EMPLOYMENT_PHONE ┆ null                     ┆ 1          ┆ 1          │\n",
       "│ 3       ┆ null                   ┆ PHONE            ┆ null                     ┆ 0          ┆ 0          │\n",
       "└─────────┴────────────────────────┴──────────────────┴──────────────────────────┴────────────┴────────────┘"
      ]
     },
     "metadata": {},
     "output_type": "display_data"
    },
    {
     "data": {
      "text/html": [
       "<div><style>\n",
       ".dataframe > thead > tr,\n",
       ".dataframe > tbody > tr {\n",
       "  text-align: right;\n",
       "  white-space: pre-wrap;\n",
       "}\n",
       "</style>\n",
       "<small>shape: (9, 7)</small><table border=\"1\" class=\"dataframe\"><thead><tr><th>statistic</th><th>case_id</th><th>cacccardblochreas_147M</th><th>conts_type_509L</th><th>credacc_cards_status_52L</th><th>num_group1</th><th>num_group2</th></tr><tr><td>str</td><td>f64</td><td>str</td><td>str</td><td>str</td><td>f64</td><td>f64</td></tr></thead><tbody><tr><td>&quot;count&quot;</td><td>14075487.0000</td><td>&quot;13966238&quot;</td><td>&quot;11681431&quot;</td><td>&quot;342083&quot;</td><td>14075487.0000</td><td>14075487.0000</td></tr><tr><td>&quot;null_count&quot;</td><td>0.0000</td><td>&quot;109249&quot;</td><td>&quot;2394056&quot;</td><td>&quot;13733404&quot;</td><td>0.0000</td><td>0.0000</td></tr><tr><td>&quot;mean&quot;</td><td>1454198.0168</td><td>null</td><td>null</td><td>null</td><td>4.5515</td><td>0.7403</td></tr><tr><td>&quot;std&quot;</td><td>787508.3638</td><td>null</td><td>null</td><td>null</td><td>4.3904</td><td>0.8026</td></tr><tr><td>&quot;min&quot;</td><td>2.0000</td><td>&quot;P127_74_114&quot;</td><td>&quot;ALTERNATIVE_PH…</td><td>&quot;ACTIVE&quot;</td><td>0.0000</td><td>0.0000</td></tr><tr><td>&quot;25%&quot;</td><td>1237440.0000</td><td>null</td><td>null</td><td>null</td><td>1.0000</td><td>0.0000</td></tr><tr><td>&quot;50%&quot;</td><td>1575626.0000</td><td>null</td><td>null</td><td>null</td><td>3.0000</td><td>1.0000</td></tr><tr><td>&quot;75%&quot;</td><td>1861301.0000</td><td>null</td><td>null</td><td>null</td><td>7.0000</td><td>1.0000</td></tr><tr><td>&quot;max&quot;</td><td>2703454.0000</td><td>&quot;a55475b1&quot;</td><td>&quot;WHATSAPP&quot;</td><td>&quot;UNCONFIRMED&quot;</td><td>19.0000</td><td>11.0000</td></tr></tbody></table></div>"
      ],
      "text/plain": [
       "shape: (9, 7)\n",
       "┌────────────┬───────────────┬───────────────────┬──────────────────┬──────────────────┬───────────────┬───────────────┐\n",
       "│ statistic  ┆ case_id       ┆ cacccardblochreas ┆ conts_type_509L  ┆ credacc_cards_st ┆ num_group1    ┆ num_group2    │\n",
       "│ ---        ┆ ---           ┆ _147M             ┆ ---              ┆ atus_52L         ┆ ---           ┆ ---           │\n",
       "│ str        ┆ f64           ┆ ---               ┆ str              ┆ ---              ┆ f64           ┆ f64           │\n",
       "│            ┆               ┆ str               ┆                  ┆ str              ┆               ┆               │\n",
       "╞════════════╪═══════════════╪═══════════════════╪══════════════════╪══════════════════╪═══════════════╪═══════════════╡\n",
       "│ count      ┆ 14075487.0000 ┆ 13966238          ┆ 11681431         ┆ 342083           ┆ 14075487.0000 ┆ 14075487.0000 │\n",
       "│ null_count ┆ 0.0000        ┆ 109249            ┆ 2394056          ┆ 13733404         ┆ 0.0000        ┆ 0.0000        │\n",
       "│ mean       ┆ 1454198.0168  ┆ null              ┆ null             ┆ null             ┆ 4.5515        ┆ 0.7403        │\n",
       "│ std        ┆ 787508.3638   ┆ null              ┆ null             ┆ null             ┆ 4.3904        ┆ 0.8026        │\n",
       "│ min        ┆ 2.0000        ┆ P127_74_114       ┆ ALTERNATIVE_PHON ┆ ACTIVE           ┆ 0.0000        ┆ 0.0000        │\n",
       "│            ┆               ┆                   ┆ E                ┆                  ┆               ┆               │\n",
       "│ 25%        ┆ 1237440.0000  ┆ null              ┆ null             ┆ null             ┆ 1.0000        ┆ 0.0000        │\n",
       "│ 50%        ┆ 1575626.0000  ┆ null              ┆ null             ┆ null             ┆ 3.0000        ┆ 1.0000        │\n",
       "│ 75%        ┆ 1861301.0000  ┆ null              ┆ null             ┆ null             ┆ 7.0000        ┆ 1.0000        │\n",
       "│ max        ┆ 2703454.0000  ┆ a55475b1          ┆ WHATSAPP         ┆ UNCONFIRMED      ┆ 19.0000       ┆ 11.0000       │\n",
       "└────────────┴───────────────┴───────────────────┴──────────────────┴──────────────────┴───────────────┴───────────────┘"
      ]
     },
     "metadata": {},
     "output_type": "display_data"
    },
    {
     "name": "stdout",
     "output_type": "stream",
     "text": [
      "cacccardblochreas_147M: Card blocking reason.\n",
      "conts_type_509L: Person contact type in previous application.\n",
      "credacc_cards_status_52L: Card status of the previous credit account.\n"
     ]
    }
   ],
   "source": [
    "train_applprev_2 = print_sample_info(TRAIN_DIR, \"train_applprev_2.parquet\",\n",
    "                                     feature_definitions)"
   ]
  },
  {
   "cell_type": "markdown",
   "id": "a15f30c7",
   "metadata": {},
   "source": [
    "Информация по предыдущим заявкам\n",
    "- Причина блокировки карты\n",
    "- Контактное лицо в предыдущей заявке\n",
    "- Статус карты предыдущего кредитного счета"
   ]
  },
  {
   "cell_type": "markdown",
   "id": "731a5a79",
   "metadata": {},
   "source": [
    "**Сгруппируем по case_id и возьмем наиболее часто встречающееся значение cacccardblochreas_147M.\n",
    "Остальные колонки пропустим**"
   ]
  },
  {
   "cell_type": "markdown",
   "id": "0e30c509",
   "metadata": {},
   "source": [
    "## person_2\n",
    "Properties: depth=2, internal data source"
   ]
  },
  {
   "cell_type": "code",
   "execution_count": 32,
   "id": "e172d960",
   "metadata": {},
   "outputs": [
    {
     "data": {
      "text/html": [
       "<div><style>\n",
       ".dataframe > thead > tr,\n",
       ".dataframe > tbody > tr {\n",
       "  text-align: right;\n",
       "  white-space: pre-wrap;\n",
       "}\n",
       "</style>\n",
       "<small>shape: (5, 11)</small><table border=\"1\" class=\"dataframe\"><thead><tr><th>case_id</th><th>addres_district_368M</th><th>addres_role_871L</th><th>addres_zip_823M</th><th>conts_role_79M</th><th>empls_economicalst_849M</th><th>empls_employedfrom_796D</th><th>empls_employer_name_740M</th><th>num_group1</th><th>num_group2</th><th>relatedpersons_role_762T</th></tr><tr><td>i64</td><td>str</td><td>str</td><td>str</td><td>str</td><td>str</td><td>str</td><td>str</td><td>i64</td><td>i64</td><td>str</td></tr></thead><tbody><tr><td>5</td><td>&quot;a55475b1&quot;</td><td>null</td><td>&quot;a55475b1&quot;</td><td>&quot;a55475b1&quot;</td><td>&quot;a55475b1&quot;</td><td>null</td><td>&quot;a55475b1&quot;</td><td>0</td><td>0</td><td>null</td></tr><tr><td>6</td><td>&quot;P55_110_32&quot;</td><td>&quot;CONTACT&quot;</td><td>&quot;P10_68_40&quot;</td><td>&quot;P38_92_157&quot;</td><td>&quot;P164_110_33&quot;</td><td>null</td><td>&quot;a55475b1&quot;</td><td>0</td><td>0</td><td>null</td></tr><tr><td>6</td><td>&quot;P55_110_32&quot;</td><td>&quot;PERMANENT&quot;</td><td>&quot;P10_68_40&quot;</td><td>&quot;a55475b1&quot;</td><td>&quot;a55475b1&quot;</td><td>null</td><td>&quot;a55475b1&quot;</td><td>0</td><td>1</td><td>null</td></tr><tr><td>6</td><td>&quot;P204_92_178&quot;</td><td>&quot;CONTACT&quot;</td><td>&quot;P65_136_169&quot;</td><td>&quot;P38_92_157&quot;</td><td>&quot;P164_110_33&quot;</td><td>null</td><td>&quot;a55475b1&quot;</td><td>1</td><td>0</td><td>&quot;OTHER_RELATIVE…</td></tr><tr><td>6</td><td>&quot;P191_109_75&quot;</td><td>&quot;CONTACT&quot;</td><td>&quot;P10_68_40&quot;</td><td>&quot;P7_147_157&quot;</td><td>&quot;a55475b1&quot;</td><td>null</td><td>&quot;a55475b1&quot;</td><td>1</td><td>1</td><td>&quot;OTHER_RELATIVE…</td></tr></tbody></table></div>"
      ],
      "text/plain": [
       "shape: (5, 11)\n",
       "┌─────────┬───────────────┬───────────────┬───────────────┬───┬───────────────┬────────────┬────────────┬──────────────┐\n",
       "│ case_id ┆ addres_distri ┆ addres_role_8 ┆ addres_zip_82 ┆ … ┆ empls_employe ┆ num_group1 ┆ num_group2 ┆ relatedperso │\n",
       "│ ---     ┆ ct_368M       ┆ 71L           ┆ 3M            ┆   ┆ r_name_740M   ┆ ---        ┆ ---        ┆ ns_role_762T │\n",
       "│ i64     ┆ ---           ┆ ---           ┆ ---           ┆   ┆ ---           ┆ i64        ┆ i64        ┆ ---          │\n",
       "│         ┆ str           ┆ str           ┆ str           ┆   ┆ str           ┆            ┆            ┆ str          │\n",
       "╞═════════╪═══════════════╪═══════════════╪═══════════════╪═══╪═══════════════╪════════════╪════════════╪══════════════╡\n",
       "│ 5       ┆ a55475b1      ┆ null          ┆ a55475b1      ┆ … ┆ a55475b1      ┆ 0          ┆ 0          ┆ null         │\n",
       "│ 6       ┆ P55_110_32    ┆ CONTACT       ┆ P10_68_40     ┆ … ┆ a55475b1      ┆ 0          ┆ 0          ┆ null         │\n",
       "│ 6       ┆ P55_110_32    ┆ PERMANENT     ┆ P10_68_40     ┆ … ┆ a55475b1      ┆ 0          ┆ 1          ┆ null         │\n",
       "│ 6       ┆ P204_92_178   ┆ CONTACT       ┆ P65_136_169   ┆ … ┆ a55475b1      ┆ 1          ┆ 0          ┆ OTHER_RELATI │\n",
       "│         ┆               ┆               ┆               ┆   ┆               ┆            ┆            ┆ VE           │\n",
       "│ 6       ┆ P191_109_75   ┆ CONTACT       ┆ P10_68_40     ┆ … ┆ a55475b1      ┆ 1          ┆ 1          ┆ OTHER_RELATI │\n",
       "│         ┆               ┆               ┆               ┆   ┆               ┆            ┆            ┆ VE           │\n",
       "└─────────┴───────────────┴───────────────┴───────────────┴───┴───────────────┴────────────┴────────────┴──────────────┘"
      ]
     },
     "metadata": {},
     "output_type": "display_data"
    },
    {
     "data": {
      "text/html": [
       "<div><style>\n",
       ".dataframe > thead > tr,\n",
       ".dataframe > tbody > tr {\n",
       "  text-align: right;\n",
       "  white-space: pre-wrap;\n",
       "}\n",
       "</style>\n",
       "<small>shape: (9, 12)</small><table border=\"1\" class=\"dataframe\"><thead><tr><th>statistic</th><th>case_id</th><th>addres_district_368M</th><th>addres_role_871L</th><th>addres_zip_823M</th><th>conts_role_79M</th><th>empls_economicalst_849M</th><th>empls_employedfrom_796D</th><th>empls_employer_name_740M</th><th>num_group1</th><th>num_group2</th><th>relatedpersons_role_762T</th></tr><tr><td>str</td><td>f64</td><td>str</td><td>str</td><td>str</td><td>str</td><td>str</td><td>str</td><td>str</td><td>f64</td><td>f64</td><td>str</td></tr></thead><tbody><tr><td>&quot;count&quot;</td><td>1643410.0000</td><td>&quot;1643410&quot;</td><td>&quot;67674&quot;</td><td>&quot;1643410&quot;</td><td>&quot;1643410&quot;</td><td>&quot;1643410&quot;</td><td>&quot;5757&quot;</td><td>&quot;1643410&quot;</td><td>1643410.0000</td><td>1643410.0000</td><td>&quot;28726&quot;</td></tr><tr><td>&quot;null_count&quot;</td><td>0.0000</td><td>&quot;0&quot;</td><td>&quot;1575736&quot;</td><td>&quot;0&quot;</td><td>&quot;0&quot;</td><td>&quot;0&quot;</td><td>&quot;1637653&quot;</td><td>&quot;0&quot;</td><td>0.0000</td><td>0.0000</td><td>&quot;1614684&quot;</td></tr><tr><td>&quot;mean&quot;</td><td>1264005.0153</td><td>null</td><td>null</td><td>null</td><td>null</td><td>null</td><td>null</td><td>null</td><td>0.1115</td><td>0.1237</td><td>null</td></tr><tr><td>&quot;std&quot;</td><td>699545.4755</td><td>null</td><td>null</td><td>null</td><td>null</td><td>null</td><td>null</td><td>null</td><td>0.3224</td><td>0.7612</td><td>null</td></tr><tr><td>&quot;min&quot;</td><td>5.0000</td><td>&quot;P0_111_121&quot;</td><td>&quot;CONTACT&quot;</td><td>&quot;P0_101_75&quot;</td><td>&quot;P115_147_77&quot;</td><td>&quot;P112_86_147&quot;</td><td>&quot;1972-08-15&quot;</td><td>&quot;P0_112_117&quot;</td><td>0.0000</td><td>0.0000</td><td>&quot;CHILD&quot;</td></tr><tr><td>&quot;25%&quot;</td><td>761958.0000</td><td>null</td><td>null</td><td>null</td><td>null</td><td>null</td><td>null</td><td>null</td><td>0.0000</td><td>0.0000</td><td>null</td></tr><tr><td>&quot;50%&quot;</td><td>1323516.0000</td><td>null</td><td>null</td><td>null</td><td>null</td><td>null</td><td>null</td><td>null</td><td>0.0000</td><td>0.0000</td><td>null</td></tr><tr><td>&quot;75%&quot;</td><td>1695937.0000</td><td>null</td><td>null</td><td>null</td><td>null</td><td>null</td><td>null</td><td>null</td><td>0.0000</td><td>0.0000</td><td>null</td></tr><tr><td>&quot;max&quot;</td><td>2703454.0000</td><td>&quot;a55475b1&quot;</td><td>&quot;TEMPORARY&quot;</td><td>&quot;a55475b1&quot;</td><td>&quot;a55475b1&quot;</td><td>&quot;a55475b1&quot;</td><td>&quot;2020-01-19&quot;</td><td>&quot;a55475b1&quot;</td><td>4.0000</td><td>31.0000</td><td>&quot;SPOUSE&quot;</td></tr></tbody></table></div>"
      ],
      "text/plain": [
       "shape: (9, 12)\n",
       "┌────────────┬──────────────┬──────────────┬──────────────┬───┬──────────────┬─────────────┬─────────────┬─────────────┐\n",
       "│ statistic  ┆ case_id      ┆ addres_distr ┆ addres_role_ ┆ … ┆ empls_employ ┆ num_group1  ┆ num_group2  ┆ relatedpers │\n",
       "│ ---        ┆ ---          ┆ ict_368M     ┆ 871L         ┆   ┆ er_name_740M ┆ ---         ┆ ---         ┆ ons_role_76 │\n",
       "│ str        ┆ f64          ┆ ---          ┆ ---          ┆   ┆ ---          ┆ f64         ┆ f64         ┆ 2T          │\n",
       "│            ┆              ┆ str          ┆ str          ┆   ┆ str          ┆             ┆             ┆ ---         │\n",
       "│            ┆              ┆              ┆              ┆   ┆              ┆             ┆             ┆ str         │\n",
       "╞════════════╪══════════════╪══════════════╪══════════════╪═══╪══════════════╪═════════════╪═════════════╪═════════════╡\n",
       "│ count      ┆ 1643410.0000 ┆ 1643410      ┆ 67674        ┆ … ┆ 1643410      ┆ 1643410.000 ┆ 1643410.000 ┆ 28726       │\n",
       "│            ┆              ┆              ┆              ┆   ┆              ┆ 0           ┆ 0           ┆             │\n",
       "│ null_count ┆ 0.0000       ┆ 0            ┆ 1575736      ┆ … ┆ 0            ┆ 0.0000      ┆ 0.0000      ┆ 1614684     │\n",
       "│ mean       ┆ 1264005.0153 ┆ null         ┆ null         ┆ … ┆ null         ┆ 0.1115      ┆ 0.1237      ┆ null        │\n",
       "│ std        ┆ 699545.4755  ┆ null         ┆ null         ┆ … ┆ null         ┆ 0.3224      ┆ 0.7612      ┆ null        │\n",
       "│ min        ┆ 5.0000       ┆ P0_111_121   ┆ CONTACT      ┆ … ┆ P0_112_117   ┆ 0.0000      ┆ 0.0000      ┆ CHILD       │\n",
       "│ 25%        ┆ 761958.0000  ┆ null         ┆ null         ┆ … ┆ null         ┆ 0.0000      ┆ 0.0000      ┆ null        │\n",
       "│ 50%        ┆ 1323516.0000 ┆ null         ┆ null         ┆ … ┆ null         ┆ 0.0000      ┆ 0.0000      ┆ null        │\n",
       "│ 75%        ┆ 1695937.0000 ┆ null         ┆ null         ┆ … ┆ null         ┆ 0.0000      ┆ 0.0000      ┆ null        │\n",
       "│ max        ┆ 2703454.0000 ┆ a55475b1     ┆ TEMPORARY    ┆ … ┆ a55475b1     ┆ 4.0000      ┆ 31.0000     ┆ SPOUSE      │\n",
       "└────────────┴──────────────┴──────────────┴──────────────┴───┴──────────────┴─────────────┴─────────────┴─────────────┘"
      ]
     },
     "metadata": {},
     "output_type": "display_data"
    },
    {
     "name": "stdout",
     "output_type": "stream",
     "text": [
      "addres_district_368M: District of the person's address.\n",
      "addres_role_871L: Role of person's address.\n",
      "addres_zip_823M: Zip code of the address.\n",
      "conts_role_79M: Type of contact role of a person.\n",
      "empls_economicalst_849M: The economical status of the person (num_group1 - person, num_group2 - employment).\n",
      "empls_employedfrom_796D: Start of employment (num_group1 - person, num_group2 - employment).\n",
      "empls_employer_name_740M: Employer's name (num_group1 - person, num_group2 - employment).\n",
      "relatedpersons_role_762T: Relationship type of a client's related person (num_group1 - person, num_group2 - related person).\n"
     ]
    }
   ],
   "source": [
    "train_person_2 = print_sample_info(TRAIN_DIR, \"train_person_2.parquet\",\n",
    "                                   feature_definitions)"
   ]
  },
  {
   "cell_type": "markdown",
   "id": "346eff2f",
   "metadata": {},
   "source": [
    "Информация о клиентах и их контактных лицах:\n",
    "    - адреса \n",
    "    - информация о работе"
   ]
  },
  {
   "cell_type": "markdown",
   "id": "0a07cf1a",
   "metadata": {},
   "source": [
    "**When num_groupN=0 it is the applicant (the person who applied for a loan)\n",
    "Отфильтруем данные по num_group1=0, сгрупируем по case_id и возьмем наиболее часто встречающееся значение для empls_economicalst_849M**"
   ]
  },
  {
   "cell_type": "markdown",
   "id": "fbd5c02e",
   "metadata": {},
   "source": [
    "## credit_bureau\n",
    "\n",
    "credit_bureau_a_2\n",
    "Properties: depth=2, external data source, Credit bureau provider A\n",
    "\n",
    "credit_bureau_b_2\n",
    "Properties: depth=2, external data source, Credit bureau provider B"
   ]
  },
  {
   "cell_type": "code",
   "execution_count": 33,
   "id": "878eb43e",
   "metadata": {
    "scrolled": true
   },
   "outputs": [
    {
     "data": {
      "text/html": [
       "<div><style>\n",
       ".dataframe > thead > tr,\n",
       ".dataframe > tbody > tr {\n",
       "  text-align: right;\n",
       "  white-space: pre-wrap;\n",
       "}\n",
       "</style>\n",
       "<small>shape: (5, 19)</small><table border=\"1\" class=\"dataframe\"><thead><tr><th>case_id</th><th>collater_typofvalofguarant_298M</th><th>collater_typofvalofguarant_407M</th><th>collater_valueofguarantee_1124L</th><th>collater_valueofguarantee_876L</th><th>collaterals_typeofguarante_359M</th><th>collaterals_typeofguarante_669M</th><th>num_group1</th><th>num_group2</th><th>pmts_dpd_1073P</th><th>pmts_dpd_303P</th><th>pmts_month_158T</th><th>pmts_month_706T</th><th>pmts_overdue_1140A</th><th>pmts_overdue_1152A</th><th>pmts_year_1139T</th><th>pmts_year_507T</th><th>subjectroles_name_541M</th><th>subjectroles_name_838M</th></tr><tr><td>i64</td><td>str</td><td>str</td><td>f64</td><td>f64</td><td>str</td><td>str</td><td>i64</td><td>i64</td><td>f64</td><td>f64</td><td>f64</td><td>f64</td><td>f64</td><td>f64</td><td>f64</td><td>f64</td><td>str</td><td>str</td></tr></thead><tbody><tr><td>388</td><td>&quot;8fd95e4b&quot;</td><td>&quot;a55475b1&quot;</td><td>0.0000</td><td>null</td><td>&quot;a55475b1&quot;</td><td>&quot;c7a5ad39&quot;</td><td>0</td><td>0</td><td>null</td><td>null</td><td>2.0000</td><td>null</td><td>null</td><td>null</td><td>2018.0000</td><td>null</td><td>&quot;a55475b1&quot;</td><td>&quot;ab3c25cf&quot;</td></tr><tr><td>388</td><td>&quot;9a0c095e&quot;</td><td>&quot;a55475b1&quot;</td><td>0.0000</td><td>null</td><td>&quot;a55475b1&quot;</td><td>&quot;c7a5ad39&quot;</td><td>1</td><td>0</td><td>null</td><td>null</td><td>2.0000</td><td>null</td><td>null</td><td>null</td><td>2018.0000</td><td>null</td><td>&quot;a55475b1&quot;</td><td>&quot;ab3c25cf&quot;</td></tr><tr><td>388</td><td>&quot;a55475b1&quot;</td><td>&quot;a55475b1&quot;</td><td>null</td><td>null</td><td>&quot;a55475b1&quot;</td><td>&quot;a55475b1&quot;</td><td>0</td><td>1</td><td>null</td><td>null</td><td>3.0000</td><td>null</td><td>null</td><td>null</td><td>2018.0000</td><td>null</td><td>&quot;a55475b1&quot;</td><td>&quot;a55475b1&quot;</td></tr><tr><td>388</td><td>&quot;a55475b1&quot;</td><td>&quot;a55475b1&quot;</td><td>null</td><td>null</td><td>&quot;a55475b1&quot;</td><td>&quot;a55475b1&quot;</td><td>0</td><td>2</td><td>null</td><td>null</td><td>4.0000</td><td>null</td><td>null</td><td>null</td><td>2018.0000</td><td>null</td><td>&quot;a55475b1&quot;</td><td>&quot;a55475b1&quot;</td></tr><tr><td>388</td><td>&quot;a55475b1&quot;</td><td>&quot;a55475b1&quot;</td><td>null</td><td>null</td><td>&quot;a55475b1&quot;</td><td>&quot;a55475b1&quot;</td><td>0</td><td>3</td><td>null</td><td>null</td><td>5.0000</td><td>null</td><td>null</td><td>null</td><td>2018.0000</td><td>null</td><td>&quot;a55475b1&quot;</td><td>&quot;a55475b1&quot;</td></tr></tbody></table></div>"
      ],
      "text/plain": [
       "shape: (5, 19)\n",
       "┌─────────┬──────────────┬──────────────┬──────────────┬───┬──────────────┬──────────────┬──────────────┬──────────────┐\n",
       "│ case_id ┆ collater_typ ┆ collater_typ ┆ collater_val ┆ … ┆ pmts_year_11 ┆ pmts_year_50 ┆ subjectroles ┆ subjectroles │\n",
       "│ ---     ┆ ofvalofguara ┆ ofvalofguara ┆ ueofguarante ┆   ┆ 39T          ┆ 7T           ┆ _name_541M   ┆ _name_838M   │\n",
       "│ i64     ┆ nt_298M      ┆ nt_407M      ┆ e_1124L      ┆   ┆ ---          ┆ ---          ┆ ---          ┆ ---          │\n",
       "│         ┆ ---          ┆ ---          ┆ ---          ┆   ┆ f64          ┆ f64          ┆ str          ┆ str          │\n",
       "│         ┆ str          ┆ str          ┆ f64          ┆   ┆              ┆              ┆              ┆              │\n",
       "╞═════════╪══════════════╪══════════════╪══════════════╪═══╪══════════════╪══════════════╪══════════════╪══════════════╡\n",
       "│ 388     ┆ 8fd95e4b     ┆ a55475b1     ┆ 0.0000       ┆ … ┆ 2018.0000    ┆ null         ┆ a55475b1     ┆ ab3c25cf     │\n",
       "│ 388     ┆ 9a0c095e     ┆ a55475b1     ┆ 0.0000       ┆ … ┆ 2018.0000    ┆ null         ┆ a55475b1     ┆ ab3c25cf     │\n",
       "│ 388     ┆ a55475b1     ┆ a55475b1     ┆ null         ┆ … ┆ 2018.0000    ┆ null         ┆ a55475b1     ┆ a55475b1     │\n",
       "│ 388     ┆ a55475b1     ┆ a55475b1     ┆ null         ┆ … ┆ 2018.0000    ┆ null         ┆ a55475b1     ┆ a55475b1     │\n",
       "│ 388     ┆ a55475b1     ┆ a55475b1     ┆ null         ┆ … ┆ 2018.0000    ┆ null         ┆ a55475b1     ┆ a55475b1     │\n",
       "└─────────┴──────────────┴──────────────┴──────────────┴───┴──────────────┴──────────────┴──────────────┴──────────────┘"
      ]
     },
     "metadata": {},
     "output_type": "display_data"
    },
    {
     "data": {
      "text/html": [
       "<div><style>\n",
       ".dataframe > thead > tr,\n",
       ".dataframe > tbody > tr {\n",
       "  text-align: right;\n",
       "  white-space: pre-wrap;\n",
       "}\n",
       "</style>\n",
       "<small>shape: (9, 20)</small><table border=\"1\" class=\"dataframe\"><thead><tr><th>statistic</th><th>case_id</th><th>collater_typofvalofguarant_298M</th><th>collater_typofvalofguarant_407M</th><th>collater_valueofguarantee_1124L</th><th>collater_valueofguarantee_876L</th><th>collaterals_typeofguarante_359M</th><th>collaterals_typeofguarante_669M</th><th>num_group1</th><th>num_group2</th><th>pmts_dpd_1073P</th><th>pmts_dpd_303P</th><th>pmts_month_158T</th><th>pmts_month_706T</th><th>pmts_overdue_1140A</th><th>pmts_overdue_1152A</th><th>pmts_year_1139T</th><th>pmts_year_507T</th><th>subjectroles_name_541M</th><th>subjectroles_name_838M</th></tr><tr><td>str</td><td>f64</td><td>str</td><td>str</td><td>f64</td><td>f64</td><td>str</td><td>str</td><td>f64</td><td>f64</td><td>f64</td><td>f64</td><td>f64</td><td>f64</td><td>f64</td><td>f64</td><td>f64</td><td>f64</td><td>str</td><td>str</td></tr></thead><tbody><tr><td>&quot;count&quot;</td><td>5296031.0000</td><td>&quot;5296031&quot;</td><td>&quot;5296031&quot;</td><td>202915.0000</td><td>0.0000</td><td>&quot;5296031&quot;</td><td>&quot;5296031&quot;</td><td>5296031.0000</td><td>5296031.0000</td><td>2489613.0000</td><td>0.0000</td><td>5296008.0000</td><td>0.0000</td><td>2491674.0000</td><td>0.0000</td><td>5296008.0000</td><td>0.0000</td><td>&quot;5296031&quot;</td><td>&quot;5296031&quot;</td></tr><tr><td>&quot;null_count&quot;</td><td>0.0000</td><td>&quot;0&quot;</td><td>&quot;0&quot;</td><td>5093116.0000</td><td>5296031.0000</td><td>&quot;0&quot;</td><td>&quot;0&quot;</td><td>0.0000</td><td>0.0000</td><td>2806418.0000</td><td>5296031.0000</td><td>23.0000</td><td>5296031.0000</td><td>2804357.0000</td><td>5296031.0000</td><td>23.0000</td><td>5296031.0000</td><td>&quot;0&quot;</td><td>&quot;0&quot;</td></tr><tr><td>&quot;mean&quot;</td><td>1063781.5213</td><td>null</td><td>null</td><td>1863340.5995</td><td>null</td><td>null</td><td>null</td><td>0.7215</td><td>14.0234</td><td>13.1622</td><td>null</td><td>6.5000</td><td>null</td><td>1438.9585</td><td>null</td><td>2018.2643</td><td>null</td><td>null</td><td>null</td></tr><tr><td>&quot;std&quot;</td><td>662226.6264</td><td>null</td><td>null</td><td>33559092.6450</td><td>null</td><td>null</td><td>null</td><td>1.1026</td><td>9.3128</td><td>138.7311</td><td>null</td><td>3.4521</td><td>null</td><td>39508.2694</td><td>null</td><td>0.7833</td><td>null</td><td>null</td><td>null</td></tr><tr><td>&quot;min&quot;</td><td>388.0000</td><td>&quot;06fb9ba8&quot;</td><td>&quot;a55475b1&quot;</td><td>0.0000</td><td>null</td><td>&quot;a55475b1&quot;</td><td>&quot;0e63c0f0&quot;</td><td>0.0000</td><td>0.0000</td><td>0.0000</td><td>null</td><td>1.0000</td><td>null</td><td>0.0000</td><td>null</td><td>2015.0000</td><td>null</td><td>&quot;a55475b1&quot;</td><td>&quot;15f04f45&quot;</td></tr><tr><td>&quot;25%&quot;</td><td>622237.0000</td><td>null</td><td>null</td><td>0.0000</td><td>null</td><td>null</td><td>null</td><td>0.0000</td><td>6.0000</td><td>0.0000</td><td>null</td><td>4.0000</td><td>null</td><td>0.0000</td><td>null</td><td>2018.0000</td><td>null</td><td>null</td><td>null</td></tr><tr><td>&quot;50%&quot;</td><td>1259890.0000</td><td>null</td><td>null</td><td>0.0000</td><td>null</td><td>null</td><td>null</td><td>0.0000</td><td>13.0000</td><td>0.0000</td><td>null</td><td>7.0000</td><td>null</td><td>0.0000</td><td>null</td><td>2018.0000</td><td>null</td><td>null</td><td>null</td></tr><tr><td>&quot;75%&quot;</td><td>1284811.0000</td><td>null</td><td>null</td><td>0.0000</td><td>null</td><td>null</td><td>null</td><td>1.0000</td><td>21.0000</td><td>0.0000</td><td>null</td><td>9.0000</td><td>null</td><td>0.0000</td><td>null</td><td>2019.0000</td><td>null</td><td>null</td><td>null</td></tr><tr><td>&quot;max&quot;</td><td>2548729.0000</td><td>&quot;a55475b1&quot;</td><td>&quot;a55475b1&quot;</td><td>3200000000.0000</td><td>null</td><td>&quot;a55475b1&quot;</td><td>&quot;f4d8a027&quot;</td><td>46.0000</td><td>35.0000</td><td>4877.0000</td><td>null</td><td>12.0000</td><td>null</td><td>15237162.0000</td><td>null</td><td>2020.0000</td><td>null</td><td>&quot;a55475b1&quot;</td><td>&quot;daf49a8a&quot;</td></tr></tbody></table></div>"
      ],
      "text/plain": [
       "shape: (9, 20)\n",
       "┌────────────┬──────────────┬──────────────┬──────────────┬───┬──────────────┬─────────────┬─────────────┬─────────────┐\n",
       "│ statistic  ┆ case_id      ┆ collater_typ ┆ collater_typ ┆ … ┆ pmts_year_11 ┆ pmts_year_5 ┆ subjectrole ┆ subjectrole │\n",
       "│ ---        ┆ ---          ┆ ofvalofguara ┆ ofvalofguara ┆   ┆ 39T          ┆ 07T         ┆ s_name_541M ┆ s_name_838M │\n",
       "│ str        ┆ f64          ┆ nt_298M      ┆ nt_407M      ┆   ┆ ---          ┆ ---         ┆ ---         ┆ ---         │\n",
       "│            ┆              ┆ ---          ┆ ---          ┆   ┆ f64          ┆ f64         ┆ str         ┆ str         │\n",
       "│            ┆              ┆ str          ┆ str          ┆   ┆              ┆             ┆             ┆             │\n",
       "╞════════════╪══════════════╪══════════════╪══════════════╪═══╪══════════════╪═════════════╪═════════════╪═════════════╡\n",
       "│ count      ┆ 5296031.0000 ┆ 5296031      ┆ 5296031      ┆ … ┆ 5296008.0000 ┆ 0.0000      ┆ 5296031     ┆ 5296031     │\n",
       "│ null_count ┆ 0.0000       ┆ 0            ┆ 0            ┆ … ┆ 23.0000      ┆ 5296031.000 ┆ 0           ┆ 0           │\n",
       "│            ┆              ┆              ┆              ┆   ┆              ┆ 0           ┆             ┆             │\n",
       "│ mean       ┆ 1063781.5213 ┆ null         ┆ null         ┆ … ┆ 2018.2643    ┆ null        ┆ null        ┆ null        │\n",
       "│ std        ┆ 662226.6264  ┆ null         ┆ null         ┆ … ┆ 0.7833       ┆ null        ┆ null        ┆ null        │\n",
       "│ min        ┆ 388.0000     ┆ 06fb9ba8     ┆ a55475b1     ┆ … ┆ 2015.0000    ┆ null        ┆ a55475b1    ┆ 15f04f45    │\n",
       "│ 25%        ┆ 622237.0000  ┆ null         ┆ null         ┆ … ┆ 2018.0000    ┆ null        ┆ null        ┆ null        │\n",
       "│ 50%        ┆ 1259890.0000 ┆ null         ┆ null         ┆ … ┆ 2018.0000    ┆ null        ┆ null        ┆ null        │\n",
       "│ 75%        ┆ 1284811.0000 ┆ null         ┆ null         ┆ … ┆ 2019.0000    ┆ null        ┆ null        ┆ null        │\n",
       "│ max        ┆ 2548729.0000 ┆ a55475b1     ┆ a55475b1     ┆ … ┆ 2020.0000    ┆ null        ┆ a55475b1    ┆ daf49a8a    │\n",
       "└────────────┴──────────────┴──────────────┴──────────────┴───┴──────────────┴─────────────┴─────────────┴─────────────┘"
      ]
     },
     "metadata": {},
     "output_type": "display_data"
    },
    {
     "name": "stdout",
     "output_type": "stream",
     "text": [
      "collater_typofvalofguarant_298M: Collateral valuation type (active contract).\n",
      "collater_typofvalofguarant_407M: Collateral valuation type (closed contract).\n",
      "collater_valueofguarantee_1124L: Value of collateral for active contract.\n",
      "collater_valueofguarantee_876L: Value of collateral for closed contract.\n",
      "collaterals_typeofguarante_359M: Type of collateral that was used as a guarantee for a closed contract.\n",
      "collaterals_typeofguarante_669M: Collateral type for the active contract.\n",
      "pmts_dpd_1073P: Days past due of the payment for the active contract (num_group1 - existing contract, num_group2 - payment).\n",
      "pmts_dpd_303P: Days past due of the payment for terminated contract according to credit bureau (num_group1 - terminated contract, num_group2 - payment).\n",
      "pmts_month_158T: Month of payment for a closed contract (num_group1 - existing contract, num_group2 - payment).\n",
      "pmts_month_706T: Month of payment for active contract (num_group1 - terminated contract, num_group2 - payment).\n",
      "pmts_overdue_1140A: Overdue payment for an active contract (num_group1 - existing contract, num_group2 - payment).\n",
      "pmts_overdue_1152A: Overdue payment for a closed contract (num_group1 - terminated contract, num_group2 - payment).\n",
      "pmts_year_1139T: Year of payment for an active contract (num_group1 - existing contract, num_group2 - payment).\n",
      "pmts_year_507T: Payment year for a closed credit contract (num_group1 - terminated contract, num_group2 - payment).\n",
      "subjectroles_name_541M: Name of subject role in closed credit contract (num_group1 - terminated contract, num_group2 - subject roles).\n",
      "subjectroles_name_838M: Name of subject role in active credit contract (num_group1 - existing contract, num_group2 - subject roles).\n"
     ]
    }
   ],
   "source": [
    "train_credit_bureau_a_2_0 = print_sample_info(\n",
    "    TRAIN_DIR, \"train_credit_bureau_a_2_0.parquet\", feature_definitions)"
   ]
  },
  {
   "cell_type": "markdown",
   "id": "bf6a367f",
   "metadata": {},
   "source": [
    "согласно https://www.kaggle.com/competitions/home-credit-credit-risk-model-stability/data:\n",
    "- pmts_month_158T is for active contract\n",
    "- pmts_month_706T is for closed contract"
   ]
  },
  {
   "cell_type": "code",
   "execution_count": 34,
   "id": "fcde87dd",
   "metadata": {},
   "outputs": [
    {
     "data": {
      "text/html": [
       "<div><style>\n",
       ".dataframe > thead > tr,\n",
       ".dataframe > tbody > tr {\n",
       "  text-align: right;\n",
       "  white-space: pre-wrap;\n",
       "}\n",
       "</style>\n",
       "<small>shape: (5, 6)</small><table border=\"1\" class=\"dataframe\"><thead><tr><th>case_id</th><th>num_group1</th><th>num_group2</th><th>pmts_date_1107D</th><th>pmts_dpdvalue_108P</th><th>pmts_pmtsoverdue_635A</th></tr><tr><td>i64</td><td>i64</td><td>i64</td><td>str</td><td>f64</td><td>f64</td></tr></thead><tbody><tr><td>467</td><td>0</td><td>0</td><td>&quot;2018-11-15&quot;</td><td>null</td><td>null</td></tr><tr><td>467</td><td>0</td><td>1</td><td>&quot;2018-12-15&quot;</td><td>null</td><td>null</td></tr><tr><td>467</td><td>1</td><td>0</td><td>&quot;2018-12-15&quot;</td><td>null</td><td>null</td></tr><tr><td>467</td><td>2</td><td>0</td><td>&quot;2016-10-15&quot;</td><td>0.0000</td><td>0.0000</td></tr><tr><td>467</td><td>2</td><td>1</td><td>&quot;2016-11-15&quot;</td><td>0.0000</td><td>0.0000</td></tr></tbody></table></div>"
      ],
      "text/plain": [
       "shape: (5, 6)\n",
       "┌─────────┬────────────┬────────────┬─────────────────┬────────────────────┬───────────────────────┐\n",
       "│ case_id ┆ num_group1 ┆ num_group2 ┆ pmts_date_1107D ┆ pmts_dpdvalue_108P ┆ pmts_pmtsoverdue_635A │\n",
       "│ ---     ┆ ---        ┆ ---        ┆ ---             ┆ ---                ┆ ---                   │\n",
       "│ i64     ┆ i64        ┆ i64        ┆ str             ┆ f64                ┆ f64                   │\n",
       "╞═════════╪════════════╪════════════╪═════════════════╪════════════════════╪═══════════════════════╡\n",
       "│ 467     ┆ 0          ┆ 0          ┆ 2018-11-15      ┆ null               ┆ null                  │\n",
       "│ 467     ┆ 0          ┆ 1          ┆ 2018-12-15      ┆ null               ┆ null                  │\n",
       "│ 467     ┆ 1          ┆ 0          ┆ 2018-12-15      ┆ null               ┆ null                  │\n",
       "│ 467     ┆ 2          ┆ 0          ┆ 2016-10-15      ┆ 0.0000             ┆ 0.0000                │\n",
       "│ 467     ┆ 2          ┆ 1          ┆ 2016-11-15      ┆ 0.0000             ┆ 0.0000                │\n",
       "└─────────┴────────────┴────────────┴─────────────────┴────────────────────┴───────────────────────┘"
      ]
     },
     "metadata": {},
     "output_type": "display_data"
    },
    {
     "data": {
      "text/html": [
       "<div><style>\n",
       ".dataframe > thead > tr,\n",
       ".dataframe > tbody > tr {\n",
       "  text-align: right;\n",
       "  white-space: pre-wrap;\n",
       "}\n",
       "</style>\n",
       "<small>shape: (9, 7)</small><table border=\"1\" class=\"dataframe\"><thead><tr><th>statistic</th><th>case_id</th><th>num_group1</th><th>num_group2</th><th>pmts_date_1107D</th><th>pmts_dpdvalue_108P</th><th>pmts_pmtsoverdue_635A</th></tr><tr><td>str</td><td>f64</td><td>f64</td><td>f64</td><td>str</td><td>f64</td><td>f64</td></tr></thead><tbody><tr><td>&quot;count&quot;</td><td>1286755.0000</td><td>1286755.0000</td><td>1286755.0000</td><td>&quot;1286755&quot;</td><td>1281394.0000</td><td>1281394.0000</td></tr><tr><td>&quot;null_count&quot;</td><td>0.0000</td><td>0.0000</td><td>0.0000</td><td>&quot;0&quot;</td><td>5361.0000</td><td>5361.0000</td></tr><tr><td>&quot;mean&quot;</td><td>1229443.9100</td><td>0.7467</td><td>12.3197</td><td>null</td><td>24370.4546</td><td>11.8595</td></tr><tr><td>&quot;std&quot;</td><td>679992.3043</td><td>1.1217</td><td>10.0171</td><td>null</td><td>574795.5394</td><td>455.1762</td></tr><tr><td>&quot;min&quot;</td><td>467.0000</td><td>0.0000</td><td>0.0000</td><td>&quot;2016-01-15&quot;</td><td>0.0000</td><td>0.0000</td></tr><tr><td>&quot;25%&quot;</td><td>741898.0000</td><td>0.0000</td><td>4.0000</td><td>null</td><td>0.0000</td><td>0.0000</td></tr><tr><td>&quot;50%&quot;</td><td>1416105.0000</td><td>0.0000</td><td>10.0000</td><td>null</td><td>0.0000</td><td>0.0000</td></tr><tr><td>&quot;75%&quot;</td><td>1781534.0000</td><td>1.0000</td><td>19.0000</td><td>null</td><td>0.0000</td><td>0.0000</td></tr><tr><td>&quot;max&quot;</td><td>2703436.0000</td><td>20.0000</td><td>36.0000</td><td>&quot;2020-10-15&quot;</td><td>185124192.0000</td><td>147470.6100</td></tr></tbody></table></div>"
      ],
      "text/plain": [
       "shape: (9, 7)\n",
       "┌────────────┬──────────────┬──────────────┬──────────────┬─────────────────┬────────────────────┬─────────────────────┐\n",
       "│ statistic  ┆ case_id      ┆ num_group1   ┆ num_group2   ┆ pmts_date_1107D ┆ pmts_dpdvalue_108P ┆ pmts_pmtsoverdue_63 │\n",
       "│ ---        ┆ ---          ┆ ---          ┆ ---          ┆ ---             ┆ ---                ┆ 5A                  │\n",
       "│ str        ┆ f64          ┆ f64          ┆ f64          ┆ str             ┆ f64                ┆ ---                 │\n",
       "│            ┆              ┆              ┆              ┆                 ┆                    ┆ f64                 │\n",
       "╞════════════╪══════════════╪══════════════╪══════════════╪═════════════════╪════════════════════╪═════════════════════╡\n",
       "│ count      ┆ 1286755.0000 ┆ 1286755.0000 ┆ 1286755.0000 ┆ 1286755         ┆ 1281394.0000       ┆ 1281394.0000        │\n",
       "│ null_count ┆ 0.0000       ┆ 0.0000       ┆ 0.0000       ┆ 0               ┆ 5361.0000          ┆ 5361.0000           │\n",
       "│ mean       ┆ 1229443.9100 ┆ 0.7467       ┆ 12.3197      ┆ null            ┆ 24370.4546         ┆ 11.8595             │\n",
       "│ std        ┆ 679992.3043  ┆ 1.1217       ┆ 10.0171      ┆ null            ┆ 574795.5394        ┆ 455.1762            │\n",
       "│ min        ┆ 467.0000     ┆ 0.0000       ┆ 0.0000       ┆ 2016-01-15      ┆ 0.0000             ┆ 0.0000              │\n",
       "│ 25%        ┆ 741898.0000  ┆ 0.0000       ┆ 4.0000       ┆ null            ┆ 0.0000             ┆ 0.0000              │\n",
       "│ 50%        ┆ 1416105.0000 ┆ 0.0000       ┆ 10.0000      ┆ null            ┆ 0.0000             ┆ 0.0000              │\n",
       "│ 75%        ┆ 1781534.0000 ┆ 1.0000       ┆ 19.0000      ┆ null            ┆ 0.0000             ┆ 0.0000              │\n",
       "│ max        ┆ 2703436.0000 ┆ 20.0000      ┆ 36.0000      ┆ 2020-10-15      ┆ 185124192.0000     ┆ 147470.6100         │\n",
       "└────────────┴──────────────┴──────────────┴──────────────┴─────────────────┴────────────────────┴─────────────────────┘"
      ]
     },
     "metadata": {},
     "output_type": "display_data"
    },
    {
     "name": "stdout",
     "output_type": "stream",
     "text": [
      "pmts_date_1107D: Payment date for an active contract according to credit bureau (num_group1 - contract, num_group2 - payment).\n",
      "pmts_dpdvalue_108P: Value of past due payment for active contract (num_group1 - existing contract, num_group2 - payment).\n",
      "pmts_pmtsoverdue_635A: Active contract that has overdue payments (num_group1 - existing contract, num_group2 - payment).\n"
     ]
    }
   ],
   "source": [
    "train_credit_bureau_b_2 = print_sample_info(TRAIN_DIR,\n",
    "                                            \"train_credit_bureau_b_2.parquet\",\n",
    "                                            feature_definitions)"
   ]
  },
  {
   "cell_type": "markdown",
   "id": "1d89b30b",
   "metadata": {},
   "source": [
    "train_credit_bureau_a_2_0 - Информация платежам по активным и по закрытым кредитным договорам:\n",
    "- Дней просрочки платежа по активному/закрытому контракту.\n",
    "- Стоимость обеспечения по действующему/закрытому контракту.\n",
    "- Вид обеспечения, который был использован в качестве гарантии по действующему/закрытому контракту.\n",
    "\n",
    "train_credit_bureau_b_2 - Информация по платежам по активным кредитным договорам:\n",
    "- Сумма просроченного платежа по действующему контракту\n",
    "- Активный контракт с просроченными платежами"
   ]
  },
  {
   "cell_type": "markdown",
   "id": "1a6a82ae",
   "metadata": {},
   "source": [
    "# Columns research"
   ]
  },
  {
   "cell_type": "code",
   "execution_count": 35,
   "id": "9a7e11f2",
   "metadata": {},
   "outputs": [
    {
     "name": "stdout",
     "output_type": "stream",
     "text": [
      "Str col: addres_role_871L - Role of person's address.\n",
      "Float col: annualeffectiverate_199L - Interest rate of the closed contracts.\n",
      "Float col: annualeffectiverate_63L - Interest rate for the active contracts.\n",
      "Int col: applicationcnt_361L - Number of applications associated with the same email address as the client.\n",
      "Str col: applications30d_658L - Number of applications made by the client in the last 30 days.\n",
      "Int col: applicationscnt_1086L - Number of applications associated with the same phone number.\n",
      "Int col: applicationscnt_464L - Number of applications made in the last 30 days by other clients with the same employer as the applicant.\n",
      "Int col: applicationscnt_629L - Number of applications with the same employer in the last 7 days.\n",
      "Int col: applicationscnt_867L - Number of applications associated with the same mobile phone.\n",
      "Str col: bankacctype_710L - Type of applicant's bank account.\n",
      "Str col: byoccupationinc_3656910L - Applicant's income from previous applications.\n",
      "Str col: cardtype_51L - Type of credit card.\n",
      "Int col: childnum_185L - Number of children of the applicant.\n",
      "Int col: childnum_21L - Number of children in the previous application.\n",
      "Int col: clientscnt_100L - Number of applications with matching employer's phone and client's.\n",
      "Int col: clientscnt_1022L - Number of clients sharing the same mobile phone.\n",
      "Int col: clientscnt_1071L - Number of applications where the alternative phone number matches that of the client.\n",
      "Int col: clientscnt_1130L - Number of applications where client's phone number matches the alternative phone contact.\n",
      "Int col: clientscnt_136L - Number of applications associated with same email address as client's email.\n",
      "Int col: clientscnt_157L - Number of clients whose employer has the same phone number as the client.\n",
      "Int col: clientscnt_257L - Number of clients that share an alternative phone number with the applicant.\n",
      "Int col: clientscnt_304L - Number of clients with the same phone number.\n",
      "Int col: clientscnt_360L - Number of clients that have the same alternative phone number and employer's phone number.\n",
      "Int col: clientscnt_493L - Number of clients with matching phone numbers for both the employer and the client.\n",
      "Int col: clientscnt_533L - Number of clients with same client's and alternative's phone number\n",
      "Int col: clientscnt_887L - Number of clients sharing the same employer's phone number.\n",
      "Int col: clientscnt_946L - Number of clients with matching mobile and employer's number.\n",
      "Int col: clientscnt12m_3712952L - Number of clients that have used the same mobile phone as the applicant in the past 12 months.\n",
      "Int col: clientscnt3m_3712950L - Number of clients who have the same mobile phone number in the last 3 months.\n",
      "Int col: clientscnt6m_3712949L - Total number of clients who have used the same mobile number in the last 6 months.\n",
      "Int col: cntincpaycont9m_3716944L - Number of incoming payments in the past 9 months.\n",
      "Int col: cntpmts24_3658933L - Number of months with any incoming payment in last 24 months.\n",
      "Str col: collater_valueofguarantee_1124L - Value of collateral for active contract.\n",
      "Str col: collater_valueofguarantee_876L - Value of collateral for closed contract.\n",
      "Str col: commnoinclast6m_3546845L - Number of communications indicating low income in the last six months.\n",
      "Str col: contaddr_matchlist_1032L - Indicates whether the contact address is found in a code list.\n",
      "Str col: contaddr_smempladdr_334L - Indicates whether the contact address is the same as the employment address.\n",
      "Float col: contractssum_5085716L - Total sum of values of contracts retrieved from external credit bureau.\n",
      "Float col: contractsum_5085717L - Sum of other contract values.\n",
      "Str col: conts_type_509L - Person contact type in previous application.\n",
      "Str col: credacc_cards_status_52L - Card status of the previous credit account.\n",
      "Str col: credacc_status_367L - Account status of previous credit applications.\n",
      "Float col: credacc_transactions_402L - Number of transactions made with the previous credit account of the applicant.\n",
      "Int col: credquantity_1099L - Number of credits in credit bureau\n",
      "Int col: credquantity_984L - Number of closed credits in credit bureau.\n",
      "Str col: credtype_322L - Type of credit.\n",
      "Str col: credtype_587L - Credit type of previous application.\n",
      "Int col: days120_123L - Number of credit bureau queries for the last 120 days.\n",
      "Int col: days180_256L - Number of credit bureau queries for last 180 days.\n",
      "Int col: days30_165L - Number of credit bureau queries for the last 30 days.\n",
      "Int col: days360_512L - Number of Credit Bureau queries for last 360 days.\n",
      "Int col: days90_310L - Number of credit bureau queries for the last 90 days.\n",
      "Int col: daysoverduetolerancedd_3976961L - Number of days that past after the due date (with tolerance).\n",
      "Int col: deferredmnthsnum_166L - Number of deferred months.\n",
      "Str col: disbursementtype_67L - Type of disbursement.\n",
      "Float col: dpdmaxdatemonth_442T - Max DPD occurrence month for terminated contracts from credit bureau data.\n",
      "Float col: dpdmaxdatemonth_804T - Month when the maximum Day Past Due (DPD) occurred for active contracts on credit bureau's records.\n",
      "Float col: dpdmaxdatemonth_89T - Month when maximum days past due occurred on the active contract with the credit bureau.\n",
      "Float col: dpdmaxdateyear_596T - Year when maximum Days Past Due (DPD) occurred for the active contract.\n",
      "Float col: dpdmaxdateyear_742T - Year of the maximum Days Past Due (DPD) on an active credit contract in the credit bureau.\n",
      "Float col: dpdmaxdateyear_896T - Year of maximum Days Past Due of closed contract obtained from Credit Bureau.\n",
      "Str col: eir_270L - Interest rate.\n",
      "Str col: empl_employedtotal_800L - Employment length of a person.\n",
      "Str col: empl_industry_691L - Employment Industry of the person.\n",
      "Str col: equalitydataagreement_891L - Flag indicating sudden changes in client's social-demographic data (e.g. education, family status, housing type).\n",
      "Str col: equalityempfrom_62L - Flag indicating a sudden change in the client's length of employment.\n",
      "Str col: familystate_447L - Family state of the person.\n",
      "Str col: familystate_726L - Family State in previous application of applicant.\n",
      "Float col: firstquarter_103L - Number of results obtained from credit bureau in the first quarter.\n",
      "Float col: for3years_128L - Number of rejected applications in the past 3 years.\n",
      "Float col: for3years_504L - Client's credit history data over the last three years.\n",
      "Float col: for3years_584L - Number of cancellations in the last 3 years.\n",
      "Float col: formonth_118L - Number of rejections in a month.\n",
      "Float col: formonth_206L - Number of cancelations in the previous month.\n",
      "Float col: formonth_535L - Credit history for the last month.\n",
      "Float col: forquarter_1017L - Number of cancellations recorded in the credit bureau in the last quarter.\n",
      "Float col: forquarter_462L - Number of credit applications that were rejected in the last quarter.\n",
      "Float col: forquarter_634L - Credit history for the last quarter.\n",
      "Int col: fortoday_1092L - Client's credit history for today.\n",
      "Float col: forweek_1077L - Number of cancelations in the last week.\n",
      "Float col: forweek_528L - Credit history for the last week.\n",
      "Float col: forweek_601L - Number of rejected applications in the last week.\n",
      "Float col: foryear_618L - Number of application rejections in the previous year.\n",
      "Float col: foryear_818L - Number of cancelations that occurred in last year.\n",
      "Float col: foryear_850L - Credit history for the last year.\n",
      "Float col: fourthquarter_440L - Number of results in fourth quarter.\n",
      "Str col: gender_992L - Gender of a person.\n",
      "Int col: homephncnt_628L - Number of distinct home phones on client's application.\n",
      "Str col: housetype_905L - House type of the person.\n",
      "Str col: housingtype_772L - Type of housing of the person.\n",
      "Str col: incometype_1044T - Type of income of the person\n",
      "Str col: inittransactioncode_186L - Transaction type of the initial credit transaction.\n",
      "Str col: inittransactioncode_279L - Type of the initial transaction made in the previous application of the client.\n",
      "Float col: interesteffectiverate_369L - Interest rate on active contract.\n",
      "Float col: interestrate_311L - The interest rate of the active credit contract.\n",
      "Float col: interestrate_508L - Interest rate for a closed contract in the credit bureau.\n",
      "Float col: interestrategrace_34L - Interest rate during the grace period.\n",
      "Float col: interestrateyearly_538L - Annual interest rate for existing contract obtained from credit bureau.\n",
      "Str col: isbidproduct_1095L - Flag indicating if the product is a cross-sell.\n",
      "Str col: isbidproduct_390L - Flag for determining if the product is a cross-sell in previous applications.\n",
      "Str col: isbidproductrequest_292L - Flag indicating if the product is a cross-sell.\n",
      "Str col: isdebitcard_527L - Previous application flag indicating if product being applied for is a debit card.\n",
      "Str col: isdebitcard_729L - Flag indicating if the product is a debit card.\n",
      "Str col: isreference_387L - Flag indicating whether the person is a reference contact.\n",
      "Int col: lastdependentsnum_448L - Number of dependents in the client's last loan application.\n",
      "Str col: lastst_736L - Status of the client's previous credit application.\n",
      "Str col: maritalst_703L - Marital status of the client.\n",
      "Str col: mastercontrelectronic_519L - Flag indicating the existence of the master contract for the client.\n",
      "Str col: mastercontrexist_109L - Flag indicating whether or not the applicant has an existing master contract.\n",
      "Int col: mobilephncnt_593L - Number of persons with the same mobile phone number.\n",
      "Float col: monthsannuity_845L - Monthly annuity amount for the applicant.\n",
      "Float col: nominalrate_281L - Interest rate of the active contract.\n",
      "Float col: nominalrate_498L - Interest rate for closed contract.\n",
      "Int col: numactivecreds_622L - Number of active credits.\n",
      "Int col: numactivecredschannel_414L - Number of active credits.\n",
      "Int col: numactiverelcontr_750L - Number of active revolving credits.\n",
      "Int col: numberofcontrsvalue_258L - Number of active contracts in credit bureau.\n",
      "Int col: numberofcontrsvalue_358L - Number of closed credit contracts.\n",
      "Int col: numberofinstls_229L - Number of instalments on closed contract.\n",
      "Int col: numberofinstls_320L - Number of instalments of the active contract.\n",
      "Int col: numberofinstls_810L - Number of instalments for the active contract.\n",
      "Int col: numberofoutstandinstls_520L - Number of outstanding instalment for closed contract.\n",
      "Int col: numberofoutstandinstls_59L - Number of outstanding instalments for the active contracts.\n",
      "Int col: numberofoverdueinstlmax_1039L - Number of outstanding instalments for active contracts.\n",
      "Int col: numberofoverdueinstlmax_1151L - Maximum number of past due installments for a closed contract.\n",
      "Int col: numberofoverdueinstls_725L - Maximum number of past due instalments for an active contract.\n",
      "Int col: numberofoverdueinstls_834L - Number of past due instalments for a closed contract.\n",
      "Int col: numberofqueries_373L - Number of queries to credit bureau.\n",
      "Int col: numcontrs3months_479L - Number of contracts in last 3 months.\n",
      "Int col: numincomingpmts_3546848L - Number of incoming payments.\n",
      "Int col: numinstlallpaidearly3d_817L - Number of instalments paid at least 3 days prior to their due date.\n",
      "Int col: numinstls_657L - Number of instalments.\n",
      "Int col: numinstlsallpaid_934L - Number of paid instalments.\n",
      "Int col: numinstlswithdpd10_728L - Number of instalments that were overdue for 10 or more days.\n",
      "Int col: numinstlswithdpd5_4187116L - Number of instalments that were overdue by at least 5 days.\n",
      "Int col: numinstlswithoutdpd_562L - Number of instalments that were not past due date.\n",
      "Int col: numinstmatpaidtearly2d_4499204L - Number of instalments that have been paid more than 2 days before their due date.\n",
      "Int col: numinstpaid_4499208L - Number of paid instalments.\n",
      "Int col: numinstpaidearly_338L - Number of installments paid prior to the due date.\n",
      "Int col: numinstpaidearly3d_3546850L - Number of instalments paid more than three days before the due date.\n",
      "Int col: numinstpaidearly3dest_4493216L - Number of instalments that have been paid more than 3 days in advance of the due date.\n",
      "Int col: numinstpaidearly5d_1087L - Number of instalments paid more than 5 days prior to the due date.\n",
      "Int col: numinstpaidearly5dest_4493211L - Number of instalments that were paid more than 5 days before the due date.\n",
      "Int col: numinstpaidearly5dobd_4499205L - Number of installments paid more than 5 days prior to the due date.\n",
      "Int col: numinstpaidearlyest_4493214L - Number of instalments paid before the due date.\n",
      "Int col: numinstpaidlastcontr_4325080L - Number of paid installments from the client's last contract.\n",
      "Int col: numinstpaidlate1d_3546852L - Number of instalments paid more than 1 day past their due date.\n",
      "Int col: numinstregularpaid_973L - Number of fully paid regular installments in the client's previous contracts.\n",
      "Int col: numinstregularpaidest_4493210L - Number of fully paid regular installments on clients' previous contracts.\n",
      "Int col: numinsttopaygr_769L - Number of unpaid instalments.\n",
      "Int col: numinsttopaygrest_4493213L - Number of unpaid instalments.\n",
      "Int col: numinstunpaidmax_3546851L - Maximum number of unpaid instalments.\n",
      "Int col: numinstunpaidmaxest_4493212L - Maximum number of unpaid instalments.\n",
      "Int col: numnotactivated_1143L - Number of non-activated credits.\n",
      "Int col: numpmtchanneldd_318L - Number of previous loan contracts for the applicant that had direct debit as payment channel.\n",
      "Int col: numrejects9m_859L - Number of credit applications that were rejected in the last 9 months.\n",
      "Str col: opencred_647L - Number of active loans from the previous application.\n",
      "Float col: overdueamountmaxdatemonth_284T - Month when the maximum past due amount occurred for a closed contract.\n",
      "Float col: overdueamountmaxdatemonth_365T - Month when maximum past due amount occurred for an active contract.\n",
      "Float col: overdueamountmaxdatemonth_494T - Month when the maximum past due amount was recorded for an active contract with the credit bureau.\n",
      "Float col: overdueamountmaxdateyear_2T - Year when the maximum past due amount occurred for active contracts.\n",
      "Float col: overdueamountmaxdateyear_432T - Year when max past due amount occurred for active contract.\n",
      "Float col: overdueamountmaxdateyear_994T - Year when maximum past due amount occurred for closed contract.\n",
      "Str col: paytype_783L - Type of payment.\n",
      "Str col: paytype1st_925L - Type of first payment of the client.\n",
      "Float col: pctinstlsallpaidearl3d_427L - Percentage of installments paid at least 3 days prior to the due date.\n",
      "Float col: pctinstlsallpaidlat10d_839L - Percentage of installments that were paid 10 or more days after the due date.\n",
      "Float col: pctinstlsallpaidlate1d_3546856L - Percentage of installments that are paid 1 or more days after the due date.\n",
      "Float col: pctinstlsallpaidlate4d_3546849L - Percentage of installments that were paid 4 or more days past their due date.\n",
      "Float col: pctinstlsallpaidlate6d_3546844L - Percentage of installments that were paid 6 or more days past their due date.\n",
      "Str col: periodicityofpmts_1102L - Frequency of instalments for a closed contract.\n",
      "Str col: periodicityofpmts_837L - Frequency of instalments for an active contract.\n",
      "Str col: periodicityofpmts_997L - Frequency of instalments for active credit contracts.\n",
      "Str col: personindex_1023L - Order of the person specified on the application form.\n",
      "Str col: persontype_1072L - Person type.\n",
      "Str col: persontype_792L - Person type.\n",
      "Int col: pmtcount_4527229L - Number of tax deductions.\n",
      "Int col: pmtcount_4955617L - Number of tax deductions.\n",
      "Int col: pmtcount_693L - Number of tax deductions.\n",
      "Int col: pmtnum_254L - Total number of loan payments made by the client.\n",
      "Int col: pmtnum_8L - Number of payments made for the previous application.\n",
      "Int col: pmtnumpending_403L - Number of pending payments for active contract.\n",
      "Int col: pmts_month_158T - Month of payment for a closed contract (num_group1 - existing contract, num_group2 - payment).\n",
      "Int col: pmts_month_706T - Month of payment for active contract (num_group1 - terminated contract, num_group2 - payment).\n",
      "Int col: pmts_year_1139T - Year of payment for an active contract (num_group1 - existing contract, num_group2 - payment).\n",
      "Int col: pmts_year_507T - Payment year for a closed credit contract (num_group1 - terminated contract, num_group2 - payment).\n",
      "Int col: pmtscount_423L - Number of tax deduction payments.\n",
      "Int col: prolongationcount_1120L - Count of prolongations on terminated contract according to credit bureau.\n",
      "Int col: prolongationcount_599L - Count of active contract prolongations.\n",
      "Str col: relatedpersons_role_762T - Relationship type of a client's related person (num_group1 - person, num_group2 - related person).\n",
      "Str col: relationshiptoclient_415T - Relationship to the client.\n",
      "Str col: relationshiptoclient_642T - Relationship to the client.\n",
      "Str col: remitter_829L - Flag indicating whether the client is a remitter.\n",
      "Str col: requesttype_4525192L - Tax authority request type.\n",
      "Str col: riskassesment_302T - Estimated probability that the client will default on their credit obligation within the next year.\n",
      "Str col: riskassesment_940T - Estimate of client's creditworthiness.\n",
      "Str col: role_1084L - Type of contact role.\n",
      "Str col: role_993L - Person's role.\n",
      "Str col: safeguarantyflag_411L - Flag indicating if client is using a flexible product with additional safeguard garanty.\n",
      "Float col: secondquarter_766L - Number of results in second quarter.\n",
      "Int col: sellerplacecnt_915L - Number of sellerplaces where the same client's document was used.\n",
      "Int col: sellerplacescnt_216L - Number of sellerplaces where the same client's mobile phone was used.\n",
      "Str col: sex_738L - Gender of the client.\n",
      "Str col: status_219L - Previous application status.\n",
      "Str col: tenor_203L - Number of instalments in the previous application.\n",
      "Float col: thirdquarter_1082L - Number of results in third quarter.\n",
      "Str col: twobodfilling_608L - Type of application process.\n",
      "Str col: type_25L - Contact type of a person.\n",
      "Str col: typesuite_864L - Persons accompanying the client during the loan application process.\n"
     ]
    }
   ],
   "source": [
    "int_patterns = [\n",
    "    \"num\", \"cnt\", \"quantity\", \"days\", \"count\", \"_month\", \"_year\", \"today\"\n",
    "]\n",
    "numeric_patterns = [\n",
    "    \"num\", \"cnt\", \"quantity\", \"days\", \"count\", \"quarter\", \"year\", \"month\",\n",
    "    \"amount\", \"rate\", \"transactions\", \"week\", \"sum\", \"pct\"\n",
    "]\n",
    "\n",
    "for col, definition in feature_definitions.items():\n",
    "    if col[-1] in (\"T\", \"L\"):\n",
    "        if any(s in col for s in int_patterns):\n",
    "            print(f\"Int col: {col} - {definition}\")\n",
    "        elif any(s in col for s in numeric_patterns):\n",
    "            print(f\"Float col: {col} - {definition}\")\n",
    "        else:\n",
    "            print(f\"Str col: {col} - {definition}\")"
   ]
  },
  {
   "cell_type": "code",
   "execution_count": null,
   "id": "aa73b009",
   "metadata": {},
   "outputs": [],
   "source": []
  }
 ],
 "metadata": {
  "kernelspec": {
   "display_name": "Python 3 (ipykernel)",
   "language": "python",
   "name": "python3"
  },
  "language_info": {
   "codemirror_mode": {
    "name": "ipython",
    "version": 3
   },
   "file_extension": ".py",
   "mimetype": "text/x-python",
   "name": "python",
   "nbconvert_exporter": "python",
   "pygments_lexer": "ipython3",
   "version": "3.10.11"
  },
  "toc": {
   "base_numbering": 1,
   "nav_menu": {},
   "number_sections": true,
   "sideBar": true,
   "skip_h1_title": false,
   "title_cell": "Table of Contents",
   "title_sidebar": "Contents",
   "toc_cell": false,
   "toc_position": {
    "height": "calc(100% - 180px)",
    "left": "10px",
    "top": "150px",
    "width": "220.625px"
   },
   "toc_section_display": true,
   "toc_window_display": true
  }
 },
 "nbformat": 4,
 "nbformat_minor": 5
}
